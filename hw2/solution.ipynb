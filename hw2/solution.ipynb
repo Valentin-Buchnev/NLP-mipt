{
 "cells": [
  {
   "cell_type": "code",
   "execution_count": 1,
   "metadata": {},
   "outputs": [],
   "source": [
    "import numpy as np\n",
    "import pandas as pd\n",
    "import scipy.stats as sps\n",
    "import nltk\n",
    "import matplotlib.pyplot as plt\n",
    "import sklearn_crfsuite\n",
    "import gensim\n",
    "import sys\n",
    "import warnings\n",
    "\n",
    "from collections import Counter\n",
    "from tqdm import tqdm_notebook\n",
    "from sklearn.metrics import make_scorer\n",
    "from sklearn_crfsuite import scorers\n",
    "from sklearn_crfsuite import metrics\n",
    "from sklearn.model_selection import RandomizedSearchCV\n",
    "from sklearn.model_selection import train_test_split\n",
    "\n",
    "warnings.filterwarnings(\"ignore\")\n",
    "sys.path.append(\"study/5course/NLP-mipt/hw2/\")\n",
    "\n",
    "from src.learner import NerLearner, validate_step, predict"
   ]
  },
  {
   "cell_type": "markdown",
   "metadata": {},
   "source": [
    "---\n",
    "# Part 1 Analyze and prepare."
   ]
  },
  {
   "cell_type": "code",
   "execution_count": 2,
   "metadata": {},
   "outputs": [],
   "source": [
    "train = pd.read_csv('train.csv', sep=',')\n",
    "test = pd.read_csv('valid_tokens.csv', sep=',')"
   ]
  },
  {
   "cell_type": "code",
   "execution_count": 3,
   "metadata": {},
   "outputs": [
    {
     "data": {
      "text/html": [
       "<div>\n",
       "<style scoped>\n",
       "    .dataframe tbody tr th:only-of-type {\n",
       "        vertical-align: middle;\n",
       "    }\n",
       "\n",
       "    .dataframe tbody tr th {\n",
       "        vertical-align: top;\n",
       "    }\n",
       "\n",
       "    .dataframe thead th {\n",
       "        text-align: right;\n",
       "    }\n",
       "</style>\n",
       "<table border=\"1\" class=\"dataframe\">\n",
       "  <thead>\n",
       "    <tr style=\"text-align: right;\">\n",
       "      <th></th>\n",
       "      <th>Unnamed: 0</th>\n",
       "      <th>tokens</th>\n",
       "      <th>tags</th>\n",
       "    </tr>\n",
       "  </thead>\n",
       "  <tbody>\n",
       "    <tr>\n",
       "      <td>0</td>\n",
       "      <td>0</td>\n",
       "      <td>В Пакистане роходят акции исламистов против от...</td>\n",
       "      <td>O B_LOC O O O O O B_ORG I_ORG O B_PER</td>\n",
       "    </tr>\n",
       "    <tr>\n",
       "      <td>1</td>\n",
       "      <td>1</td>\n",
       "      <td>Как сообщает Пакистанская служба Радио Свобода...</td>\n",
       "      <td>O O B_ORG I_ORG I_ORG I_ORG O O B_LOC O O O O ...</td>\n",
       "    </tr>\n",
       "    <tr>\n",
       "      <td>2</td>\n",
       "      <td>2</td>\n",
       "      <td>В городе Карачи ющие жгли шины .</td>\n",
       "      <td>O O B_LOC O O O O</td>\n",
       "    </tr>\n",
       "    <tr>\n",
       "      <td>3</td>\n",
       "      <td>3</td>\n",
       "      <td>В провинции Пенджаб толкновения с полицией .</td>\n",
       "      <td>O O B_LOC O O O O</td>\n",
       "    </tr>\n",
       "    <tr>\n",
       "      <td>4</td>\n",
       "      <td>4</td>\n",
       "      <td>Пакистанские силы безопасности установили охра...</td>\n",
       "      <td>O O O O O O O O O</td>\n",
       "    </tr>\n",
       "  </tbody>\n",
       "</table>\n",
       "</div>"
      ],
      "text/plain": [
       "   Unnamed: 0                                             tokens  \\\n",
       "0           0  В Пакистане роходят акции исламистов против от...   \n",
       "1           1  Как сообщает Пакистанская служба Радио Свобода...   \n",
       "2           2                   В городе Карачи ющие жгли шины .   \n",
       "3           3       В провинции Пенджаб толкновения с полицией .   \n",
       "4           4  Пакистанские силы безопасности установили охра...   \n",
       "\n",
       "                                                tags  \n",
       "0              O B_LOC O O O O O B_ORG I_ORG O B_PER  \n",
       "1  O O B_ORG I_ORG I_ORG I_ORG O O B_LOC O O O O ...  \n",
       "2                                  O O B_LOC O O O O  \n",
       "3                                  O O B_LOC O O O O  \n",
       "4                                  O O O O O O O O O  "
      ]
     },
     "execution_count": 3,
     "metadata": {},
     "output_type": "execute_result"
    }
   ],
   "source": [
    "train.head()"
   ]
  },
  {
   "cell_type": "code",
   "execution_count": 4,
   "metadata": {},
   "outputs": [
    {
     "name": "stdout",
     "output_type": "stream",
     "text": [
      "train len is: 3788\n",
      "test len is: 2714\n"
     ]
    }
   ],
   "source": [
    "print('train len is: %d' % len(train))\n",
    "print('test len is: %d' % len(test))"
   ]
  },
  {
   "cell_type": "markdown",
   "metadata": {},
   "source": [
    "Удалим nan значения из данных"
   ]
  },
  {
   "cell_type": "code",
   "execution_count": 5,
   "metadata": {},
   "outputs": [],
   "source": [
    "train = train[train['tokens'].notna()]\n",
    "test = test[test['tokens'].notna()]"
   ]
  },
  {
   "cell_type": "code",
   "execution_count": 6,
   "metadata": {},
   "outputs": [
    {
     "name": "stdout",
     "output_type": "stream",
     "text": [
      "train len is: 3783\n",
      "test len is: 2714\n"
     ]
    }
   ],
   "source": [
    "print('train len is: %d' % len(train))\n",
    "print('test len is: %d' % len(test))"
   ]
  },
  {
   "cell_type": "markdown",
   "metadata": {},
   "source": [
    "---\n",
    "###### 1.1. Analyze distribution of labels and plot.\n",
    "---"
   ]
  },
  {
   "cell_type": "code",
   "execution_count": 7,
   "metadata": {},
   "outputs": [],
   "source": [
    "labels = ' '.join(list(train['tags'])).split(' ')\n",
    "labels_unique = np.unique(labels)"
   ]
  },
  {
   "cell_type": "code",
   "execution_count": 8,
   "metadata": {},
   "outputs": [
    {
     "name": "stdout",
     "output_type": "stream",
     "text": [
      "amount of labels is 59029\n",
      "amount of unique labels is 11\n",
      "labels: ['B_EVT' 'B_LOC' 'B_ORG' 'B_PER' 'B_PRO' 'I_EVT' 'I_LOC' 'I_ORG' 'I_PER'\n",
      " 'I_PRO' 'O']\n"
     ]
    }
   ],
   "source": [
    "print('amount of labels is %d' % len(labels))\n",
    "print('amount of unique labels is %d' % len(labels_unique))\n",
    "print('labels: ' + str(labels_unique))"
   ]
  },
  {
   "cell_type": "code",
   "execution_count": 9,
   "metadata": {},
   "outputs": [
    {
     "data": {
      "image/png": "[encoded data removed]",
      "text/plain": [
       "<Figure size 1080x576 with 1 Axes>"
      ]
     },
     "metadata": {
      "needs_background": "light"
     },
     "output_type": "display_data"
    }
   ],
   "source": [
    "labels_dist = Counter(labels)\n",
    "\n",
    "plt.figure(figsize=(15, 8))\n",
    "plt.hist(labels, bins=np.arange(11) - 0.5)\n",
    "plt.xticks(0.5 + np.arange(len(labels_dist.keys())), labels_dist.keys())\n",
    "plt.title('Distribution of labels', fontsize=24)\n",
    "plt.xlabel('label', fontsize=16)\n",
    "plt.ylabel('count', fontsize=16)\n",
    "plt.show()"
   ]
  },
  {
   "cell_type": "markdown",
   "metadata": {},
   "source": [
    "---\n",
    "Как видим, большая часть лейблов не относится ни к одному из классов.\n",
    "\n",
    "Посмотрим на распределение лейблов, относящихся к какому-то из классов."
   ]
  },
  {
   "cell_type": "code",
   "execution_count": 10,
   "metadata": {},
   "outputs": [
    {
     "data": {
      "image/png": "[encoded data removed]",
      "text/plain": [
       "<Figure size 1080x576 with 1 Axes>"
      ]
     },
     "metadata": {
      "needs_background": "light"
     },
     "output_type": "display_data"
    }
   ],
   "source": [
    "labels_wo_O = list(filter(lambda x: x != 'O', labels))\n",
    "\n",
    "labels_dist = Counter(labels_wo_O)\n",
    "\n",
    "plt.figure(figsize=(15, 8))\n",
    "plt.hist(labels_wo_O, bins=np.arange(11) - 0.5)\n",
    "plt.xticks(np.arange(len(labels_dist.keys()) + 1), labels_dist.keys())\n",
    "plt.title('Distribution of labels', fontsize=24)\n",
    "plt.xlabel('label', fontsize=16)\n",
    "plt.ylabel('count', fontsize=16)\n",
    "plt.show()"
   ]
  },
  {
   "cell_type": "markdown",
   "metadata": {},
   "source": [
    "---\n",
    "###### 1.2. Remove unexcepted labels from data (if need) and describe how (if need).\n",
    "\n",
    "В задаче нас просят классифицировать слова на 6 классов, в то время как в датасете встречаются 11 классов.\n",
    "\n",
    "Удалим предложения, в которых встречаются неуместные лейблы (~250 предложений). Это самый простой подход, который уменьшит нам объём данных для обучения, но для начала сойдет. (можно еще заменить все unexpected labels на \"O\" и сравнить результаты).\n",
    "\n",
    "Также удалим плохие предложения, после токенизации которых количество меток не совпадает с количеством токенов (~70 предложений)."
   ]
  },
  {
   "cell_type": "code",
   "execution_count": 11,
   "metadata": {},
   "outputs": [
    {
     "name": "stdout",
     "output_type": "stream",
     "text": [
      "deleted sentences are 8.41 percents of train set\n"
     ]
    }
   ],
   "source": [
    "labels_remain = set(['B_ORG', 'I_PER', 'I_LOC', 'I_ORG', 'B_LOC', 'B_PER', 'O'])\n",
    "labels = list(train['tags'])\n",
    "\n",
    "is_remained = [set(l.split(' ')).issubset(labels_remain) for l in labels]\n",
    "\n",
    "percentage = 100. * (len(train) - sum(is_remained)) / len(train)\n",
    "train = train[is_remained]\n",
    "\n",
    "print('deleted sentences are %.2f percents of train set' % percentage)"
   ]
  },
  {
   "cell_type": "markdown",
   "metadata": {},
   "source": [
    "---\n",
    "# Part 2 Your own baseline.\n",
    "###### 2.1 Make your own baseline with this tutorial https://sklearn-crfsuite.readthedocs.io/en/latest/tutorial.html."
   ]
  },
  {
   "cell_type": "code",
   "execution_count": 12,
   "metadata": {},
   "outputs": [],
   "source": [
    "def word2features(sent, i):\n",
    "    word = sent[i][0]\n",
    "    postag = sent[i][1]\n",
    "\n",
    "    features = {\n",
    "        'word.lower()': word.lower(),\n",
    "        'word[-3:]': word[-3:],\n",
    "        'word[-2:]': word[-2:],\n",
    "        'word.isupper()': word.isupper(),\n",
    "        'word.istitle()': word.istitle(),\n",
    "        'word.isdigit()': word.isdigit(),\n",
    "        'postag': postag,\n",
    "        'postag[:2]': postag[:2],\n",
    "    }\n",
    "    if i > 0:\n",
    "        word1 = sent[i-1][0]\n",
    "        postag1 = sent[i-1][1]\n",
    "        features.update({\n",
    "            '-1:word.lower()': word1.lower(),\n",
    "            '-1:word.istitle()': word1.istitle(),\n",
    "            '-1:word.isupper()': word1.isupper(),\n",
    "            '-1:postag': postag1,\n",
    "            '-1:postag[:2]': postag1[:2],\n",
    "        })\n",
    "    else:\n",
    "        features['BOS'] = True\n",
    "\n",
    "    if i < len(sent)-1:\n",
    "        word1 = sent[i+1][0]\n",
    "        postag1 = sent[i+1][1]\n",
    "        features.update({\n",
    "            '+1:word.lower()': word1.lower(),\n",
    "            '+1:word.istitle()': word1.istitle(),\n",
    "            '+1:word.isupper()': word1.isupper(),\n",
    "            '+1:postag': postag1,\n",
    "            '+1:postag[:2]': postag1[:2],\n",
    "        })\n",
    "    else:\n",
    "        features['EOS'] = True\n",
    "\n",
    "    return features\n",
    "\n",
    "\n",
    "def sent2features(sent):\n",
    "    return [word2features(sent, i) for i in range(len(sent))]\n",
    "\n",
    "def sent2labels(sent):\n",
    "    return [label for token, postag, label in sent]\n",
    "\n",
    "def sent2tokens(sent):\n",
    "    return [token for token, postag, label in sent]"
   ]
  },
  {
   "cell_type": "code",
   "execution_count": 13,
   "metadata": {},
   "outputs": [
    {
     "data": {
      "application/vnd.jupyter.widget-view+json": {
       "model_id": "ede6aad6dec54a2bad072559d401ac19",
       "version_major": 2,
       "version_minor": 0
      },
      "text/plain": [
       "HBox(children=(IntProgress(value=1, bar_style='info', max=1), HTML(value='')))"
      ]
     },
     "metadata": {},
     "output_type": "display_data"
    },
    {
     "name": "stdout",
     "output_type": "stream",
     "text": [
      "\n"
     ]
    },
    {
     "data": {
      "application/vnd.jupyter.widget-view+json": {
       "model_id": "8f3eff26298248b395346c4c157f5070",
       "version_major": 2,
       "version_minor": 0
      },
      "text/plain": [
       "HBox(children=(IntProgress(value=1, bar_style='info', max=1), HTML(value='')))"
      ]
     },
     "metadata": {},
     "output_type": "display_data"
    },
    {
     "name": "stdout",
     "output_type": "stream",
     "text": [
      "\n"
     ]
    }
   ],
   "source": [
    "X_train = []\n",
    "y_train = []\n",
    "X_test = []\n",
    "\n",
    "for i, row in tqdm_notebook(train.iterrows()):\n",
    "    tokens = row[1].split(' ')\n",
    "    pos = nltk.pos_tag(tokens)\n",
    "    X_train.append(sent2features(pos))\n",
    "    y_train.append(row[2].split(' '))\n",
    "    \n",
    "for i, row in tqdm_notebook(test.iterrows()):\n",
    "    tokens = row[1].split(' ')\n",
    "    pos = nltk.pos_tag(tokens)\n",
    "    X_test.append(sent2features(pos))"
   ]
  },
  {
   "cell_type": "code",
   "execution_count": 13,
   "metadata": {},
   "outputs": [
    {
     "name": "stdout",
     "output_type": "stream",
     "text": [
      "CPU times: user 5.79 s, sys: 51.1 ms, total: 5.84 s\n",
      "Wall time: 5.88 s\n"
     ]
    },
    {
     "data": {
      "text/plain": [
       "CRF(algorithm='lbfgs', all_possible_states=None, all_possible_transitions=True,\n",
       "    averaging=None, c=None, c1=0.1, c2=0.1, calibration_candidates=None,\n",
       "    calibration_eta=None, calibration_max_trials=None, calibration_rate=None,\n",
       "    calibration_samples=None, delta=None, epsilon=None, error_sensitive=None,\n",
       "    gamma=None, keep_tempfiles=None, linesearch=None, max_iterations=100,\n",
       "    max_linesearch=None, min_freq=None, model_filename=None, num_memories=None,\n",
       "    pa_type=None, period=None, trainer_cls=None, variance=None, verbose=False)"
      ]
     },
     "execution_count": 13,
     "metadata": {},
     "output_type": "execute_result"
    }
   ],
   "source": [
    "%%time\n",
    "crf = sklearn_crfsuite.CRF(\n",
    "    algorithm='lbfgs',\n",
    "    c1=0.1,\n",
    "    c2=0.1,\n",
    "    max_iterations=100,\n",
    "    all_possible_transitions=True\n",
    ")\n",
    "crf.fit(X_train, y_train)"
   ]
  },
  {
   "cell_type": "code",
   "execution_count": 14,
   "metadata": {},
   "outputs": [
    {
     "data": {
      "text/plain": [
       "0.9927993427213615"
      ]
     },
     "execution_count": 14,
     "metadata": {},
     "output_type": "execute_result"
    }
   ],
   "source": [
    "y_pred = crf.predict(X_train)\n",
    "\n",
    "metrics.flat_f1_score(y_train, y_pred,\n",
    "                     average='macro', labels=list(crf.classes_))"
   ]
  },
  {
   "cell_type": "markdown",
   "metadata": {},
   "source": [
    "---\n",
    "Все обучается, перейдём к кросс-валидации."
   ]
  },
  {
   "cell_type": "markdown",
   "metadata": {},
   "source": [
    "---\n",
    "###### 2.2 Make crossvalidation."
   ]
  },
  {
   "cell_type": "code",
   "execution_count": 258,
   "metadata": {},
   "outputs": [],
   "source": [
    "# define fixed parameters and parameters to search\n",
    "crf = sklearn_crfsuite.CRF(\n",
    "    algorithm='lbfgs',\n",
    "    max_iterations=100,\n",
    "    all_possible_transitions=True\n",
    ")\n",
    "params_space = {\n",
    "    'c1': sps.expon(scale=0.5),\n",
    "    'c2': sps.expon(scale=0.05),\n",
    "}\n",
    "\n",
    "# use the same metric for evaluation\n",
    "f1_scorer = make_scorer(metrics.flat_f1_score,\n",
    "                        average='macro')\n",
    "\n",
    "# search\n",
    "rs = RandomizedSearchCV(crf, params_space,\n",
    "                        cv=5,\n",
    "                        verbose=1,\n",
    "                        n_jobs=-1,\n",
    "                        n_iter=50,\n",
    "                        scoring=f1_scorer)"
   ]
  },
  {
   "cell_type": "code",
   "execution_count": 261,
   "metadata": {},
   "outputs": [
    {
     "name": "stdout",
     "output_type": "stream",
     "text": [
      "Fitting 5 folds for each of 50 candidates, totalling 250 fits\n"
     ]
    },
    {
     "name": "stderr",
     "output_type": "stream",
     "text": [
      "[Parallel(n_jobs=-1)]: Using backend LokyBackend with 4 concurrent workers.\n",
      "[Parallel(n_jobs=-1)]: Done  42 tasks      | elapsed:  3.1min\n",
      "[Parallel(n_jobs=-1)]: Done 192 tasks      | elapsed: 14.0min\n",
      "[Parallel(n_jobs=-1)]: Done 250 out of 250 | elapsed: 18.1min finished\n"
     ]
    },
    {
     "name": "stdout",
     "output_type": "stream",
     "text": [
      "CPU times: user 16min 29s, sys: 5 s, total: 16min 34s\n",
      "Wall time: 18min 15s\n"
     ]
    },
    {
     "data": {
      "text/plain": [
       "RandomizedSearchCV(cv=5, error_score='raise-deprecating',\n",
       "                   estimator=CRF(algorithm='lbfgs', all_possible_states=None,\n",
       "                                 all_possible_transitions=True, averaging=None,\n",
       "                                 c=None, c1=None, c2=None,\n",
       "                                 calibration_candidates=None,\n",
       "                                 calibration_eta=None,\n",
       "                                 calibration_max_trials=None,\n",
       "                                 calibration_rate=None,\n",
       "                                 calibration_samples=None, delta=None,\n",
       "                                 epsilon=None, error_sensitive=None,...\n",
       "                                 verbose=False),\n",
       "                   iid='warn', n_iter=50, n_jobs=-1,\n",
       "                   param_distributions={'c1': <scipy.stats._distn_infrastructure.rv_frozen object at 0x7f824d545550>,\n",
       "                                        'c2': <scipy.stats._distn_infrastructure.rv_frozen object at 0x7f824d50afd0>},\n",
       "                   pre_dispatch='2*n_jobs', random_state=None, refit=True,\n",
       "                   return_train_score=False,\n",
       "                   scoring=make_scorer(flat_f1_score, average=macro),\n",
       "                   verbose=1)"
      ]
     },
     "execution_count": 261,
     "metadata": {},
     "output_type": "execute_result"
    }
   ],
   "source": [
    "%%time\n",
    "rs.fit(X_train, y_train)"
   ]
  },
  {
   "cell_type": "code",
   "execution_count": 297,
   "metadata": {},
   "outputs": [
    {
     "name": "stdout",
     "output_type": "stream",
     "text": [
      "best params: {'c1': 0.0036354063261784474, 'c2': 0.06156758465482312}\n",
      "best CV score: 0.7289647227932926\n",
      "model size: 1.75M\n"
     ]
    }
   ],
   "source": [
    "print('best params:', rs.best_params_)\n",
    "print('best CV score:', rs.best_score_)\n",
    "print('model size: {:0.2f}M'.format(rs.best_estimator_.size_ / 1000000))"
   ]
  },
  {
   "cell_type": "code",
   "execution_count": 300,
   "metadata": {},
   "outputs": [
    {
     "data": {
      "text/plain": [
       "CRF(algorithm='lbfgs', all_possible_states=None, all_possible_transitions=True,\n",
       "    averaging=None, c=None, c1=0.0036354063261784474, c2=0.06156758465482312,\n",
       "    calibration_candidates=None, calibration_eta=None,\n",
       "    calibration_max_trials=None, calibration_rate=None,\n",
       "    calibration_samples=None, delta=None, epsilon=None, error_sensitive=None,\n",
       "    gamma=None, keep_tempfiles=None, linesearch=None, max_iterations=100,\n",
       "    max_linesearch=None, min_freq=None, model_filename=None, num_memories=None,\n",
       "    pa_type=None, period=None, trainer_cls=None, variance=None, verbose=False)"
      ]
     },
     "execution_count": 300,
     "metadata": {},
     "output_type": "execute_result"
    }
   ],
   "source": [
    "crf = sklearn_crfsuite.CRF(\n",
    "    algorithm='lbfgs',\n",
    "    c1=rs.best_params_['c1'],\n",
    "    c2=rs.best_params_['c2'],\n",
    "    max_iterations=100,\n",
    "    all_possible_transitions=True\n",
    ")\n",
    "\n",
    "crf.fit(X_train, y_train)"
   ]
  },
  {
   "cell_type": "code",
   "execution_count": 301,
   "metadata": {},
   "outputs": [],
   "source": [
    "y_pred = crf.predict(X_test)"
   ]
  },
  {
   "cell_type": "code",
   "execution_count": 302,
   "metadata": {},
   "outputs": [],
   "source": [
    "lbl_dict = {'B_ORG': 0, 'I_PER': 1, 'I_LOC': 2, 'I_ORG': 3, 'B_LOC': 4, 'B_PER': 5, 'O': 6}\n",
    "\n",
    "submission_list = []\n",
    "\n",
    "for row in y_pred:\n",
    "    for lbl in row:\n",
    "        submission_list.append(lbl_dict[lbl])"
   ]
  },
  {
   "cell_type": "code",
   "execution_count": 309,
   "metadata": {},
   "outputs": [],
   "source": [
    "submission = pd.DataFrame({'Id': np.arange(len(submission_list)), 'Predicted': submission_list})"
   ]
  },
  {
   "cell_type": "code",
   "execution_count": 304,
   "metadata": {},
   "outputs": [],
   "source": [
    "submission.to_csv('submission_baseline.csv', index=False)"
   ]
  },
  {
   "cell_type": "markdown",
   "metadata": {},
   "source": [
    "---\n",
    "Данный submission набрал 0.615 f1-score на тестовых данных на kaggle с гиперпараметрами $\\text{c1}=0.0036$, $\\text{c2}=0.061$.\n",
    "\n",
    "Использовавшиеся фичи:\n",
    "\n",
    "1. word.lower() - токен в нижнем регистре\n",
    "2. word.isupper() - флаг, записан ли токен в верхнем регистре\n",
    "3. word.istitle() - флаг, начинается ли токен с заглавной буквы\n",
    "4. postag - тэг токена\n",
    "5. postag[:2] - первые 2 символа тэга\n",
    "6. фичи 1-5 для соселних токенов\n",
    "7. word.isdigit() - флаг, является ли токен числом\n",
    "8. word[-3:] - суффикс токена длины 3\n",
    "9. word[-2:] - суффикс токена длины 2\n",
    "10. BOS - флаг, является ли токен первым в предложении\n",
    "11. EOS - флаг, является ли токен последним в предложении\n",
    "\n",
    "Все эти фичи взяты из туториала https://sklearn-crfsuite.readthedocs.io/en/latest/tutorial.html"
   ]
  },
  {
   "cell_type": "markdown",
   "metadata": {},
   "source": [
    "---\n",
    "# Part 3. Your favorite ml algorithm."
   ]
  },
  {
   "cell_type": "markdown",
   "metadata": {},
   "source": [
    "---\n",
    "###### 3.1 Make submission to leaderboard and beat a baseline with your favorite ML algorithm (0.55 macro f1).\n",
    "\n",
    "подход №1: rusVectores embedding + BiLSTM + CRF"
   ]
  },
  {
   "cell_type": "markdown",
   "metadata": {},
   "source": [
    "---\n",
    "разобъем данные на обучение и валидацию"
   ]
  },
  {
   "cell_type": "code",
   "execution_count": 49,
   "metadata": {},
   "outputs": [],
   "source": [
    "train_data, val_data = train_test_split(train, test_size=0.2, random_state=42)\n",
    "test_data = test.copy()\n",
    "\n",
    "labels = []\n",
    "for i, row in test_data.iterrows():\n",
    "    labels.append(' '.join(['O'] * len(row[1].split(' '))))\n",
    "\n",
    "test_data['labels'] = labels\n",
    "\n",
    "train_data.columns = ['id', 'text', 'labels']\n",
    "val_data.columns = ['id', 'text', 'labels']\n",
    "test_data.columns = ['id', 'text', 'labels']"
   ]
  },
  {
   "cell_type": "code",
   "execution_count": 50,
   "metadata": {},
   "outputs": [],
   "source": [
    "train_data.to_csv('train_data.csv', sep='\\t')\n",
    "val_data.to_csv('val_data.csv', sep='\\t')\n",
    "test_data.to_csv('test_data.csv', sep='\\t')"
   ]
  },
  {
   "cell_type": "markdown",
   "metadata": {},
   "source": [
    "---\n",
    "загрузим модель эмбеддингов с rusVectores"
   ]
  },
  {
   "cell_type": "code",
   "execution_count": 51,
   "metadata": {},
   "outputs": [
    {
     "name": "stderr",
     "output_type": "stream",
     "text": [
      "INFO:gensim.utils:loading Word2VecKeyedVectors object from model.model\n",
      "INFO:gensim.utils:loading vectors from model.model.vectors.npy with mmap=None\n",
      "INFO:gensim.utils:loading vectors_vocab from model.model.vectors_vocab.npy with mmap=None\n",
      "INFO:gensim.utils:loading vectors_ngrams from model.model.vectors_ngrams.npy with mmap=None\n",
      "INFO:gensim.utils:setting ignored attribute vectors_norm to None\n",
      "INFO:gensim.utils:setting ignored attribute vectors_vocab_norm to None\n",
      "INFO:gensim.utils:setting ignored attribute vectors_ngrams_norm to None\n",
      "INFO:gensim.utils:setting ignored attribute buckets_word to None\n",
      "INFO:gensim.utils:loaded model.model\n"
     ]
    }
   ],
   "source": [
    "model = gensim.models.KeyedVectors.load('model.model')"
   ]
  },
  {
   "cell_type": "code",
   "execution_count": 52,
   "metadata": {},
   "outputs": [],
   "source": [
    "learn = NerLearner(\n",
    "    train_df_path=\"~/study/5course/NLP-mipt/hw2/train_data.csv\",\n",
    "    valid_df_path=\"~/study/5course/NLP-mipt/hw2/val_data.csv\",\n",
    "    test_df_path=\"~/study/5course/NLP-mipt/hw2/test_data.csv\",\n",
    "    embedder=model,\n",
    "    tensorboard_dir=\"logs\",\n",
    "    hidden_dim=1024,\n",
    "    lr=0.0004,\n",
    "    use_embeds=True\n",
    ")"
   ]
  },
  {
   "cell_type": "code",
   "execution_count": 53,
   "metadata": {},
   "outputs": [
    {
     "data": {
      "text/plain": [
       "11434548"
      ]
     },
     "execution_count": 53,
     "metadata": {},
     "output_type": "execute_result"
    }
   ],
   "source": [
    "sum([p.numel() for p in learn.model.parameters() if p.requires_grad])"
   ]
  },
  {
   "cell_type": "code",
   "execution_count": 54,
   "metadata": {},
   "outputs": [
    {
     "data": {
      "text/plain": [
       "BiLSTMCRF(\n",
       "  (embeddings): Embedding(25238, 300)\n",
       "  (lstm): BiLSTM(\n",
       "    (dropout): Dropout(p=0.3, inplace=False)\n",
       "    (lstm): LSTM(300, 512, batch_first=True, bidirectional=True)\n",
       "  )\n",
       "  (crf): CRFDecoder(\n",
       "    (input_dropout): Dropout(p=0.5, inplace=False)\n",
       "    (linear): Linears(\n",
       "      (linears): ModuleList(\n",
       "        (0): Linear(in_features=1024, out_features=512, bias=True)\n",
       "      )\n",
       "      (output_linear): Linear(in_features=512, out_features=8, bias=True)\n",
       "    )\n",
       "    (crf): CRF()\n",
       "  )\n",
       ")"
      ]
     },
     "execution_count": 54,
     "metadata": {},
     "output_type": "execute_result"
    }
   ],
   "source": [
    "learn.model"
   ]
  },
  {
   "cell_type": "code",
   "execution_count": 55,
   "metadata": {
    "scrolled": false
   },
   "outputs": [
    {
     "name": "stderr",
     "output_type": "stream",
     "text": [
      "INFO:root:Start training. Total epochs 10.\n",
      "INFO:root:                                                                       \n",
      "epoch 1, average train epoch loss=13.98\n",
      "\n",
      "  0%|          | 0/174 [00:00<?, ?it/s]        "
     ]
    },
    {
     "name": "stdout",
     "output_type": "stream",
     "text": [
      "              precision    recall  f1-score   support\n",
      "\n",
      "       B_LOC      0.791     0.318     0.454       346\n",
      "       B_ORG      0.773     0.282     0.413       241\n",
      "       B_PER      0.621     0.512     0.561       346\n",
      "       I_LOC      0.000     0.000     0.000        29\n",
      "       I_ORG      0.556     0.125     0.204       200\n",
      "       I_PER      0.750     0.300     0.429       190\n",
      "           O      0.920     0.989     0.953      9530\n",
      "\n",
      "    accuracy                          0.906     10882\n",
      "   macro avg      0.630     0.361     0.431     10882\n",
      "weighted avg      0.891     0.906     0.887     10882\n",
      "\n"
     ]
    },
    {
     "name": "stderr",
     "output_type": "stream",
     "text": [
      "INFO:root:                                                                       \n",
      "epoch 2, average train epoch loss=4.6424\n",
      "\n",
      "  0%|          | 0/174 [00:00<?, ?it/s]        "
     ]
    },
    {
     "name": "stdout",
     "output_type": "stream",
     "text": [
      "              precision    recall  f1-score   support\n",
      "\n",
      "       B_LOC      0.849     0.520     0.645       346\n",
      "       B_ORG      0.729     0.469     0.571       241\n",
      "       B_PER      0.735     0.688     0.710       346\n",
      "       I_LOC      0.667     0.069     0.125        29\n",
      "       I_ORG      0.583     0.350     0.438       200\n",
      "       I_PER      0.760     0.600     0.671       190\n",
      "           O      0.947     0.985     0.966      9530\n",
      "\n",
      "    accuracy                          0.929     10882\n",
      "   macro avg      0.753     0.526     0.589     10882\n",
      "weighted avg      0.921     0.929     0.922     10882\n",
      "\n"
     ]
    },
    {
     "name": "stderr",
     "output_type": "stream",
     "text": [
      "INFO:root:                                                                       \n",
      "epoch 3, average train epoch loss=2.2034\n",
      "\n",
      "  0%|          | 0/174 [00:00<?, ?it/s]        "
     ]
    },
    {
     "name": "stdout",
     "output_type": "stream",
     "text": [
      "              precision    recall  f1-score   support\n",
      "\n",
      "       B_LOC      0.901     0.555     0.687       346\n",
      "       B_ORG      0.764     0.510     0.612       241\n",
      "       B_PER      0.833     0.694     0.757       346\n",
      "       I_LOC      0.714     0.172     0.278        29\n",
      "       I_ORG      0.647     0.375     0.475       200\n",
      "       I_PER      0.851     0.632     0.725       190\n",
      "           O      0.948     0.991     0.969      9530\n",
      "\n",
      "    accuracy                          0.937     10882\n",
      "   macro avg      0.808     0.561     0.643     10882\n",
      "weighted avg      0.931     0.937     0.930     10882\n",
      "\n"
     ]
    },
    {
     "name": "stderr",
     "output_type": "stream",
     "text": [
      "INFO:root:                                                                       \n",
      "epoch 4, average train epoch loss=1.022\n",
      "\n",
      "  0%|          | 0/174 [00:00<?, ?it/s]        "
     ]
    },
    {
     "name": "stdout",
     "output_type": "stream",
     "text": [
      "              precision    recall  f1-score   support\n",
      "\n",
      "       B_LOC      0.892     0.595     0.714       346\n",
      "       B_ORG      0.776     0.531     0.631       241\n",
      "       B_PER      0.875     0.691     0.772       346\n",
      "       I_LOC      0.500     0.138     0.216        29\n",
      "       I_ORG      0.653     0.405     0.500       200\n",
      "       I_PER      0.864     0.668     0.754       190\n",
      "           O      0.950     0.990     0.969      9530\n",
      "\n",
      "    accuracy                          0.939     10882\n",
      "   macro avg      0.787     0.574     0.651     10882\n",
      "weighted avg      0.934     0.939     0.933     10882\n",
      "\n"
     ]
    },
    {
     "name": "stderr",
     "output_type": "stream",
     "text": [
      "INFO:root:                                                                       \n",
      "epoch 5, average train epoch loss=0.52951\n",
      "\n",
      "  0%|          | 0/174 [00:00<?, ?it/s]        "
     ]
    },
    {
     "name": "stdout",
     "output_type": "stream",
     "text": [
      "              precision    recall  f1-score   support\n",
      "\n",
      "       B_LOC      0.904     0.595     0.718       346\n",
      "       B_ORG      0.766     0.531     0.627       241\n",
      "       B_PER      0.894     0.685     0.776       346\n",
      "       I_LOC      0.400     0.138     0.205        29\n",
      "       I_ORG      0.667     0.390     0.492       200\n",
      "       I_PER      0.838     0.653     0.734       190\n",
      "           O      0.948     0.990     0.969      9530\n",
      "\n",
      "    accuracy                          0.938     10882\n",
      "   macro avg      0.774     0.569     0.646     10882\n",
      "weighted avg      0.933     0.938     0.932     10882\n",
      "\n"
     ]
    },
    {
     "name": "stderr",
     "output_type": "stream",
     "text": [
      "INFO:root:                                                                        \n",
      "epoch 6, average train epoch loss=0.33664\n",
      "\n",
      "  0%|          | 0/174 [00:00<?, ?it/s]        "
     ]
    },
    {
     "name": "stdout",
     "output_type": "stream",
     "text": [
      "              precision    recall  f1-score   support\n",
      "\n",
      "       B_LOC      0.922     0.581     0.713       346\n",
      "       B_ORG      0.763     0.535     0.629       241\n",
      "       B_PER      0.894     0.685     0.776       346\n",
      "       I_LOC      0.800     0.138     0.235        29\n",
      "       I_ORG      0.693     0.395     0.503       200\n",
      "       I_PER      0.884     0.642     0.744       190\n",
      "           O      0.947     0.992     0.969      9530\n",
      "\n",
      "    accuracy                          0.939     10882\n",
      "   macro avg      0.843     0.567     0.653     10882\n",
      "weighted avg      0.935     0.939     0.933     10882\n",
      "\n"
     ]
    },
    {
     "name": "stderr",
     "output_type": "stream",
     "text": [
      "INFO:root:                                                                        \n",
      "epoch 7, average train epoch loss=0.25341\n",
      "\n",
      "                                               \r"
     ]
    },
    {
     "name": "stdout",
     "output_type": "stream",
     "text": [
      "              precision    recall  f1-score   support\n",
      "\n",
      "       B_LOC      0.922     0.584     0.715       346\n",
      "       B_ORG      0.778     0.539     0.637       241\n",
      "       B_PER      0.909     0.691     0.785       346\n",
      "       I_LOC      0.800     0.138     0.235        29\n",
      "       I_ORG      0.686     0.405     0.509       200\n",
      "       I_PER      0.887     0.658     0.755       190\n",
      "           O      0.948     0.992     0.970      9530\n",
      "\n",
      "    accuracy                          0.940     10882\n",
      "   macro avg      0.847     0.572     0.658     10882\n",
      "weighted avg      0.936     0.940     0.934     10882\n",
      "\n"
     ]
    },
    {
     "name": "stderr",
     "output_type": "stream",
     "text": [
      "INFO:root:                                                                        \n",
      "epoch 8, average train epoch loss=0.21434\n",
      "\n",
      "                                               \r"
     ]
    },
    {
     "name": "stdout",
     "output_type": "stream",
     "text": [
      "              precision    recall  f1-score   support\n",
      "\n",
      "       B_LOC      0.919     0.590     0.718       346\n",
      "       B_ORG      0.766     0.544     0.636       241\n",
      "       B_PER      0.904     0.705     0.792       346\n",
      "       I_LOC      0.571     0.138     0.222        29\n",
      "       I_ORG      0.675     0.405     0.506       200\n",
      "       I_PER      0.876     0.668     0.758       190\n",
      "           O      0.950     0.991     0.970      9530\n",
      "\n",
      "    accuracy                          0.941     10882\n",
      "   macro avg      0.809     0.577     0.658     10882\n",
      "weighted avg      0.936     0.941     0.935     10882\n",
      "\n"
     ]
    },
    {
     "name": "stderr",
     "output_type": "stream",
     "text": [
      "INFO:root:                                                                        \n",
      "epoch 9, average train epoch loss=0.19155\n",
      "\n",
      "                                               \r"
     ]
    },
    {
     "name": "stdout",
     "output_type": "stream",
     "text": [
      "              precision    recall  f1-score   support\n",
      "\n",
      "       B_LOC      0.915     0.590     0.717       346\n",
      "       B_ORG      0.766     0.544     0.636       241\n",
      "       B_PER      0.904     0.705     0.792       346\n",
      "       I_LOC      0.571     0.138     0.222        29\n",
      "       I_ORG      0.675     0.415     0.514       200\n",
      "       I_PER      0.876     0.668     0.758       190\n",
      "           O      0.950     0.991     0.970      9530\n",
      "\n",
      "    accuracy                          0.941     10882\n",
      "   macro avg      0.808     0.579     0.658     10882\n",
      "weighted avg      0.936     0.941     0.935     10882\n",
      "\n"
     ]
    },
    {
     "name": "stderr",
     "output_type": "stream",
     "text": [
      "INFO:root:                                                                        \n",
      "epoch 10, average train epoch loss=0.1767\n",
      "\n",
      "                                               \r"
     ]
    },
    {
     "name": "stdout",
     "output_type": "stream",
     "text": [
      "              precision    recall  f1-score   support\n",
      "\n",
      "       B_LOC      0.915     0.590     0.717       346\n",
      "       B_ORG      0.766     0.544     0.636       241\n",
      "       B_PER      0.904     0.705     0.792       346\n",
      "       I_LOC      0.571     0.138     0.222        29\n",
      "       I_ORG      0.680     0.415     0.516       200\n",
      "       I_PER      0.876     0.668     0.758       190\n",
      "           O      0.950     0.991     0.970      9530\n",
      "\n",
      "    accuracy                          0.941     10882\n",
      "   macro avg      0.809     0.579     0.659     10882\n",
      "weighted avg      0.936     0.941     0.935     10882\n",
      "\n"
     ]
    }
   ],
   "source": [
    "learn.fit(10)"
   ]
  },
  {
   "cell_type": "code",
   "execution_count": 56,
   "metadata": {},
   "outputs": [
    {
     "name": "stderr",
     "output_type": "stream",
     "text": [
      "                                               \r"
     ]
    },
    {
     "name": "stdout",
     "output_type": "stream",
     "text": [
      "              precision    recall  f1-score   support\n",
      "\n",
      "       B_LOC      0.915     0.590     0.717       346\n",
      "       B_ORG      0.766     0.544     0.636       241\n",
      "       B_PER      0.904     0.705     0.792       346\n",
      "       I_LOC      0.571     0.138     0.222        29\n",
      "       I_ORG      0.680     0.415     0.516       200\n",
      "       I_PER      0.876     0.668     0.758       190\n",
      "           O      0.950     0.991     0.970      9530\n",
      "\n",
      "    accuracy                          0.941     10882\n",
      "   macro avg      0.809     0.579     0.659     10882\n",
      "weighted avg      0.936     0.941     0.935     10882\n",
      "\n"
     ]
    }
   ],
   "source": [
    "print(validate_step(learn.data.valid_dl, learn.model, learn.data.train_ds.idx2label))"
   ]
  },
  {
   "cell_type": "code",
   "execution_count": 57,
   "metadata": {},
   "outputs": [
    {
     "name": "stderr",
     "output_type": "stream",
     "text": [
      "                                                 \r"
     ]
    }
   ],
   "source": [
    "pred = predict(learn.data.test_dl, learn.model, learn.data.train_ds.idx2label)"
   ]
  },
  {
   "cell_type": "code",
   "execution_count": 58,
   "metadata": {},
   "outputs": [],
   "source": [
    "lbl_dict = {'B_ORG': 0, 'I_PER': 1, 'I_LOC': 2, 'I_ORG': 3, 'B_LOC': 4, 'B_PER': 5, 'O': 6, '<pad>': 6}\n",
    "\n",
    "submission_list = []\n",
    "\n",
    "for row in pred:\n",
    "    for lbl in row:\n",
    "        submission_list.append(lbl_dict[lbl])"
   ]
  },
  {
   "cell_type": "code",
   "execution_count": 59,
   "metadata": {},
   "outputs": [],
   "source": [
    "submission = pd.DataFrame({'Id': np.arange(len(submission_list)), 'Predicted': submission_list})\n",
    "submission.to_csv('submission_rusvectores_BiLSTM_CRF.csv', index=False)"
   ]
  },
  {
   "cell_type": "markdown",
   "metadata": {},
   "source": [
    "---\n",
    "rusvectores freezed + BiLSTM + CRF - 0.55 f1-score на kaggle\n",
    "\n",
    "rusvectores + BiLSTM + CRF - 0.36 f1-score на kaggle\n"
   ]
  },
  {
   "cell_type": "code",
   "execution_count": null,
   "metadata": {},
   "outputs": [],
   "source": []
  }
 ],
 "metadata": {
  "kernelspec": {
   "display_name": "Python 3",
   "language": "python",
   "name": "python3"
  },
  "language_info": {
   "codemirror_mode": {
    "name": "ipython",
    "version": 3
   },
   "file_extension": ".py",
   "mimetype": "text/x-python",
   "name": "python",
   "nbconvert_exporter": "python",
   "pygments_lexer": "ipython3",
   "version": "3.7.4"
  }
 },
 "nbformat": 4,
 "nbformat_minor": 2
}
