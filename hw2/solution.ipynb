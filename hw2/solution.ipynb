{
 "cells": [
  {
   "cell_type": "code",
   "execution_count": 1,
   "metadata": {
    "ExecuteTime": {
     "end_time": "2021-03-16T06:13:16.986014Z",
     "start_time": "2021-03-16T06:13:15.781006Z"
    }
   },
   "outputs": [],
   "source": [
    "import numpy as np\n",
    "import pandas as pd\n",
    "import scipy.stats as sps\n",
    "import nltk\n",
    "import matplotlib.pyplot as plt\n",
    "import sklearn_crfsuite\n",
    "import gensim\n",
    "import sys\n",
    "import warnings\n",
    "import torch\n",
    "\n",
    "from collections import Counter\n",
    "from tqdm import tqdm_notebook\n",
    "from sklearn.metrics import make_scorer\n",
    "from sklearn_crfsuite import scorers\n",
    "from sklearn_crfsuite import metrics\n",
    "from sklearn.model_selection import RandomizedSearchCV\n",
    "from sklearn.model_selection import train_test_split\n",
    "from transformers import BertModel, BertConfig, BertTokenizer\n",
    "from tqdm import tqdm\n",
    "from deeppavlov import configs, build_model\n",
    "from NERDA.models import NERDA\n",
    "\n",
    "warnings.filterwarnings(\"ignore\")\n",
    "\n",
    "from src.learner import NerLearner, validate_step, predict"
   ]
  },
  {
   "cell_type": "markdown",
   "metadata": {},
   "source": [
    "---\n",
    "# Part 1 Analyze and prepare."
   ]
  },
  {
   "cell_type": "code",
   "execution_count": 2,
   "metadata": {
    "ExecuteTime": {
     "end_time": "2021-03-16T06:13:17.010592Z",
     "start_time": "2021-03-16T06:13:16.986929Z"
    }
   },
   "outputs": [],
   "source": [
    "train = pd.read_csv('train.csv', sep=',')\n",
    "test = pd.read_csv('valid_tokens.csv', sep=',')"
   ]
  },
  {
   "cell_type": "code",
   "execution_count": 3,
   "metadata": {
    "ExecuteTime": {
     "end_time": "2021-03-16T06:13:17.019557Z",
     "start_time": "2021-03-16T06:13:17.011769Z"
    }
   },
   "outputs": [
    {
     "data": {
      "text/html": [
       "<div>\n",
       "<style scoped>\n",
       "    .dataframe tbody tr th:only-of-type {\n",
       "        vertical-align: middle;\n",
       "    }\n",
       "\n",
       "    .dataframe tbody tr th {\n",
       "        vertical-align: top;\n",
       "    }\n",
       "\n",
       "    .dataframe thead th {\n",
       "        text-align: right;\n",
       "    }\n",
       "</style>\n",
       "<table border=\"1\" class=\"dataframe\">\n",
       "  <thead>\n",
       "    <tr style=\"text-align: right;\">\n",
       "      <th></th>\n",
       "      <th>Unnamed: 0</th>\n",
       "      <th>tokens</th>\n",
       "      <th>tags</th>\n",
       "    </tr>\n",
       "  </thead>\n",
       "  <tbody>\n",
       "    <tr>\n",
       "      <th>0</th>\n",
       "      <td>0</td>\n",
       "      <td>В Пакистане роходят акции исламистов против от...</td>\n",
       "      <td>O B_LOC O O O O O B_ORG I_ORG O B_PER</td>\n",
       "    </tr>\n",
       "    <tr>\n",
       "      <th>1</th>\n",
       "      <td>1</td>\n",
       "      <td>Как сообщает Пакистанская служба Радио Свобода...</td>\n",
       "      <td>O O B_ORG I_ORG I_ORG I_ORG O O B_LOC O O O O ...</td>\n",
       "    </tr>\n",
       "    <tr>\n",
       "      <th>2</th>\n",
       "      <td>2</td>\n",
       "      <td>В городе Карачи ющие жгли шины .</td>\n",
       "      <td>O O B_LOC O O O O</td>\n",
       "    </tr>\n",
       "    <tr>\n",
       "      <th>3</th>\n",
       "      <td>3</td>\n",
       "      <td>В провинции Пенджаб толкновения с полицией .</td>\n",
       "      <td>O O B_LOC O O O O</td>\n",
       "    </tr>\n",
       "    <tr>\n",
       "      <th>4</th>\n",
       "      <td>4</td>\n",
       "      <td>Пакистанские силы безопасности установили охра...</td>\n",
       "      <td>O O O O O O O O O</td>\n",
       "    </tr>\n",
       "  </tbody>\n",
       "</table>\n",
       "</div>"
      ],
      "text/plain": [
       "   Unnamed: 0                                             tokens  \\\n",
       "0           0  В Пакистане роходят акции исламистов против от...   \n",
       "1           1  Как сообщает Пакистанская служба Радио Свобода...   \n",
       "2           2                   В городе Карачи ющие жгли шины .   \n",
       "3           3       В провинции Пенджаб толкновения с полицией .   \n",
       "4           4  Пакистанские силы безопасности установили охра...   \n",
       "\n",
       "                                                tags  \n",
       "0              O B_LOC O O O O O B_ORG I_ORG O B_PER  \n",
       "1  O O B_ORG I_ORG I_ORG I_ORG O O B_LOC O O O O ...  \n",
       "2                                  O O B_LOC O O O O  \n",
       "3                                  O O B_LOC O O O O  \n",
       "4                                  O O O O O O O O O  "
      ]
     },
     "execution_count": 3,
     "metadata": {},
     "output_type": "execute_result"
    }
   ],
   "source": [
    "train.head()"
   ]
  },
  {
   "cell_type": "code",
   "execution_count": 4,
   "metadata": {
    "ExecuteTime": {
     "end_time": "2021-03-16T06:13:17.064331Z",
     "start_time": "2021-03-16T06:13:17.020524Z"
    }
   },
   "outputs": [
    {
     "name": "stdout",
     "output_type": "stream",
     "text": [
      "train len is: 3788\n",
      "test len is: 2714\n"
     ]
    }
   ],
   "source": [
    "print('train len is: %d' % len(train))\n",
    "print('test len is: %d' % len(test))"
   ]
  },
  {
   "cell_type": "markdown",
   "metadata": {},
   "source": [
    "Удалим nan значения из данных"
   ]
  },
  {
   "cell_type": "code",
   "execution_count": 5,
   "metadata": {
    "ExecuteTime": {
     "end_time": "2021-03-16T06:13:17.093123Z",
     "start_time": "2021-03-16T06:13:17.065793Z"
    }
   },
   "outputs": [],
   "source": [
    "train = train[train['tokens'].notna()]\n",
    "test = test[test['tokens'].notna()]"
   ]
  },
  {
   "cell_type": "code",
   "execution_count": 6,
   "metadata": {
    "ExecuteTime": {
     "end_time": "2021-03-16T06:13:17.116878Z",
     "start_time": "2021-03-16T06:13:17.094537Z"
    }
   },
   "outputs": [
    {
     "name": "stdout",
     "output_type": "stream",
     "text": [
      "train len is: 3783\n",
      "test len is: 2714\n"
     ]
    }
   ],
   "source": [
    "print('train len is: %d' % len(train))\n",
    "print('test len is: %d' % len(test))"
   ]
  },
  {
   "cell_type": "markdown",
   "metadata": {},
   "source": [
    "---\n",
    "###### 1.1. Analyze distribution of labels and plot.\n",
    "---"
   ]
  },
  {
   "cell_type": "code",
   "execution_count": 7,
   "metadata": {
    "ExecuteTime": {
     "end_time": "2021-03-16T06:13:17.302174Z",
     "start_time": "2021-03-16T06:13:17.284784Z"
    }
   },
   "outputs": [],
   "source": [
    "labels = ' '.join(list(train['tags'])).split(' ')\n",
    "labels_unique = np.unique(labels)"
   ]
  },
  {
   "cell_type": "code",
   "execution_count": 8,
   "metadata": {
    "ExecuteTime": {
     "end_time": "2021-03-16T06:13:17.391034Z",
     "start_time": "2021-03-16T06:13:17.387530Z"
    }
   },
   "outputs": [
    {
     "name": "stdout",
     "output_type": "stream",
     "text": [
      "amount of labels is 59029\n",
      "amount of unique labels is 11\n",
      "labels: ['B_EVT' 'B_LOC' 'B_ORG' 'B_PER' 'B_PRO' 'I_EVT' 'I_LOC' 'I_ORG' 'I_PER'\n",
      " 'I_PRO' 'O']\n"
     ]
    }
   ],
   "source": [
    "print('amount of labels is %d' % len(labels))\n",
    "print('amount of unique labels is %d' % len(labels_unique))\n",
    "print('labels: ' + str(labels_unique))"
   ]
  },
  {
   "cell_type": "code",
   "execution_count": 9,
   "metadata": {
    "ExecuteTime": {
     "end_time": "2021-03-16T06:13:18.333683Z",
     "start_time": "2021-03-16T06:13:17.998356Z"
    }
   },
   "outputs": [
    {
     "data": {
      "image/png": "[encoded data removed]",
      "text/plain": [
       "<Figure size 1080x576 with 1 Axes>"
      ]
     },
     "metadata": {
      "needs_background": "light"
     },
     "output_type": "display_data"
    }
   ],
   "source": [
    "labels_dist = Counter(labels)\n",
    "\n",
    "plt.figure(figsize=(15, 8))\n",
    "plt.hist(labels, bins=np.arange(11) - 0.5)\n",
    "plt.xticks(0.5 + np.arange(len(labels_dist.keys())), labels_dist.keys())\n",
    "plt.title('Distribution of labels', fontsize=24)\n",
    "plt.xlabel('label', fontsize=16)\n",
    "plt.ylabel('count', fontsize=16)\n",
    "plt.show()"
   ]
  },
  {
   "cell_type": "markdown",
   "metadata": {},
   "source": [
    "---\n",
    "Как видим, большая часть лейблов не относится ни к одному из классов.\n",
    "\n",
    "Посмотрим на распределение лейблов, относящихся к какому-то из классов."
   ]
  },
  {
   "cell_type": "code",
   "execution_count": 10,
   "metadata": {
    "ExecuteTime": {
     "end_time": "2021-03-16T06:13:19.403925Z",
     "start_time": "2021-03-16T06:13:19.160916Z"
    }
   },
   "outputs": [
    {
     "data": {
      "image/png": "[encoded data removed]",
      "text/plain": [
       "<Figure size 1080x576 with 1 Axes>"
      ]
     },
     "metadata": {
      "needs_background": "light"
     },
     "output_type": "display_data"
    }
   ],
   "source": [
    "labels_wo_O = list(filter(lambda x: x != 'O', labels))\n",
    "\n",
    "labels_dist = Counter(labels_wo_O)\n",
    "\n",
    "plt.figure(figsize=(15, 8))\n",
    "plt.hist(labels_wo_O, bins=np.arange(11) - 0.5)\n",
    "plt.xticks(np.arange(len(labels_dist.keys()) + 1), labels_dist.keys())\n",
    "plt.title('Distribution of labels', fontsize=24)\n",
    "plt.xlabel('label', fontsize=16)\n",
    "plt.ylabel('count', fontsize=16)\n",
    "plt.show()"
   ]
  },
  {
   "cell_type": "markdown",
   "metadata": {},
   "source": [
    "---\n",
    "###### 1.2. Remove unexcepted labels from data (if need) and describe how (if need).\n",
    "\n",
    "В задаче нас просят классифицировать слова на 6 классов, в то время как в датасете встречаются 11 классов.\n",
    "\n",
    "Можно удалить предложения, в которых встречаются неуместные лейблы (~250 предложений). Это самый простой подход, который уменьшит нам объём данных для обучения. Можно еще заменить все unexpected labels на \"O\". Опытным путем проверено, что первый вариант лучше."
   ]
  },
  {
   "cell_type": "code",
   "execution_count": 11,
   "metadata": {},
   "outputs": [
    {
     "name": "stdout",
     "output_type": "stream",
     "text": [
      "deleted sentences are 8.41 percents of train set\n"
     ]
    }
   ],
   "source": [
    "labels_remain = set(['B_ORG', 'I_PER', 'I_LOC', 'I_ORG', 'B_LOC', 'B_PER', 'O'])\n",
    "labels = list(train['tags'])\n",
    "\n",
    "is_remained = [set(l.split(' ')).issubset(labels_remain) for l in labels]\n",
    "\n",
    "percentage = 100. * (len(train) - sum(is_remained)) / len(train)\n",
    "train = train[is_remained]\n",
    "\n",
    "print('deleted sentences are %.2f percents of train set' % percentage)"
   ]
  },
  {
   "cell_type": "markdown",
   "metadata": {},
   "source": [
    "---\n",
    "# Part 2 Your own baseline.\n",
    "###### 2.1 Make your own baseline with this tutorial https://sklearn-crfsuite.readthedocs.io/en/latest/tutorial.html."
   ]
  },
  {
   "cell_type": "code",
   "execution_count": 12,
   "metadata": {
    "ExecuteTime": {
     "end_time": "2021-03-16T05:40:14.884811Z",
     "start_time": "2021-03-16T05:40:14.879100Z"
    }
   },
   "outputs": [],
   "source": [
    "def word2features(sent, i):\n",
    "    word = sent[i][0]\n",
    "    postag = sent[i][1]\n",
    "\n",
    "    features = {\n",
    "        'word.lower()': word.lower(),\n",
    "        'word[-3:]': word[-3:],\n",
    "        'word[-2:]': word[-2:],\n",
    "        'word.isupper()': word.isupper(),\n",
    "        'word.istitle()': word.istitle(),\n",
    "        'word.isdigit()': word.isdigit(),\n",
    "        'postag': postag,\n",
    "        'postag[:2]': postag[:2],\n",
    "    }\n",
    "    if i > 0:\n",
    "        word1 = sent[i-1][0]\n",
    "        postag1 = sent[i-1][1]\n",
    "        features.update({\n",
    "            '-1:word.lower()': word1.lower(),\n",
    "            '-1:word.istitle()': word1.istitle(),\n",
    "            '-1:word.isupper()': word1.isupper(),\n",
    "            '-1:postag': postag1,\n",
    "            '-1:postag[:2]': postag1[:2],\n",
    "        })\n",
    "    else:\n",
    "        features['BOS'] = True\n",
    "\n",
    "    if i < len(sent)-1:\n",
    "        word1 = sent[i+1][0]\n",
    "        postag1 = sent[i+1][1]\n",
    "        features.update({\n",
    "            '+1:word.lower()': word1.lower(),\n",
    "            '+1:word.istitle()': word1.istitle(),\n",
    "            '+1:word.isupper()': word1.isupper(),\n",
    "            '+1:postag': postag1,\n",
    "            '+1:postag[:2]': postag1[:2],\n",
    "        })\n",
    "    else:\n",
    "        features['EOS'] = True\n",
    "\n",
    "    return features\n",
    "\n",
    "\n",
    "def sent2features(sent):\n",
    "    return [word2features(sent, i) for i in range(len(sent))]\n",
    "\n",
    "def sent2labels(sent):\n",
    "    return [label for token, postag, label in sent]\n",
    "\n",
    "def sent2tokens(sent):\n",
    "    return [token for token, postag, label in sent]"
   ]
  },
  {
   "cell_type": "code",
   "execution_count": 13,
   "metadata": {
    "ExecuteTime": {
     "end_time": "2021-03-15T04:02:07.412928Z",
     "start_time": "2021-03-15T04:02:07.192276Z"
    }
   },
   "outputs": [
    {
     "name": "stderr",
     "output_type": "stream",
     "text": [
      "[nltk_data] Downloading package averaged_perceptron_tagger to\n",
      "[nltk_data]     /home/coder/nltk_data...\n",
      "[nltk_data]   Package averaged_perceptron_tagger is already up-to-\n",
      "[nltk_data]       date!\n"
     ]
    },
    {
     "data": {
      "text/plain": [
       "True"
      ]
     },
     "execution_count": 13,
     "metadata": {},
     "output_type": "execute_result"
    }
   ],
   "source": [
    "nltk.download('averaged_perceptron_tagger')"
   ]
  },
  {
   "cell_type": "code",
   "execution_count": 14,
   "metadata": {
    "ExecuteTime": {
     "end_time": "2021-03-15T04:02:13.661051Z",
     "start_time": "2021-03-15T04:02:08.210661Z"
    }
   },
   "outputs": [
    {
     "data": {
      "application/vnd.jupyter.widget-view+json": {
       "model_id": "ddb2fe1794aa4a83aecf60776e0b958c",
       "version_major": 2,
       "version_minor": 0
      },
      "text/plain": [
       "HBox(children=(FloatProgress(value=1.0, bar_style='info', max=1.0), HTML(value='')))"
      ]
     },
     "metadata": {},
     "output_type": "display_data"
    },
    {
     "name": "stdout",
     "output_type": "stream",
     "text": [
      "\n"
     ]
    },
    {
     "data": {
      "application/vnd.jupyter.widget-view+json": {
       "model_id": "4514f5117fed4b00995a58cb74742aa9",
       "version_major": 2,
       "version_minor": 0
      },
      "text/plain": [
       "HBox(children=(FloatProgress(value=1.0, bar_style='info', max=1.0), HTML(value='')))"
      ]
     },
     "metadata": {},
     "output_type": "display_data"
    },
    {
     "name": "stdout",
     "output_type": "stream",
     "text": [
      "\n"
     ]
    }
   ],
   "source": [
    "X_train = []\n",
    "y_train = []\n",
    "X_test = []\n",
    "\n",
    "for i, row in tqdm_notebook(train.iterrows()):\n",
    "    tokens = row[1].split(' ')\n",
    "    pos = nltk.pos_tag(tokens)\n",
    "    X_train.append(sent2features(pos))\n",
    "    y_train.append(row[2].split(' '))\n",
    "    \n",
    "for i, row in tqdm_notebook(test.iterrows()):\n",
    "    tokens = row[1].split(' ')\n",
    "    pos = nltk.pos_tag(tokens)\n",
    "    X_test.append(sent2features(pos))"
   ]
  },
  {
   "cell_type": "code",
   "execution_count": 15,
   "metadata": {
    "ExecuteTime": {
     "end_time": "2021-03-15T04:02:18.187870Z",
     "start_time": "2021-03-15T04:02:13.662117Z"
    }
   },
   "outputs": [
    {
     "name": "stdout",
     "output_type": "stream",
     "text": [
      "CPU times: user 4.51 s, sys: 6.63 ms, total: 4.52 s\n",
      "Wall time: 4.52 s\n"
     ]
    },
    {
     "data": {
      "text/plain": [
       "CRF(algorithm='lbfgs', all_possible_transitions=True, c1=0.1, c2=0.1,\n",
       "    keep_tempfiles=None, max_iterations=100)"
      ]
     },
     "execution_count": 15,
     "metadata": {},
     "output_type": "execute_result"
    }
   ],
   "source": [
    "%%time\n",
    "crf = sklearn_crfsuite.CRF(\n",
    "    algorithm='lbfgs',\n",
    "    c1=0.1,\n",
    "    c2=0.1,\n",
    "    max_iterations=100,\n",
    "    all_possible_transitions=True\n",
    ")\n",
    "crf.fit(X_train, y_train)"
   ]
  },
  {
   "cell_type": "code",
   "execution_count": 16,
   "metadata": {
    "ExecuteTime": {
     "end_time": "2021-03-15T04:02:23.502328Z",
     "start_time": "2021-03-15T04:02:22.850911Z"
    }
   },
   "outputs": [
    {
     "data": {
      "text/plain": [
       "0.9927993427213615"
      ]
     },
     "execution_count": 16,
     "metadata": {},
     "output_type": "execute_result"
    }
   ],
   "source": [
    "y_pred = crf.predict(X_train)\n",
    "\n",
    "metrics.flat_f1_score(y_train, y_pred,\n",
    "                     average='macro', labels=list(crf.classes_))"
   ]
  },
  {
   "cell_type": "markdown",
   "metadata": {},
   "source": [
    "---\n",
    "Все обучается, перейдём к кросс-валидации."
   ]
  },
  {
   "cell_type": "markdown",
   "metadata": {},
   "source": [
    "---\n",
    "###### 2.2 Make crossvalidation."
   ]
  },
  {
   "cell_type": "code",
   "execution_count": 17,
   "metadata": {
    "ExecuteTime": {
     "end_time": "2021-03-15T04:02:26.109877Z",
     "start_time": "2021-03-15T04:02:26.103755Z"
    }
   },
   "outputs": [],
   "source": [
    "# define fixed parameters and parameters to search\n",
    "crf = sklearn_crfsuite.CRF(\n",
    "    algorithm='lbfgs',\n",
    "    max_iterations=100,\n",
    "    all_possible_transitions=True\n",
    ")\n",
    "params_space = {\n",
    "    'c1': sps.expon(scale=0.5),\n",
    "    'c2': sps.expon(scale=0.05),\n",
    "}\n",
    "\n",
    "# use the same metric for evaluation\n",
    "f1_scorer = make_scorer(metrics.flat_f1_score,\n",
    "                        average='macro')\n",
    "\n",
    "# search\n",
    "rs = RandomizedSearchCV(crf, params_space,\n",
    "                        cv=5,\n",
    "                        verbose=1,\n",
    "                        n_jobs=-1,\n",
    "                        n_iter=50,\n",
    "                        scoring=f1_scorer)"
   ]
  },
  {
   "cell_type": "code",
   "execution_count": 18,
   "metadata": {
    "ExecuteTime": {
     "end_time": "2021-03-15T04:05:02.192565Z",
     "start_time": "2021-03-15T04:02:27.183589Z"
    }
   },
   "outputs": [
    {
     "name": "stdout",
     "output_type": "stream",
     "text": [
      "Fitting 5 folds for each of 50 candidates, totalling 250 fits\n"
     ]
    },
    {
     "name": "stderr",
     "output_type": "stream",
     "text": [
      "[Parallel(n_jobs=-1)]: Using backend LokyBackend with 16 concurrent workers.\n",
      "[Parallel(n_jobs=-1)]: Done  18 tasks      | elapsed:   17.5s\n",
      "[Parallel(n_jobs=-1)]: Done 168 tasks      | elapsed:  1.7min\n",
      "[Parallel(n_jobs=-1)]: Done 250 out of 250 | elapsed:  2.5min finished\n"
     ]
    },
    {
     "name": "stdout",
     "output_type": "stream",
     "text": [
      "CPU times: user 1min, sys: 4.78 s, total: 1min 4s\n",
      "Wall time: 2min 35s\n"
     ]
    },
    {
     "data": {
      "text/plain": [
       "RandomizedSearchCV(cv=5,\n",
       "                   estimator=CRF(algorithm='lbfgs',\n",
       "                                 all_possible_transitions=True,\n",
       "                                 keep_tempfiles=None, max_iterations=100),\n",
       "                   n_iter=50, n_jobs=-1,\n",
       "                   param_distributions={'c1': <scipy.stats._distn_infrastructure.rv_frozen object at 0x7f2ea2dc3b50>,\n",
       "                                        'c2': <scipy.stats._distn_infrastructure.rv_frozen object at 0x7f2ea2dc3a90>},\n",
       "                   scoring=make_scorer(flat_f1_score, average=macro),\n",
       "                   verbose=1)"
      ]
     },
     "execution_count": 18,
     "metadata": {},
     "output_type": "execute_result"
    }
   ],
   "source": [
    "%%time\n",
    "rs.fit(X_train, y_train)"
   ]
  },
  {
   "cell_type": "code",
   "execution_count": 19,
   "metadata": {
    "ExecuteTime": {
     "end_time": "2021-03-15T04:05:02.331957Z",
     "start_time": "2021-03-15T04:05:02.194287Z"
    }
   },
   "outputs": [
    {
     "name": "stdout",
     "output_type": "stream",
     "text": [
      "best params: {'c1': 0.015537955762374963, 'c2': 0.06987159153555535}\n",
      "best CV score: 0.7324712869474737\n",
      "model size: 1.32M\n"
     ]
    }
   ],
   "source": [
    "print('best params:', rs.best_params_)\n",
    "print('best CV score:', rs.best_score_)\n",
    "print('model size: {:0.2f}M'.format(rs.best_estimator_.size_ / 1000000))"
   ]
  },
  {
   "cell_type": "code",
   "execution_count": 20,
   "metadata": {
    "ExecuteTime": {
     "end_time": "2021-03-15T04:05:07.038412Z",
     "start_time": "2021-03-15T04:05:02.333130Z"
    }
   },
   "outputs": [
    {
     "data": {
      "text/plain": [
       "CRF(algorithm='lbfgs', all_possible_transitions=True, c1=0.015537955762374963,\n",
       "    c2=0.06987159153555535, keep_tempfiles=None, max_iterations=100)"
      ]
     },
     "execution_count": 20,
     "metadata": {},
     "output_type": "execute_result"
    }
   ],
   "source": [
    "crf = sklearn_crfsuite.CRF(\n",
    "    algorithm='lbfgs',\n",
    "    c1=rs.best_params_['c1'],\n",
    "    c2=rs.best_params_['c2'],\n",
    "    max_iterations=100,\n",
    "    all_possible_transitions=True\n",
    ")\n",
    "\n",
    "crf.fit(X_train, y_train)"
   ]
  },
  {
   "cell_type": "code",
   "execution_count": 21,
   "metadata": {
    "ExecuteTime": {
     "end_time": "2021-03-15T04:05:07.602733Z",
     "start_time": "2021-03-15T04:05:07.039714Z"
    }
   },
   "outputs": [],
   "source": [
    "y_pred = crf.predict(X_test)"
   ]
  },
  {
   "cell_type": "code",
   "execution_count": 22,
   "metadata": {
    "ExecuteTime": {
     "end_time": "2021-03-15T04:05:07.611855Z",
     "start_time": "2021-03-15T04:05:07.603743Z"
    }
   },
   "outputs": [],
   "source": [
    "lbl_dict = {'B_ORG': 0, 'I_PER': 1, 'I_LOC': 2, 'I_ORG': 3, 'B_LOC': 4, 'B_PER': 5, 'O': 6}\n",
    "\n",
    "submission_list = []\n",
    "\n",
    "for row in y_pred:\n",
    "    for lbl in row:\n",
    "        submission_list.append(lbl_dict[lbl])"
   ]
  },
  {
   "cell_type": "code",
   "execution_count": 23,
   "metadata": {
    "ExecuteTime": {
     "end_time": "2021-03-15T04:05:07.645578Z",
     "start_time": "2021-03-15T04:05:07.612972Z"
    }
   },
   "outputs": [],
   "source": [
    "submission = pd.DataFrame({'Id': np.arange(len(submission_list)), 'Predicted': submission_list})"
   ]
  },
  {
   "cell_type": "code",
   "execution_count": 24,
   "metadata": {
    "ExecuteTime": {
     "end_time": "2021-03-15T04:05:07.708934Z",
     "start_time": "2021-03-15T04:05:07.646525Z"
    }
   },
   "outputs": [],
   "source": [
    "submission.to_csv('submission_baseline.csv', index=False)"
   ]
  },
  {
   "cell_type": "markdown",
   "metadata": {},
   "source": [
    "---\n",
    "Данный submission набрал 0.615 f1-score на тестовых данных на kaggle с гиперпараметрами $\\text{c1}=0.0036$, $\\text{c2}=0.061$.\n",
    "\n",
    "Использовавшиеся фичи:\n",
    "\n",
    "1. word.lower() - токен в нижнем регистре\n",
    "2. word.isupper() - флаг, записан ли токен в верхнем регистре\n",
    "3. word.istitle() - флаг, начинается ли токен с заглавной буквы\n",
    "4. postag - тэг токена\n",
    "5. postag[:2] - первые 2 символа тэга\n",
    "6. фичи 1-5 для соселних токенов\n",
    "7. word.isdigit() - флаг, является ли токен числом\n",
    "8. word[-3:] - суффикс токена длины 3\n",
    "9. word[-2:] - суффикс токена длины 2\n",
    "10. BOS - флаг, является ли токен первым в предложении\n",
    "11. EOS - флаг, является ли токен последним в предложении\n",
    "\n",
    "Все эти фичи взяты из туториала https://sklearn-crfsuite.readthedocs.io/en/latest/tutorial.html"
   ]
  },
  {
   "cell_type": "markdown",
   "metadata": {},
   "source": [
    "---\n",
    "# Part 3. Your favorite ml algorithm."
   ]
  },
  {
   "cell_type": "markdown",
   "metadata": {},
   "source": [
    "---\n",
    "###### 3.1 Make submission to leaderboard and beat a baseline with your favorite ML algorithm (0.55 macro f1).\n",
    "\n",
    "подход №1: rusVectores embedding + BiLSTM + CRF"
   ]
  },
  {
   "cell_type": "markdown",
   "metadata": {},
   "source": [
    "---\n",
    "разобъем данные на обучение и валидацию"
   ]
  },
  {
   "cell_type": "code",
   "execution_count": 15,
   "metadata": {
    "ExecuteTime": {
     "end_time": "2021-03-16T06:13:24.221437Z",
     "start_time": "2021-03-16T06:13:24.043462Z"
    }
   },
   "outputs": [],
   "source": [
    "train_data, val_data = train_test_split(train, test_size=0.1, random_state=42)\n",
    "test_data = test.copy()\n",
    "\n",
    "labels = []\n",
    "for i, row in test_data.iterrows():\n",
    "    labels.append(' '.join(['O'] * len(row[1].split(' '))))\n",
    "\n",
    "test_data['labels'] = labels\n",
    "\n",
    "train_data.columns = ['id', 'text', 'labels']\n",
    "val_data.columns = ['id', 'text', 'labels']\n",
    "test_data.columns = ['id', 'text', 'labels']"
   ]
  },
  {
   "cell_type": "code",
   "execution_count": 16,
   "metadata": {
    "ExecuteTime": {
     "end_time": "2021-03-15T04:52:33.576756Z",
     "start_time": "2021-03-15T04:52:33.539613Z"
    }
   },
   "outputs": [],
   "source": [
    "train_data.to_csv('train_data.csv', sep='\\t')\n",
    "val_data.to_csv('val_data.csv', sep='\\t')\n",
    "test_data.to_csv('test_data.csv', sep='\\t')"
   ]
  },
  {
   "cell_type": "markdown",
   "metadata": {},
   "source": [
    "---\n",
    "загрузим модель эмбеддингов с rusVectores"
   ]
  },
  {
   "cell_type": "code",
   "execution_count": 17,
   "metadata": {},
   "outputs": [
    {
     "name": "stderr",
     "output_type": "stream",
     "text": [
      "INFO:gensim.utils:loading Word2VecKeyedVectors object from model.model\n",
      "INFO:gensim.utils:loading vectors from model.model.vectors.npy with mmap=None\n",
      "INFO:gensim.utils:loading vectors_vocab from model.model.vectors_vocab.npy with mmap=None\n",
      "INFO:gensim.utils:loading vectors_ngrams from model.model.vectors_ngrams.npy with mmap=None\n",
      "INFO:gensim.utils:setting ignored attribute vectors_norm to None\n",
      "INFO:gensim.utils:setting ignored attribute vectors_vocab_norm to None\n",
      "INFO:gensim.utils:setting ignored attribute vectors_ngrams_norm to None\n",
      "INFO:gensim.utils:setting ignored attribute buckets_word to None\n",
      "INFO:gensim.utils:loaded model.model\n"
     ]
    }
   ],
   "source": [
    "model = gensim.models.KeyedVectors.load('model.model')"
   ]
  },
  {
   "cell_type": "code",
   "execution_count": 17,
   "metadata": {},
   "outputs": [],
   "source": [
    "learn = NerLearner(\n",
    "    train_df_path=\"~/study/5course/NLP-mipt/hw2/train_data.csv\",\n",
    "    valid_df_path=\"~/study/5course/NLP-mipt/hw2/val_data.csv\",\n",
    "    test_df_path=\"~/study/5course/NLP-mipt/hw2/test_data.csv\",\n",
    "    embedder=model,\n",
    "    tensorboard_dir=\"logs\",\n",
    "    hidden_dim=1024,\n",
    "    lr=0.0004,\n",
    "    use_embeds=False\n",
    ")"
   ]
  },
  {
   "cell_type": "code",
   "execution_count": 18,
   "metadata": {
    "scrolled": false
   },
   "outputs": [
    {
     "name": "stderr",
     "output_type": "stream",
     "text": [
      "INFO:root:Start training. Total epochs 10.\n",
      "INFO:root:                                                                       \n",
      "epoch 1, average train epoch loss=17.938\n",
      "\n",
      "  0%|          | 0/195 [00:00<?, ?it/s]        "
     ]
    },
    {
     "name": "stdout",
     "output_type": "stream",
     "text": [
      "              precision    recall  f1-score   support\n",
      "\n",
      "       B_LOC      0.659     0.513     0.577       158\n",
      "       B_ORG      0.619     0.106     0.181       123\n",
      "       B_PER      0.555     0.426     0.482       190\n",
      "       I_LOC      0.000     0.000     0.000        14\n",
      "       I_ORG      0.667     0.042     0.078        96\n",
      "       I_PER      0.818     0.094     0.168        96\n",
      "           O      0.922     0.992     0.956      4841\n",
      "\n",
      "    accuracy                          0.904      5518\n",
      "   macro avg      0.606     0.310     0.349      5518\n",
      "weighted avg      0.886     0.904     0.880      5518\n",
      "\n"
     ]
    },
    {
     "name": "stderr",
     "output_type": "stream",
     "text": [
      "INFO:root:                                                                       \n",
      "epoch 2, average train epoch loss=4.5087\n",
      "\n",
      "train loss: 3.6290786266326904:   0%|          | 0/195 [00:00<?, ?it/s]"
     ]
    },
    {
     "name": "stdout",
     "output_type": "stream",
     "text": [
      "              precision    recall  f1-score   support\n",
      "\n",
      "       B_LOC      0.818     0.709     0.759       158\n",
      "       B_ORG      0.732     0.423     0.536       123\n",
      "       B_PER      0.789     0.747     0.768       190\n",
      "       I_LOC      1.000     0.143     0.250        14\n",
      "       I_ORG      0.535     0.396     0.455        96\n",
      "       I_PER      0.882     0.698     0.779        96\n",
      "           O      0.957     0.985     0.971      4841\n",
      "\n",
      "    accuracy                          0.939      5518\n",
      "   macro avg      0.816     0.586     0.645      5518\n",
      "weighted avg      0.934     0.939     0.934      5518\n",
      "\n"
     ]
    },
    {
     "name": "stderr",
     "output_type": "stream",
     "text": [
      "INFO:root:                                                                       \n",
      "epoch 3, average train epoch loss=3.294\n",
      "\n",
      "train loss: 3.167675733566284:   1%|          | 2/195 [00:00<00:13, 14.32it/s]"
     ]
    },
    {
     "name": "stdout",
     "output_type": "stream",
     "text": [
      "              precision    recall  f1-score   support\n",
      "\n",
      "       B_LOC      0.870     0.722     0.789       158\n",
      "       B_ORG      0.680     0.537     0.600       123\n",
      "       B_PER      0.813     0.779     0.796       190\n",
      "       I_LOC      1.000     0.143     0.250        14\n",
      "       I_ORG      0.604     0.635     0.619        96\n",
      "       I_PER      0.922     0.740     0.821        96\n",
      "           O      0.965     0.982     0.973      4841\n",
      "\n",
      "    accuracy                          0.945      5518\n",
      "   macro avg      0.836     0.648     0.693      5518\n",
      "weighted avg      0.944     0.945     0.943      5518\n",
      "\n"
     ]
    },
    {
     "name": "stderr",
     "output_type": "stream",
     "text": [
      "INFO:root:                                                                       \n",
      "epoch 4, average train epoch loss=2.779\n",
      "\n",
      "train loss: 2.7176783084869385:   1%|          | 2/195 [00:00<00:13, 14.40it/s]"
     ]
    },
    {
     "name": "stdout",
     "output_type": "stream",
     "text": [
      "              precision    recall  f1-score   support\n",
      "\n",
      "       B_LOC      0.867     0.741     0.799       158\n",
      "       B_ORG      0.650     0.618     0.633       123\n",
      "       B_PER      0.853     0.795     0.823       190\n",
      "       I_LOC      0.500     0.143     0.222        14\n",
      "       I_ORG      0.638     0.625     0.632        96\n",
      "       I_PER      0.906     0.802     0.851        96\n",
      "           O      0.969     0.982     0.975      4841\n",
      "\n",
      "    accuracy                          0.949      5518\n",
      "   macro avg      0.769     0.672     0.705      5518\n",
      "weighted avg      0.947     0.949     0.947      5518\n",
      "\n"
     ]
    },
    {
     "name": "stderr",
     "output_type": "stream",
     "text": [
      "INFO:root:                                                                       \n",
      "epoch 5, average train epoch loss=2.3862\n",
      "\n",
      "train loss: 2.39485502243042:   1%|          | 2/195 [00:00<00:13, 14.15it/s]"
     ]
    },
    {
     "name": "stdout",
     "output_type": "stream",
     "text": [
      "              precision    recall  f1-score   support\n",
      "\n",
      "       B_LOC      0.873     0.741     0.801       158\n",
      "       B_ORG      0.644     0.618     0.631       123\n",
      "       B_PER      0.847     0.789     0.817       190\n",
      "       I_LOC      0.600     0.214     0.316        14\n",
      "       I_ORG      0.588     0.625     0.606        96\n",
      "       I_PER      0.886     0.812     0.848        96\n",
      "           O      0.971     0.981     0.976      4841\n",
      "\n",
      "    accuracy                          0.949      5518\n",
      "   macro avg      0.773     0.683     0.714      5518\n",
      "weighted avg      0.947     0.949     0.947      5518\n",
      "\n"
     ]
    },
    {
     "name": "stderr",
     "output_type": "stream",
     "text": [
      "INFO:root:                                                                       \n",
      "epoch 6, average train epoch loss=2.1559\n",
      "\n",
      "train loss: 2.167495846748352:   1%|          | 2/195 [00:00<00:13, 14.17it/s]"
     ]
    },
    {
     "name": "stdout",
     "output_type": "stream",
     "text": [
      "              precision    recall  f1-score   support\n",
      "\n",
      "       B_LOC      0.873     0.741     0.801       158\n",
      "       B_ORG      0.646     0.593     0.619       123\n",
      "       B_PER      0.847     0.789     0.817       190\n",
      "       I_LOC      0.667     0.286     0.400        14\n",
      "       I_ORG      0.619     0.625     0.622        96\n",
      "       I_PER      0.892     0.865     0.878        96\n",
      "           O      0.970     0.981     0.976      4841\n",
      "\n",
      "    accuracy                          0.949      5518\n",
      "   macro avg      0.788     0.697     0.730      5518\n",
      "weighted avg      0.948     0.949     0.948      5518\n",
      "\n"
     ]
    },
    {
     "name": "stderr",
     "output_type": "stream",
     "text": [
      "INFO:root:                                                                       \n",
      "epoch 7, average train epoch loss=2.0002\n",
      "\n",
      "train loss: 2.1292781829833984:   1%|          | 2/195 [00:00<00:14, 13.70it/s]"
     ]
    },
    {
     "name": "stdout",
     "output_type": "stream",
     "text": [
      "              precision    recall  f1-score   support\n",
      "\n",
      "       B_LOC      0.881     0.753     0.812       158\n",
      "       B_ORG      0.667     0.585     0.623       123\n",
      "       B_PER      0.859     0.800     0.828       190\n",
      "       I_LOC      0.667     0.286     0.400        14\n",
      "       I_ORG      0.630     0.604     0.617        96\n",
      "       I_PER      0.882     0.854     0.868        96\n",
      "           O      0.970     0.983     0.976      4841\n",
      "\n",
      "    accuracy                          0.951      5518\n",
      "   macro avg      0.794     0.695     0.732      5518\n",
      "weighted avg      0.948     0.951     0.949      5518\n",
      "\n"
     ]
    },
    {
     "name": "stderr",
     "output_type": "stream",
     "text": [
      "INFO:root:                                                                       \n",
      "epoch 8, average train epoch loss=1.8894\n",
      "\n",
      "train loss: 1.9832584857940674:   1%|          | 2/195 [00:00<00:13, 14.27it/s]"
     ]
    },
    {
     "name": "stdout",
     "output_type": "stream",
     "text": [
      "              precision    recall  f1-score   support\n",
      "\n",
      "       B_LOC      0.868     0.747     0.803       158\n",
      "       B_ORG      0.710     0.577     0.637       123\n",
      "       B_PER      0.852     0.789     0.820       190\n",
      "       I_LOC      0.444     0.286     0.348        14\n",
      "       I_ORG      0.644     0.604     0.624        96\n",
      "       I_PER      0.901     0.854     0.877        96\n",
      "           O      0.968     0.983     0.976      4841\n",
      "\n",
      "    accuracy                          0.950      5518\n",
      "   macro avg      0.770     0.692     0.726      5518\n",
      "weighted avg      0.948     0.950     0.949      5518\n",
      "\n"
     ]
    },
    {
     "name": "stderr",
     "output_type": "stream",
     "text": [
      "INFO:root:                                                                       \n",
      "epoch 9, average train epoch loss=1.8264\n",
      "\n",
      "train loss: 1.7917031049728394:   1%|          | 2/195 [00:00<00:13, 13.84it/s]"
     ]
    },
    {
     "name": "stdout",
     "output_type": "stream",
     "text": [
      "              precision    recall  f1-score   support\n",
      "\n",
      "       B_LOC      0.874     0.747     0.805       158\n",
      "       B_ORG      0.689     0.577     0.628       123\n",
      "       B_PER      0.853     0.795     0.823       190\n",
      "       I_LOC      0.500     0.286     0.364        14\n",
      "       I_ORG      0.624     0.604     0.614        96\n",
      "       I_PER      0.882     0.854     0.868        96\n",
      "           O      0.969     0.982     0.976      4841\n",
      "\n",
      "    accuracy                          0.950      5518\n",
      "   macro avg      0.770     0.692     0.725      5518\n",
      "weighted avg      0.947     0.950     0.948      5518\n",
      "\n"
     ]
    },
    {
     "name": "stderr",
     "output_type": "stream",
     "text": [
      "INFO:root:                                                                       \n",
      "epoch 10, average train epoch loss=1.8056\n",
      "\n",
      "                                               \r"
     ]
    },
    {
     "name": "stdout",
     "output_type": "stream",
     "text": [
      "              precision    recall  f1-score   support\n",
      "\n",
      "       B_LOC      0.874     0.747     0.805       158\n",
      "       B_ORG      0.689     0.577     0.628       123\n",
      "       B_PER      0.848     0.795     0.821       190\n",
      "       I_LOC      0.500     0.286     0.364        14\n",
      "       I_ORG      0.628     0.615     0.621        96\n",
      "       I_PER      0.874     0.865     0.869        96\n",
      "           O      0.969     0.982     0.976      4841\n",
      "\n",
      "    accuracy                          0.950      5518\n",
      "   macro avg      0.769     0.695     0.726      5518\n",
      "weighted avg      0.947     0.950     0.948      5518\n",
      "\n"
     ]
    }
   ],
   "source": [
    "learn.fit(10)"
   ]
  },
  {
   "cell_type": "code",
   "execution_count": 19,
   "metadata": {},
   "outputs": [
    {
     "data": {
      "image/png": "[encoded data removed]",
      "text/plain": [
       "<Figure size 1080x576 with 1 Axes>"
      ]
     },
     "metadata": {
      "needs_background": "light"
     },
     "output_type": "display_data"
    }
   ],
   "source": [
    "learn.plot_learning_curve()"
   ]
  },
  {
   "cell_type": "markdown",
   "metadata": {},
   "source": [
    "Сформируем submission"
   ]
  },
  {
   "cell_type": "code",
   "execution_count": null,
   "metadata": {},
   "outputs": [],
   "source": [
    "pred = predict(learn.data.test_dl, learn.model, learn.data.train_ds.idx2label)"
   ]
  },
  {
   "cell_type": "code",
   "execution_count": 35,
   "metadata": {},
   "outputs": [],
   "source": [
    "lbl_dict = {'B_ORG': 0, 'I_PER': 1, 'I_LOC': 2, 'I_ORG': 3, 'B_LOC': 4, 'B_PER': 5, 'O': 6, '<pad>': 6}\n",
    "\n",
    "submission_list = []\n",
    "\n",
    "for row in pred:\n",
    "    for lbl in row:\n",
    "        submission_list.append(lbl_dict[lbl])"
   ]
  },
  {
   "cell_type": "code",
   "execution_count": 36,
   "metadata": {},
   "outputs": [],
   "source": [
    "submission = pd.DataFrame({'Id': np.arange(len(submission_list)), 'Predicted': submission_list})\n",
    "submission.to_csv('submission_BiLSTM_CRF_10_epochs.csv', index=False)"
   ]
  },
  {
   "cell_type": "markdown",
   "metadata": {},
   "source": [
    "---\n",
    "Подход №2: попробуем использовать предобученный BERT в качестве эмбеддера.\n",
    "\n",
    "Для этого сначала подготовим словарь слов:"
   ]
  },
  {
   "cell_type": "code",
   "execution_count": 17,
   "metadata": {
    "ExecuteTime": {
     "end_time": "2021-03-15T04:48:59.961220Z",
     "start_time": "2021-03-15T04:48:59.934482Z"
    }
   },
   "outputs": [],
   "source": [
    "words = list(map(str.split, list(train.tokens))) + list(map(str.split, list(test.tokens)))\n",
    "words = [item for w in words for item in w]\n",
    "words.append('<pad>')\n",
    "\n",
    "words = list(set(words))"
   ]
  },
  {
   "cell_type": "markdown",
   "metadata": {},
   "source": [
    "---\n",
    "Загрузим модель:"
   ]
  },
  {
   "cell_type": "code",
   "execution_count": 18,
   "metadata": {
    "ExecuteTime": {
     "end_time": "2021-03-15T04:49:11.673073Z",
     "start_time": "2021-03-15T04:49:01.377963Z"
    }
   },
   "outputs": [],
   "source": [
    "tokenizer = BertTokenizer.from_pretrained('./rubert_cased_L-12_H-768_A-12_pt')\n",
    "bmodel = BertModel.from_pretrained('./rubert_cased_L-12_H-768_A-12_pt')"
   ]
  },
  {
   "cell_type": "markdown",
   "metadata": {},
   "source": [
    "---\n",
    "Запишем все векторные представления слов из словаря в файл:"
   ]
  },
  {
   "cell_type": "code",
   "execution_count": null,
   "metadata": {
    "ExecuteTime": {
     "end_time": "2021-03-15T04:25:56.213831Z",
     "start_time": "2021-03-15T04:14:21.727305Z"
    }
   },
   "outputs": [],
   "source": [
    "with open('bert.wv', 'a') as f:\n",
    "    for w in tqdm_notebook(words):\n",
    "        wv = bmodel(**tokenizer(w, return_tensors='pt')).last_hidden_state[:, 0, :].reshape(-1).tolist()\n",
    "        f.write(w + '\\t' + str(wv) + '\\n')"
   ]
  },
  {
   "cell_type": "code",
   "execution_count": 19,
   "metadata": {
    "ExecuteTime": {
     "end_time": "2021-03-15T04:51:36.253975Z",
     "start_time": "2021-03-15T04:51:28.036571Z"
    }
   },
   "outputs": [
    {
     "data": {
      "application/vnd.jupyter.widget-view+json": {
       "model_id": "b293e028609e48428f0c9a24e2f43d6c",
       "version_major": 2,
       "version_minor": 0
      },
      "text/plain": [
       "HBox(children=(FloatProgress(value=1.0, bar_style='info', max=1.0), HTML(value='')))"
      ]
     },
     "metadata": {},
     "output_type": "display_data"
    },
    {
     "name": "stdout",
     "output_type": "stream",
     "text": [
      "\n"
     ]
    }
   ],
   "source": [
    "bert_wv = {}\n",
    "\n",
    "with open('bert.wv', 'r') as f:\n",
    "    for line in tqdm_notebook(f):\n",
    "        text = line.split('\\t')\n",
    "        word = text[0]\n",
    "        text = text[1].rstrip()\n",
    "        bert_wv[word] = np.array(list(map(float, text[1:-1].split(', '))), dtype=np.float32)"
   ]
  },
  {
   "cell_type": "code",
   "execution_count": 20,
   "metadata": {
    "ExecuteTime": {
     "end_time": "2021-03-15T04:51:44.396788Z",
     "start_time": "2021-03-15T04:51:44.393113Z"
    }
   },
   "outputs": [],
   "source": [
    "class Bert():\n",
    "    def __init__(self, wv):\n",
    "        self.wv = wv\n",
    "        \n",
    "    def __getitem__(self, text):\n",
    "        output = [self.wv[word] for word in text]\n",
    "        return np.stack(output, axis=0)"
   ]
  },
  {
   "cell_type": "code",
   "execution_count": 21,
   "metadata": {
    "ExecuteTime": {
     "end_time": "2021-03-15T05:08:16.048126Z",
     "start_time": "2021-03-15T05:08:16.045757Z"
    }
   },
   "outputs": [],
   "source": [
    "bert_model = Bert(wv=bert_wv)"
   ]
  },
  {
   "cell_type": "code",
   "execution_count": 22,
   "metadata": {
    "ExecuteTime": {
     "end_time": "2021-03-15T05:16:59.552595Z",
     "start_time": "2021-03-15T05:16:59.432925Z"
    }
   },
   "outputs": [],
   "source": [
    "learn = NerLearner(\n",
    "    train_df_path=\"~/study/5course/NLP-mipt/hw2/train_data.csv\",\n",
    "    valid_df_path=\"~/study/5course/NLP-mipt/hw2/val_data.csv\",\n",
    "    test_df_path=\"~/study/5course/NLP-mipt/hw2/test_data.csv\",\n",
    "    embedder=bert_model,\n",
    "    tensorboard_dir=\"logs\",\n",
    "    embedding_size=768,\n",
    "    hidden_dim=1024,\n",
    "    lr=0.0004,\n",
    "    use_embeds=False\n",
    ")"
   ]
  },
  {
   "cell_type": "code",
   "execution_count": null,
   "metadata": {
    "ExecuteTime": {
     "end_time": "2021-03-15T05:20:14.440741Z",
     "start_time": "2021-03-15T05:17:04.683382Z"
    },
    "scrolled": false
   },
   "outputs": [],
   "source": [
    "learn.fit(10)"
   ]
  },
  {
   "cell_type": "code",
   "execution_count": 24,
   "metadata": {
    "ExecuteTime": {
     "end_time": "2021-03-15T05:20:14.585199Z",
     "start_time": "2021-03-15T05:20:14.442567Z"
    }
   },
   "outputs": [
    {
     "data": {
      "image/png": "[encoded data removed]",
      "text/plain": [
       "<Figure size 1080x576 with 1 Axes>"
      ]
     },
     "metadata": {
      "needs_background": "light"
     },
     "output_type": "display_data"
    }
   ],
   "source": [
    "learn.plot_learning_curve()"
   ]
  },
  {
   "cell_type": "markdown",
   "metadata": {},
   "source": [
    "Сформируем submission:"
   ]
  },
  {
   "cell_type": "code",
   "execution_count": 37,
   "metadata": {
    "ExecuteTime": {
     "end_time": "2021-03-15T04:56:50.353808Z",
     "start_time": "2021-03-15T04:56:38.260815Z"
    }
   },
   "outputs": [
    {
     "name": "stderr",
     "output_type": "stream",
     "text": [
      "                                                 \r"
     ]
    }
   ],
   "source": [
    "pred = predict(learn.data.test_dl, learn.model, learn.data.train_ds.idx2label)"
   ]
  },
  {
   "cell_type": "code",
   "execution_count": 38,
   "metadata": {
    "ExecuteTime": {
     "end_time": "2021-03-15T04:56:50.365268Z",
     "start_time": "2021-03-15T04:56:50.355043Z"
    }
   },
   "outputs": [],
   "source": [
    "lbl_dict = {'B_ORG': 0, 'I_PER': 1, 'I_LOC': 2, 'I_ORG': 3, 'B_LOC': 4, 'B_PER': 5, 'O': 6, '<pad>': 6}\n",
    "\n",
    "submission_list = []\n",
    "\n",
    "for row in pred:\n",
    "    for lbl in row:\n",
    "        submission_list.append(lbl_dict[lbl])"
   ]
  },
  {
   "cell_type": "code",
   "execution_count": 40,
   "metadata": {
    "ExecuteTime": {
     "end_time": "2021-03-15T04:57:27.166571Z",
     "start_time": "2021-03-15T04:57:27.029435Z"
    }
   },
   "outputs": [],
   "source": [
    "submission = pd.DataFrame({'Id': np.arange(len(submission_list)), 'Predicted': submission_list})\n",
    "submission.to_csv('submission_BERT_BiLSTM_CRF_10_epochs.csv', index=False)"
   ]
  },
  {
   "cell_type": "markdown",
   "metadata": {},
   "source": [
    "---\n",
    "Подход №3: DeepPavlov NER model"
   ]
  },
  {
   "cell_type": "code",
   "execution_count": 20,
   "metadata": {
    "ExecuteTime": {
     "end_time": "2021-03-16T04:09:45.034751Z",
     "start_time": "2021-03-16T04:09:45.005427Z"
    }
   },
   "outputs": [],
   "source": [
    "from deeppavlov import configs, build_model"
   ]
  },
  {
   "cell_type": "code",
   "execution_count": 22,
   "metadata": {
    "ExecuteTime": {
     "end_time": "2021-03-16T04:10:06.362496Z",
     "start_time": "2021-03-16T04:09:45.526126Z"
    },
    "scrolled": false
   },
   "outputs": [
    {
     "name": "stderr",
     "output_type": "stream",
     "text": [
      "2021-03-17 13:17:54.859 INFO in 'deeppavlov.download'['download'] at line 138: Skipped http://files.deeppavlov.ai/deeppavlov_data/bert/rubert_cased_L-12_H-768_A-12_v1.tar.gz download because of matching hashes\n",
      "INFO:deeppavlov.download:Skipped http://files.deeppavlov.ai/deeppavlov_data/bert/rubert_cased_L-12_H-768_A-12_v1.tar.gz download because of matching hashes\n",
      "2021-03-17 13:17:57.371 INFO in 'deeppavlov.download'['download'] at line 138: Skipped http://files.deeppavlov.ai/deeppavlov_data/ner_rus_bert_v1.tar.gz download because of matching hashes\n",
      "INFO:deeppavlov.download:Skipped http://files.deeppavlov.ai/deeppavlov_data/ner_rus_bert_v1.tar.gz download because of matching hashes\n",
      "WARNING:tensorflow:From /home/coder/anaconda3/lib/python3.7/site-packages/bert_dp/tokenization.py:125: The name tf.gfile.GFile is deprecated. Please use tf.io.gfile.GFile instead.\n",
      "\n",
      "2021-03-17 13:17:58.850 INFO in 'deeppavlov.core.data.simple_vocab'['simple_vocab'] at line 115: [loading vocabulary from /home/coder/.deeppavlov/models/ner_rus_bert/tag.dict]\n",
      "INFO:deeppavlov.core.data.simple_vocab:[loading vocabulary from /home/coder/.deeppavlov/models/ner_rus_bert/tag.dict]\n",
      "WARNING:tensorflow:From /home/coder/anaconda3/lib/python3.7/site-packages/deeppavlov/core/models/tf_model.py:37: The name tf.Session is deprecated. Please use tf.compat.v1.Session instead.\n",
      "\n",
      "WARNING:tensorflow:From /home/coder/anaconda3/lib/python3.7/site-packages/deeppavlov/core/models/tf_model.py:222: The name tf.placeholder is deprecated. Please use tf.compat.v1.placeholder instead.\n",
      "\n",
      "WARNING:tensorflow:From /home/coder/anaconda3/lib/python3.7/site-packages/deeppavlov/core/models/tf_model.py:222: The name tf.train.Optimizer is deprecated. Please use tf.compat.v1.train.Optimizer instead.\n",
      "\n",
      "WARNING:tensorflow:From /home/coder/anaconda3/lib/python3.7/site-packages/deeppavlov/core/models/tf_model.py:193: The name tf.train.AdamOptimizer is deprecated. Please use tf.compat.v1.train.AdamOptimizer instead.\n",
      "\n",
      "WARNING:tensorflow:From /home/coder/anaconda3/lib/python3.7/site-packages/deeppavlov/models/bert/bert_sequence_tagger.py:236: The name tf.ConfigProto is deprecated. Please use tf.compat.v1.ConfigProto instead.\n",
      "\n",
      "WARNING:tensorflow:From /home/coder/anaconda3/lib/python3.7/site-packages/deeppavlov/models/bert/bert_sequence_tagger.py:314: The name tf.placeholder_with_default is deprecated. Please use tf.compat.v1.placeholder_with_default instead.\n",
      "\n",
      "WARNING:tensorflow:From /home/coder/anaconda3/lib/python3.7/site-packages/bert_dp/modeling.py:178: The name tf.variable_scope is deprecated. Please use tf.compat.v1.variable_scope instead.\n",
      "\n",
      "WARNING:tensorflow:From /home/coder/anaconda3/lib/python3.7/site-packages/bert_dp/modeling.py:418: The name tf.get_variable is deprecated. Please use tf.compat.v1.get_variable instead.\n",
      "\n",
      "WARNING:tensorflow:From /home/coder/anaconda3/lib/python3.7/site-packages/bert_dp/modeling.py:499: The name tf.assert_less_equal is deprecated. Please use tf.compat.v1.assert_less_equal instead.\n",
      "\n",
      "WARNING:tensorflow:\n",
      "The TensorFlow contrib module will not be included in TensorFlow 2.0.\n",
      "For more information, please see:\n",
      "  * https://github.com/tensorflow/community/blob/master/rfcs/20180907-contrib-sunset.md\n",
      "  * https://github.com/tensorflow/addons\n",
      "  * https://github.com/tensorflow/io (for I/O related ops)\n",
      "If you depend on functionality not listed there, please file an issue.\n",
      "\n",
      "INFO:numexpr.utils:NumExpr defaulting to 4 threads.\n",
      "WARNING:tensorflow:From /home/coder/anaconda3/lib/python3.7/site-packages/bert_dp/modeling.py:366: calling dropout (from tensorflow.python.ops.nn_ops) with keep_prob is deprecated and will be removed in a future version.\n",
      "Instructions for updating:\n",
      "Please use `rate` instead of `keep_prob`. Rate should be set to `rate = 1 - keep_prob`.\n",
      "WARNING:tensorflow:From /home/coder/anaconda3/lib/python3.7/site-packages/bert_dp/modeling.py:680: dense (from tensorflow.python.layers.core) is deprecated and will be removed in a future version.\n",
      "Instructions for updating:\n",
      "Use keras.layers.Dense instead.\n",
      "WARNING:tensorflow:From /home/coder/anaconda3/lib/python3.7/site-packages/tensorflow_core/python/layers/core.py:187: Layer.apply (from tensorflow.python.keras.engine.base_layer) is deprecated and will be removed in a future version.\n",
      "Instructions for updating:\n",
      "Please use `layer.__call__` method instead.\n",
      "WARNING:tensorflow:From /home/coder/anaconda3/lib/python3.7/site-packages/bert_dp/modeling.py:283: The name tf.erf is deprecated. Please use tf.math.erf instead.\n",
      "\n",
      "WARNING:tensorflow:Variable *= will be deprecated. Use `var.assign(var * other)` if you want assignment to the variable value or `x = x * y` if you want a new python Tensor object.\n",
      "WARNING:tensorflow:From /home/coder/anaconda3/lib/python3.7/site-packages/deeppavlov/models/bert/bert_sequence_tagger.py:75: where (from tensorflow.python.ops.array_ops) is deprecated and will be removed in a future version.\n",
      "Instructions for updating:\n",
      "Use tf.where in 2.0, which has the same broadcast rule as np.where\n",
      "WARNING:tensorflow:From /home/coder/anaconda3/lib/python3.7/site-packages/tensorflow_core/contrib/crf/python/ops/crf.py:213: dynamic_rnn (from tensorflow.python.ops.rnn) is deprecated and will be removed in a future version.\n",
      "Instructions for updating:\n",
      "Please use `keras.layers.RNN(cell)`, which is equivalent to this API\n",
      "WARNING:tensorflow:From /home/coder/anaconda3/lib/python3.7/site-packages/deeppavlov/core/models/tf_model.py:131: The name tf.get_collection is deprecated. Please use tf.compat.v1.get_collection instead.\n",
      "\n",
      "WARNING:tensorflow:From /home/coder/anaconda3/lib/python3.7/site-packages/deeppavlov/core/models/tf_model.py:131: The name tf.GraphKeys is deprecated. Please use tf.compat.v1.GraphKeys instead.\n",
      "\n",
      "WARNING:tensorflow:From /home/coder/anaconda3/lib/python3.7/site-packages/deeppavlov/core/models/tf_model.py:94: The name tf.global_variables is deprecated. Please use tf.compat.v1.global_variables instead.\n",
      "\n",
      "WARNING:tensorflow:From /home/coder/anaconda3/lib/python3.7/site-packages/tensorflow_core/python/training/moving_averages.py:433: Variable.initialized_value (from tensorflow.python.ops.variables) is deprecated and will be removed in a future version.\n",
      "Instructions for updating:\n",
      "Use Variable.read_value. Variables in 2.X are initialized automatically both in eager and graph (inside tf.defun) contexts.\n",
      "WARNING:tensorflow:From /home/coder/anaconda3/lib/python3.7/site-packages/deeppavlov/models/bert/bert_sequence_tagger.py:671: The name tf.assign is deprecated. Please use tf.compat.v1.assign instead.\n",
      "\n",
      "WARNING:tensorflow:From /home/coder/anaconda3/lib/python3.7/site-packages/deeppavlov/models/bert/bert_sequence_tagger.py:244: The name tf.global_variables_initializer is deprecated. Please use tf.compat.v1.global_variables_initializer instead.\n",
      "\n",
      "WARNING:tensorflow:From /home/coder/anaconda3/lib/python3.7/site-packages/deeppavlov/models/bert/bert_sequence_tagger.py:249: checkpoint_exists (from tensorflow.python.training.checkpoint_management) is deprecated and will be removed in a future version.\n",
      "Instructions for updating:\n",
      "Use standard file APIs to check for files with this prefix.\n",
      "2021-03-17 13:18:20.813 INFO in 'deeppavlov.core.models.tf_model'['tf_model'] at line 51: [loading model from /home/coder/.deeppavlov/models/ner_rus_bert/model]\n",
      "INFO:deeppavlov.core.models.tf_model:[loading model from /home/coder/.deeppavlov/models/ner_rus_bert/model]\n",
      "WARNING:tensorflow:From /home/coder/anaconda3/lib/python3.7/site-packages/deeppavlov/core/models/tf_model.py:54: The name tf.train.Saver is deprecated. Please use tf.compat.v1.train.Saver instead.\n",
      "\n",
      "INFO:tensorflow:Restoring parameters from /home/coder/.deeppavlov/models/ner_rus_bert/model\n"
     ]
    }
   ],
   "source": [
    "ner_model = build_model(configs.ner.ner_rus_bert, download=True)"
   ]
  },
  {
   "cell_type": "code",
   "execution_count": 25,
   "metadata": {
    "ExecuteTime": {
     "end_time": "2021-03-16T04:14:20.399052Z",
     "start_time": "2021-03-16T04:14:20.312839Z"
    }
   },
   "outputs": [],
   "source": [
    "lbl_dict = {'B_ORG': 0, 'I_PER': 1, 'I_LOC': 2, 'I_ORG': 3, 'B_LOC': 4, 'B_PER': 5, 'O': 6, '<pad>': 6}\n",
    "deeppavlov_lbl_dict = {'B-ORG': 0, 'I-PER': 1, 'I-LOC': 2, 'I-ORG': 3, 'B-LOC': 4, 'B-PER': 5, 'O': 6, '<pad>': 6}"
   ]
  },
  {
   "cell_type": "code",
   "execution_count": 26,
   "metadata": {
    "ExecuteTime": {
     "end_time": "2021-03-16T04:19:31.711247Z",
     "start_time": "2021-03-16T04:19:31.704846Z"
    }
   },
   "outputs": [],
   "source": [
    "def accuracy_evaluate(data):\n",
    "    accuracy_array = []\n",
    "    for i in tqdm(range(len(data['text']))):\n",
    "        predict = ner_model([data['text'].iloc[i]])[1][0]\n",
    "        true_label = data['labels'].iloc[i].split()\n",
    "        number_predict = labels_to_numbers(predict, deeppavlov_lbl_dict)\n",
    "        number_true_label = labels_to_numbers(true_label, lbl_dict)\n",
    "        while len(number_predict) > len(number_true_label):\n",
    "            number_true_label.append(6)\n",
    "        while len(number_predict) < len(number_true_label):\n",
    "            number_predict.append(6)\n",
    "\n",
    "        number_predict = np.array(number_predict)\n",
    "        number_true_label = np.array(number_true_label)\n",
    "        accuracy = (number_predict == number_true_label).mean()\n",
    "        accuracy_array.append(accuracy)\n",
    "    return accuracy_array"
   ]
  },
  {
   "cell_type": "code",
   "execution_count": 27,
   "metadata": {
    "ExecuteTime": {
     "end_time": "2021-03-16T04:19:32.249693Z",
     "start_time": "2021-03-16T04:19:31.844721Z"
    }
   },
   "outputs": [],
   "source": [
    "def make_submission_list(data):\n",
    "    submission_list = []\n",
    "    for i in tqdm(range(len(data['text']))):\n",
    "        predict = ner_model([data['text'].iloc[i]])[1][0]\n",
    "        number_predict = labels_to_numbers(predict, deeppavlov_lbl_dict)\n",
    "        if len(number_predict) > len(data['text'].iloc[i].split()):\n",
    "            number_predict = number_predict[:len(data['text'].iloc[i].split())]\n",
    "        for item in number_predict:\n",
    "            submission_list.append(item)\n",
    "    return submission_list"
   ]
  },
  {
   "cell_type": "code",
   "execution_count": 28,
   "metadata": {
    "ExecuteTime": {
     "end_time": "2021-03-16T04:19:32.268543Z",
     "start_time": "2021-03-16T04:19:32.251425Z"
    }
   },
   "outputs": [],
   "source": [
    "def labels_to_numbers(labels, lbl_dict):\n",
    "    out_array = []\n",
    "    for item in labels:\n",
    "        out_array.append(lbl_dict[item])\n",
    "    return out_array"
   ]
  },
  {
   "cell_type": "code",
   "execution_count": 29,
   "metadata": {
    "ExecuteTime": {
     "end_time": "2021-03-16T04:21:51.800662Z",
     "start_time": "2021-03-16T04:19:32.638589Z"
    }
   },
   "outputs": [
    {
     "name": "stderr",
     "output_type": "stream",
     "text": [
      "100%|██████████| 2714/2714 [03:49<00:00, 11.83it/s]\n"
     ]
    }
   ],
   "source": [
    "deeppavlov_submission = make_submission_list(test_data)"
   ]
  },
  {
   "cell_type": "code",
   "execution_count": 30,
   "metadata": {
    "ExecuteTime": {
     "end_time": "2021-03-16T04:21:51.815628Z",
     "start_time": "2021-03-16T04:21:51.801964Z"
    }
   },
   "outputs": [],
   "source": [
    "deep_submission = pd.DataFrame({'Id': np.arange(len(deeppavlov_submission)), 'Predicted': deeppavlov_submission})"
   ]
  },
  {
   "cell_type": "code",
   "execution_count": 31,
   "metadata": {
    "ExecuteTime": {
     "end_time": "2021-03-16T04:22:25.269568Z",
     "start_time": "2021-03-16T04:22:25.264339Z"
    }
   },
   "outputs": [
    {
     "data": {
      "text/plain": [
       "array([0, 1, 2, 3, 4, 5, 6])"
      ]
     },
     "execution_count": 31,
     "metadata": {},
     "output_type": "execute_result"
    }
   ],
   "source": [
    "np.unique(deep_submission['Predicted'])"
   ]
  },
  {
   "cell_type": "code",
   "execution_count": 32,
   "metadata": {
    "ExecuteTime": {
     "end_time": "2021-03-15T06:14:47.751644Z",
     "start_time": "2021-03-15T06:14:47.626397Z"
    }
   },
   "outputs": [],
   "source": [
    "deep_submission.to_csv('submission_DeepPavlov.csv', index=False)"
   ]
  },
  {
   "cell_type": "code",
   "execution_count": 33,
   "metadata": {
    "ExecuteTime": {
     "end_time": "2021-03-15T05:37:58.073760Z",
     "start_time": "2021-03-15T05:37:58.065771Z"
    }
   },
   "outputs": [
    {
     "data": {
      "text/html": [
       "<div>\n",
       "<style scoped>\n",
       "    .dataframe tbody tr th:only-of-type {\n",
       "        vertical-align: middle;\n",
       "    }\n",
       "\n",
       "    .dataframe tbody tr th {\n",
       "        vertical-align: top;\n",
       "    }\n",
       "\n",
       "    .dataframe thead th {\n",
       "        text-align: right;\n",
       "    }\n",
       "</style>\n",
       "<table border=\"1\" class=\"dataframe\">\n",
       "  <thead>\n",
       "    <tr style=\"text-align: right;\">\n",
       "      <th></th>\n",
       "      <th>id</th>\n",
       "      <th>text</th>\n",
       "      <th>labels</th>\n",
       "    </tr>\n",
       "  </thead>\n",
       "  <tbody>\n",
       "    <tr>\n",
       "      <td>3387</td>\n",
       "      <td>3387</td>\n",
       "      <td>Однако никто не может объяснить , почему это п...</td>\n",
       "      <td>O O O O O O O O O O O O O O O O O O O O O O O O O</td>\n",
       "    </tr>\n",
       "    <tr>\n",
       "      <td>418</td>\n",
       "      <td>418</td>\n",
       "      <td>На фоне волны недовольства , которую вызвал оп...</td>\n",
       "      <td>O O O O O O O O O O O O O O B_PER I_PER</td>\n",
       "    </tr>\n",
       "    <tr>\n",
       "      <td>3505</td>\n",
       "      <td>3505</td>\n",
       "      <td>В пятницу , 21 января , на досудебных слушания...</td>\n",
       "      <td>O O O O O O O O O O O O O O O O O O O O B_PER ...</td>\n",
       "    </tr>\n",
       "    <tr>\n",
       "      <td>1770</td>\n",
       "      <td>1770</td>\n",
       "      <td>Политики приходят и уходят , но проблемы , кот...</td>\n",
       "      <td>O O O O O O O O O O O O O O O O</td>\n",
       "    </tr>\n",
       "    <tr>\n",
       "      <td>1385</td>\n",
       "      <td>1385</td>\n",
       "      <td>В течение этого времени британская сторона не ...</td>\n",
       "      <td>O O O O O O O O O O O O O O O O O B_ORG</td>\n",
       "    </tr>\n",
       "  </tbody>\n",
       "</table>\n",
       "</div>"
      ],
      "text/plain": [
       "        id                                               text  \\\n",
       "3387  3387  Однако никто не может объяснить , почему это п...   \n",
       "418    418  На фоне волны недовольства , которую вызвал оп...   \n",
       "3505  3505  В пятницу , 21 января , на досудебных слушания...   \n",
       "1770  1770  Политики приходят и уходят , но проблемы , кот...   \n",
       "1385  1385  В течение этого времени британская сторона не ...   \n",
       "\n",
       "                                                 labels  \n",
       "3387  O O O O O O O O O O O O O O O O O O O O O O O O O  \n",
       "418             O O O O O O O O O O O O O O B_PER I_PER  \n",
       "3505  O O O O O O O O O O O O O O O O O O O O B_PER ...  \n",
       "1770                    O O O O O O O O O O O O O O O O  \n",
       "1385            O O O O O O O O O O O O O O O O O B_ORG  "
      ]
     },
     "execution_count": 33,
     "metadata": {},
     "output_type": "execute_result"
    }
   ],
   "source": [
    "val_data.head()"
   ]
  },
  {
   "cell_type": "markdown",
   "metadata": {
    "ExecuteTime": {
     "end_time": "2021-03-15T05:48:39.991060Z",
     "start_time": "2021-03-15T05:48:39.915481Z"
    }
   },
   "source": [
    "---\n",
    "Попытка №5: NERDA\n",
    "\n",
    "https://towardsdatascience.com/easy-fine-tuning-of-transformers-for-named-entity-recognition-d72f2b5340e3"
   ]
  },
  {
   "cell_type": "code",
   "execution_count": 17,
   "metadata": {
    "ExecuteTime": {
     "end_time": "2021-03-16T06:13:30.268488Z",
     "start_time": "2021-03-16T06:13:30.253153Z"
    }
   },
   "outputs": [],
   "source": [
    "training = {}\n",
    "training[\"sentences\"] = [s.split() for s in train_data['text']]\n",
    "training[\"tags\"] = [s.split() for s in train_data['labels']]\n",
    "\n",
    "validation = {}\n",
    "validation[\"sentences\"] = [s.split() for s in val_data['text']]\n",
    "validation[\"tags\"] = [s.split() for s in val_data['labels']]\n",
    "\n",
    "tag_scheme = [\n",
    "'B_PER',\n",
    "'I_PER',\n",
    "'B_ORG',\n",
    "'I_ORG',\n",
    "'B_LOC',\n",
    "'I_LOC',\n",
    "]\n",
    "\n",
    "transformer = 'DeepPavlov/rubert-base-cased'\n",
    "# transformer = 'bert-base-multilingual-uncased'\n",
    "# transformer = 'bert-base-NER'\n",
    "\n",
    "# hyperparameters for network\n",
    "dropout = 0.1\n",
    "# hyperparameters for training\n",
    "training_hyperparameters = { \n",
    "    'epochs' : 4, \n",
    "    'warmup_steps' : 500, \n",
    "    'train_batch_size': 6, \n",
    "    'learning_rate': 0.0001,\n",
    "}"
   ]
  },
  {
   "cell_type": "code",
   "execution_count": 18,
   "metadata": {
    "ExecuteTime": {
     "end_time": "2021-03-16T06:13:37.354997Z",
     "start_time": "2021-03-16T06:13:30.395503Z"
    }
   },
   "outputs": [
    {
     "name": "stdout",
     "output_type": "stream",
     "text": [
      "Device automatically set to: cuda\n"
     ]
    }
   ],
   "source": [
    "model = NERDA( \n",
    "    dataset_training = training, \n",
    "    dataset_validation = validation, \n",
    "    tag_scheme = tag_scheme,  \n",
    "    tag_outside = 'O', \n",
    "    transformer = transformer, \n",
    "    dropout = dropout, \n",
    "    hyperparameters = training_hyperparameters,\n",
    "    max_len = 256\n",
    ")"
   ]
  },
  {
   "cell_type": "code",
   "execution_count": 19,
   "metadata": {
    "ExecuteTime": {
     "end_time": "2021-03-16T06:20:19.520594Z",
     "start_time": "2021-03-16T06:13:37.356206Z"
    },
    "scrolled": false
   },
   "outputs": [
    {
     "name": "stderr",
     "output_type": "stream",
     "text": [
      "\r",
      "  0%|          | 0/520 [00:00<?, ?it/s]"
     ]
    },
    {
     "name": "stdout",
     "output_type": "stream",
     "text": [
      "\n",
      " Epoch 1 / 4\n"
     ]
    },
    {
     "name": "stderr",
     "output_type": "stream",
     "text": [
      "100%|██████████| 520/520 [02:41<00:00,  3.23it/s]\n",
      "100%|██████████| 44/44 [00:04<00:00,  8.91it/s]\n",
      "  0%|          | 0/520 [00:00<?, ?it/s]"
     ]
    },
    {
     "name": "stdout",
     "output_type": "stream",
     "text": [
      "Train Loss = 0.35550038295690545 Valid Loss = 0.13531793467700481\n",
      "\n",
      " Epoch 2 / 4\n"
     ]
    },
    {
     "name": "stderr",
     "output_type": "stream",
     "text": [
      "100%|██████████| 520/520 [02:41<00:00,  3.22it/s]\n",
      "100%|██████████| 44/44 [00:04<00:00,  8.86it/s]\n",
      "  0%|          | 0/520 [00:00<?, ?it/s]"
     ]
    },
    {
     "name": "stdout",
     "output_type": "stream",
     "text": [
      "Train Loss = 0.1141438651341909 Valid Loss = 0.07160026450450956\n",
      "\n",
      " Epoch 3 / 4\n"
     ]
    },
    {
     "name": "stderr",
     "output_type": "stream",
     "text": [
      "100%|██████████| 520/520 [02:41<00:00,  3.22it/s]\n",
      "100%|██████████| 44/44 [00:04<00:00,  8.86it/s]\n",
      "  0%|          | 0/520 [00:00<?, ?it/s]"
     ]
    },
    {
     "name": "stdout",
     "output_type": "stream",
     "text": [
      "Train Loss = 0.04599428994607968 Valid Loss = 0.0760069443706677\n",
      "\n",
      " Epoch 4 / 4\n"
     ]
    },
    {
     "name": "stderr",
     "output_type": "stream",
     "text": [
      "100%|██████████| 520/520 [02:41<00:00,  3.22it/s]\n",
      "100%|██████████| 44/44 [00:04<00:00,  8.85it/s]\n"
     ]
    },
    {
     "name": "stdout",
     "output_type": "stream",
     "text": [
      "Train Loss = 0.018684987347492448 Valid Loss = 0.07789866593719291\n"
     ]
    },
    {
     "data": {
      "text/plain": [
       "'Model trained successfully'"
      ]
     },
     "execution_count": 19,
     "metadata": {},
     "output_type": "execute_result"
    }
   ],
   "source": [
    "model.train()"
   ]
  },
  {
   "cell_type": "code",
   "execution_count": 20,
   "metadata": {
    "scrolled": true
   },
   "outputs": [
    {
     "data": {
      "text/html": [
       "<div>\n",
       "<style scoped>\n",
       "    .dataframe tbody tr th:only-of-type {\n",
       "        vertical-align: middle;\n",
       "    }\n",
       "\n",
       "    .dataframe tbody tr th {\n",
       "        vertical-align: top;\n",
       "    }\n",
       "\n",
       "    .dataframe thead th {\n",
       "        text-align: right;\n",
       "    }\n",
       "</style>\n",
       "<table border=\"1\" class=\"dataframe\">\n",
       "  <thead>\n",
       "    <tr style=\"text-align: right;\">\n",
       "      <th></th>\n",
       "      <th>Level</th>\n",
       "      <th>F1-Score</th>\n",
       "    </tr>\n",
       "  </thead>\n",
       "  <tbody>\n",
       "    <tr>\n",
       "      <th>0</th>\n",
       "      <td>B_PER</td>\n",
       "      <td>0.999063</td>\n",
       "    </tr>\n",
       "    <tr>\n",
       "      <th>1</th>\n",
       "      <td>I_PER</td>\n",
       "      <td>0.999432</td>\n",
       "    </tr>\n",
       "    <tr>\n",
       "      <th>2</th>\n",
       "      <td>B_ORG</td>\n",
       "      <td>0.998347</td>\n",
       "    </tr>\n",
       "    <tr>\n",
       "      <th>3</th>\n",
       "      <td>I_ORG</td>\n",
       "      <td>0.998743</td>\n",
       "    </tr>\n",
       "    <tr>\n",
       "      <th>4</th>\n",
       "      <td>B_LOC</td>\n",
       "      <td>0.998188</td>\n",
       "    </tr>\n",
       "    <tr>\n",
       "      <th>5</th>\n",
       "      <td>I_LOC</td>\n",
       "      <td>0.997455</td>\n",
       "    </tr>\n",
       "    <tr>\n",
       "      <th>0</th>\n",
       "      <td>AVG_MICRO</td>\n",
       "      <td>0.998684</td>\n",
       "    </tr>\n",
       "    <tr>\n",
       "      <th>0</th>\n",
       "      <td>AVG_MACRO</td>\n",
       "      <td>0.998538</td>\n",
       "    </tr>\n",
       "  </tbody>\n",
       "</table>\n",
       "</div>"
      ],
      "text/plain": [
       "       Level  F1-Score\n",
       "0      B_PER  0.999063\n",
       "1      I_PER  0.999432\n",
       "2      B_ORG  0.998347\n",
       "3      I_ORG  0.998743\n",
       "4      B_LOC  0.998188\n",
       "5      I_LOC  0.997455\n",
       "0  AVG_MICRO  0.998684\n",
       "0  AVG_MACRO  0.998538"
      ]
     },
     "execution_count": 20,
     "metadata": {},
     "output_type": "execute_result"
    }
   ],
   "source": [
    "model.evaluate_performance(training)"
   ]
  },
  {
   "cell_type": "code",
   "execution_count": 20,
   "metadata": {},
   "outputs": [
    {
     "data": {
      "text/html": [
       "<div>\n",
       "<style scoped>\n",
       "    .dataframe tbody tr th:only-of-type {\n",
       "        vertical-align: middle;\n",
       "    }\n",
       "\n",
       "    .dataframe tbody tr th {\n",
       "        vertical-align: top;\n",
       "    }\n",
       "\n",
       "    .dataframe thead th {\n",
       "        text-align: right;\n",
       "    }\n",
       "</style>\n",
       "<table border=\"1\" class=\"dataframe\">\n",
       "  <thead>\n",
       "    <tr style=\"text-align: right;\">\n",
       "      <th></th>\n",
       "      <th>Level</th>\n",
       "      <th>F1-Score</th>\n",
       "    </tr>\n",
       "  </thead>\n",
       "  <tbody>\n",
       "    <tr>\n",
       "      <th>0</th>\n",
       "      <td>B_PER</td>\n",
       "      <td>0.965879</td>\n",
       "    </tr>\n",
       "    <tr>\n",
       "      <th>1</th>\n",
       "      <td>I_PER</td>\n",
       "      <td>0.979381</td>\n",
       "    </tr>\n",
       "    <tr>\n",
       "      <th>2</th>\n",
       "      <td>B_ORG</td>\n",
       "      <td>0.872587</td>\n",
       "    </tr>\n",
       "    <tr>\n",
       "      <th>3</th>\n",
       "      <td>I_ORG</td>\n",
       "      <td>0.860215</td>\n",
       "    </tr>\n",
       "    <tr>\n",
       "      <th>4</th>\n",
       "      <td>B_LOC</td>\n",
       "      <td>0.942308</td>\n",
       "    </tr>\n",
       "    <tr>\n",
       "      <th>5</th>\n",
       "      <td>I_LOC</td>\n",
       "      <td>0.689655</td>\n",
       "    </tr>\n",
       "    <tr>\n",
       "      <th>0</th>\n",
       "      <td>AVG_MICRO</td>\n",
       "      <td>0.924320</td>\n",
       "    </tr>\n",
       "    <tr>\n",
       "      <th>0</th>\n",
       "      <td>AVG_MACRO</td>\n",
       "      <td>0.885004</td>\n",
       "    </tr>\n",
       "  </tbody>\n",
       "</table>\n",
       "</div>"
      ],
      "text/plain": [
       "       Level  F1-Score\n",
       "0      B_PER  0.965879\n",
       "1      I_PER  0.979381\n",
       "2      B_ORG  0.872587\n",
       "3      I_ORG  0.860215\n",
       "4      B_LOC  0.942308\n",
       "5      I_LOC  0.689655\n",
       "0  AVG_MICRO  0.924320\n",
       "0  AVG_MACRO  0.885004"
      ]
     },
     "execution_count": 20,
     "metadata": {},
     "output_type": "execute_result"
    }
   ],
   "source": [
    "model.evaluate_performance(validation)"
   ]
  },
  {
   "cell_type": "markdown",
   "metadata": {},
   "source": [
    "---\n",
    "В процессе тестирования столкнулись с проблемой: модель выдает в качестве предсказания больше тэгов, чем требуется из-за внутреннего разбиения на токены внутри токенизатора.\n",
    "\n",
    "Решение: для таких токенов брать предсказание из модели BiLSTM + CRF."
   ]
  },
  {
   "cell_type": "code",
   "execution_count": 20,
   "metadata": {
    "ExecuteTime": {
     "end_time": "2021-03-16T06:45:49.741981Z",
     "start_time": "2021-03-16T06:45:49.738178Z"
    }
   },
   "outputs": [],
   "source": [
    "def labels_to_numbers(labels, lbl_dict):\n",
    "    if len(labels[1]) == 1:\n",
    "        out_array = [lbl_dict[item] for item in labels[1][0]]\n",
    "    else:\n",
    "        out_array = []\n",
    "        for array_ in labels[1]:\n",
    "            current_array = [lbl_dict[item] for item in array_]\n",
    "            out_array.extend(current_array)\n",
    "    return out_array\n",
    "\n",
    "lbl_dict = {'B_ORG': 0, 'I_PER': 1, 'I_LOC': 2, 'I_ORG': 3, 'B_LOC': 4, 'B_PER': 5, 'O': 6, '<pad>': 6}"
   ]
  },
  {
   "cell_type": "code",
   "execution_count": 23,
   "metadata": {
    "ExecuteTime": {
     "end_time": "2021-03-16T06:50:20.393560Z",
     "start_time": "2021-03-16T06:50:20.386211Z"
    }
   },
   "outputs": [],
   "source": [
    "def make_submission_list(ner_model, data):\n",
    "    submission_list = []\n",
    "    count_bigger = []\n",
    "    count_smaller = []\n",
    "    for i in tqdm(range(len(data['text']))):\n",
    "        predict = ner_model.predict_text(data['text'].iloc[i])\n",
    "        number_predict = labels_to_numbers(predict, lbl_dict)\n",
    "        assert len(number_predict) == len(data['text'].iloc[i].split())\n",
    "        for item in number_predict:\n",
    "            submission_list.append(item)\n",
    "    return submission_list, count_bigger, count_smaller"
   ]
  },
  {
   "cell_type": "code",
   "execution_count": 22,
   "metadata": {
    "ExecuteTime": {
     "end_time": "2021-03-16T06:53:49.974824Z",
     "start_time": "2021-03-16T06:53:49.965429Z"
    }
   },
   "outputs": [
    {
     "name": "stdout",
     "output_type": "stream",
     "text": [
      "56409\n"
     ]
    }
   ],
   "source": [
    "counter = 0\n",
    "for item in test_data['text']:\n",
    "    counter += len(item.split())\n",
    "    \n",
    "print(counter)"
   ]
  },
  {
   "cell_type": "code",
   "execution_count": 24,
   "metadata": {
    "ExecuteTime": {
     "end_time": "2021-03-16T06:53:49.963714Z",
     "start_time": "2021-03-16T06:50:20.651726Z"
    },
    "scrolled": true
   },
   "outputs": [
    {
     "name": "stderr",
     "output_type": "stream",
     "text": [
      "100%|██████████| 2714/2714 [03:40<00:00, 12.29it/s]\n"
     ]
    }
   ],
   "source": [
    "NERDA_submission_list, bigger, smaller = make_submission_list(model, test_data)"
   ]
  },
  {
   "cell_type": "code",
   "execution_count": 25,
   "metadata": {
    "ExecuteTime": {
     "end_time": "2021-03-16T06:53:50.010525Z",
     "start_time": "2021-03-16T06:53:49.975862Z"
    },
    "scrolled": true
   },
   "outputs": [
    {
     "data": {
      "text/plain": [
       "56409"
      ]
     },
     "execution_count": 25,
     "metadata": {},
     "output_type": "execute_result"
    }
   ],
   "source": [
    "len(NERDA_submission_list)"
   ]
  },
  {
   "cell_type": "code",
   "execution_count": 97,
   "metadata": {
    "ExecuteTime": {
     "end_time": "2021-03-16T06:54:05.744642Z",
     "start_time": "2021-03-16T06:54:05.728678Z"
    }
   },
   "outputs": [],
   "source": [
    "nerda_submission = pd.DataFrame({'Id': np.arange(len(NERDA_submission_list)), 'Predicted': NERDA_submission_list})"
   ]
  },
  {
   "cell_type": "code",
   "execution_count": 98,
   "metadata": {
    "ExecuteTime": {
     "end_time": "2021-03-16T06:54:13.038958Z",
     "start_time": "2021-03-16T06:54:12.990260Z"
    }
   },
   "outputs": [],
   "source": [
    "nerda_submission.to_csv('submission_nerda_dp_bs6_epochs4.csv', index=False)"
   ]
  },
  {
   "cell_type": "markdown",
   "metadata": {},
   "source": [
    "---\n",
    "# Part 4. Results.\n",
    "\n",
    "Получившиеся результаты:\n",
    "\n",
    "|№| метод         | f1-score      |\n",
    "|----------| ------------- |:-------------:|\n",
    "|1| sclearn-CRF | 0.61 |\n",
    "|2| Rusvectores embedder BiLSTM + CRF | 0.55 |\n",
    "|3| trainable Embedder + BiLSTM + CRF      | 0.36      |\n",
    "|4| BERT embedder + BiLSTM + CRF | **0.65**      |\n",
    "|5| pretrained ner_rus_bert from DeepPavlov | **0.68**      |\n",
    "|6| NERDA epochs=4 bs=6 | **0.79**      |\n",
    "|7| NERDA DeepPavlov transformer epochs=4 bs=6 | **0.82**      |\n",
    "\n",
    "Модели №2-4 построены на основе кода с семинара и отличаются только эмбеддером.\n",
    "\n",
    "Далее мы решили взять предобученный БЕРТ и накрутить сверху линейный классификатор. В качестве берта взяли мультязычный bert base, и начали это все дело файнтюнить на нашем датасете. Для этого использовали фреймворк NERDA, в котором это все уже было реализовано (единственное нам пришлось немножко покопаться в кишках т.к. токены бились не так как надо и их было больше чем надо) это решение набрало 0.79.\n",
    "\n",
    "Далее мы решили взять вместо этого трансформера DeepPavlov/rubert по сути это тот же мультиязычный bert base дообученный на русской википедии. Это позволило сходу улучшить наш скор до 0.823.\n",
    "\n",
    "Хотели еще поприменять поиск гиперпараметров, более сложный классификатор на фичах, которые выдает трансформер, фейк Квантование линейного слоя (зачастую фейк квантование в 8 бит работает как некая регуляризация и может улучшить результат).\n",
    "Но у нас у всех работа и другие курсы и мы не успели)\n",
    "\n",
    "Наихудшее качество получается для лейблов I_LOC, I_ORG -- лейблов, указывающих на продолжение сущностей организации и локации."
   ]
  },
  {
   "cell_type": "code",
   "execution_count": null,
   "metadata": {},
   "outputs": [],
   "source": []
  }
 ],
 "metadata": {
  "kernelspec": {
   "display_name": "Python 3",
   "language": "python",
   "name": "python3"
  },
  "language_info": {
   "codemirror_mode": {
    "name": "ipython",
    "version": 3
   },
   "file_extension": ".py",
   "mimetype": "text/x-python",
   "name": "python",
   "nbconvert_exporter": "python",
   "pygments_lexer": "ipython3",
   "version": "3.7.4"
  },
  "toc": {
   "base_numbering": 1,
   "nav_menu": {},
   "number_sections": true,
   "sideBar": true,
   "skip_h1_title": false,
   "title_cell": "Table of Contents",
   "title_sidebar": "Contents",
   "toc_cell": false,
   "toc_position": {
    "height": "calc(100% - 180px)",
    "left": "10px",
    "top": "150px",
    "width": "384px"
   },
   "toc_section_display": true,
   "toc_window_display": true
  }
 },
 "nbformat": 4,
 "nbformat_minor": 2
}
