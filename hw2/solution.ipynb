{
 "cells": [
  {
   "cell_type": "code",
   "execution_count": 1,
   "metadata": {},
   "outputs": [],
   "source": [
    "import numpy as np\n",
    "import pandas as pd\n",
    "import scipy.stats as sps\n",
    "import nltk\n",
    "import matplotlib.pyplot as plt\n",
    "import sklearn_crfsuite\n",
    "import gensim\n",
    "import sys\n",
    "import warnings\n",
    "import torch\n",
    "\n",
    "from collections import Counter\n",
    "from tqdm import tqdm_notebook\n",
    "from sklearn.metrics import make_scorer\n",
    "from sklearn_crfsuite import scorers\n",
    "from sklearn_crfsuite import metrics\n",
    "from sklearn.model_selection import RandomizedSearchCV\n",
    "from sklearn.model_selection import train_test_split\n",
    "from transformers import BertModel, BertConfig, BertTokenizer\n",
    "\n",
    "warnings.filterwarnings(\"ignore\")\n",
    "sys.path.append(\"study/5course/NLP-mipt/hw2/\")\n",
    "\n",
    "from src.learner import NerLearner, validate_step, predict"
   ]
  },
  {
   "cell_type": "markdown",
   "metadata": {},
   "source": [
    "---\n",
    "# Part 1 Analyze and prepare."
   ]
  },
  {
   "cell_type": "code",
   "execution_count": 2,
   "metadata": {},
   "outputs": [],
   "source": [
    "train = pd.read_csv('train.csv', sep=',')\n",
    "test = pd.read_csv('valid_tokens.csv', sep=',')"
   ]
  },
  {
   "cell_type": "code",
   "execution_count": 3,
   "metadata": {},
   "outputs": [
    {
     "data": {
      "text/html": [
       "<div>\n",
       "<style scoped>\n",
       "    .dataframe tbody tr th:only-of-type {\n",
       "        vertical-align: middle;\n",
       "    }\n",
       "\n",
       "    .dataframe tbody tr th {\n",
       "        vertical-align: top;\n",
       "    }\n",
       "\n",
       "    .dataframe thead th {\n",
       "        text-align: right;\n",
       "    }\n",
       "</style>\n",
       "<table border=\"1\" class=\"dataframe\">\n",
       "  <thead>\n",
       "    <tr style=\"text-align: right;\">\n",
       "      <th></th>\n",
       "      <th>Unnamed: 0</th>\n",
       "      <th>tokens</th>\n",
       "      <th>tags</th>\n",
       "    </tr>\n",
       "  </thead>\n",
       "  <tbody>\n",
       "    <tr>\n",
       "      <td>0</td>\n",
       "      <td>0</td>\n",
       "      <td>В Пакистане роходят акции исламистов против от...</td>\n",
       "      <td>O B_LOC O O O O O B_ORG I_ORG O B_PER</td>\n",
       "    </tr>\n",
       "    <tr>\n",
       "      <td>1</td>\n",
       "      <td>1</td>\n",
       "      <td>Как сообщает Пакистанская служба Радио Свобода...</td>\n",
       "      <td>O O B_ORG I_ORG I_ORG I_ORG O O B_LOC O O O O ...</td>\n",
       "    </tr>\n",
       "    <tr>\n",
       "      <td>2</td>\n",
       "      <td>2</td>\n",
       "      <td>В городе Карачи ющие жгли шины .</td>\n",
       "      <td>O O B_LOC O O O O</td>\n",
       "    </tr>\n",
       "    <tr>\n",
       "      <td>3</td>\n",
       "      <td>3</td>\n",
       "      <td>В провинции Пенджаб толкновения с полицией .</td>\n",
       "      <td>O O B_LOC O O O O</td>\n",
       "    </tr>\n",
       "    <tr>\n",
       "      <td>4</td>\n",
       "      <td>4</td>\n",
       "      <td>Пакистанские силы безопасности установили охра...</td>\n",
       "      <td>O O O O O O O O O</td>\n",
       "    </tr>\n",
       "  </tbody>\n",
       "</table>\n",
       "</div>"
      ],
      "text/plain": [
       "   Unnamed: 0                                             tokens  \\\n",
       "0           0  В Пакистане роходят акции исламистов против от...   \n",
       "1           1  Как сообщает Пакистанская служба Радио Свобода...   \n",
       "2           2                   В городе Карачи ющие жгли шины .   \n",
       "3           3       В провинции Пенджаб толкновения с полицией .   \n",
       "4           4  Пакистанские силы безопасности установили охра...   \n",
       "\n",
       "                                                tags  \n",
       "0              O B_LOC O O O O O B_ORG I_ORG O B_PER  \n",
       "1  O O B_ORG I_ORG I_ORG I_ORG O O B_LOC O O O O ...  \n",
       "2                                  O O B_LOC O O O O  \n",
       "3                                  O O B_LOC O O O O  \n",
       "4                                  O O O O O O O O O  "
      ]
     },
     "execution_count": 3,
     "metadata": {},
     "output_type": "execute_result"
    }
   ],
   "source": [
    "train.head()"
   ]
  },
  {
   "cell_type": "code",
   "execution_count": 4,
   "metadata": {},
   "outputs": [
    {
     "name": "stdout",
     "output_type": "stream",
     "text": [
      "train len is: 3788\n",
      "test len is: 2714\n"
     ]
    }
   ],
   "source": [
    "print('train len is: %d' % len(train))\n",
    "print('test len is: %d' % len(test))"
   ]
  },
  {
   "cell_type": "markdown",
   "metadata": {},
   "source": [
    "Удалим nan значения из данных"
   ]
  },
  {
   "cell_type": "code",
   "execution_count": 5,
   "metadata": {},
   "outputs": [],
   "source": [
    "train = train[train['tokens'].notna()]\n",
    "test = test[test['tokens'].notna()]"
   ]
  },
  {
   "cell_type": "code",
   "execution_count": 6,
   "metadata": {},
   "outputs": [
    {
     "name": "stdout",
     "output_type": "stream",
     "text": [
      "train len is: 3783\n",
      "test len is: 2714\n"
     ]
    }
   ],
   "source": [
    "print('train len is: %d' % len(train))\n",
    "print('test len is: %d' % len(test))"
   ]
  },
  {
   "cell_type": "markdown",
   "metadata": {},
   "source": [
    "---\n",
    "###### 1.1. Analyze distribution of labels and plot.\n",
    "---"
   ]
  },
  {
   "cell_type": "code",
   "execution_count": 7,
   "metadata": {},
   "outputs": [],
   "source": [
    "labels = ' '.join(list(train['tags'])).split(' ')\n",
    "labels_unique = np.unique(labels)"
   ]
  },
  {
   "cell_type": "code",
   "execution_count": 8,
   "metadata": {},
   "outputs": [
    {
     "name": "stdout",
     "output_type": "stream",
     "text": [
      "amount of labels is 59029\n",
      "amount of unique labels is 11\n",
      "labels: ['B_EVT' 'B_LOC' 'B_ORG' 'B_PER' 'B_PRO' 'I_EVT' 'I_LOC' 'I_ORG' 'I_PER'\n",
      " 'I_PRO' 'O']\n"
     ]
    }
   ],
   "source": [
    "print('amount of labels is %d' % len(labels))\n",
    "print('amount of unique labels is %d' % len(labels_unique))\n",
    "print('labels: ' + str(labels_unique))"
   ]
  },
  {
   "cell_type": "code",
   "execution_count": 9,
   "metadata": {},
   "outputs": [
    {
     "data": {
      "image/png": "[encoded data removed]",
      "text/plain": [
       "<Figure size 1080x576 with 1 Axes>"
      ]
     },
     "metadata": {
      "needs_background": "light"
     },
     "output_type": "display_data"
    }
   ],
   "source": [
    "labels_dist = Counter(labels)\n",
    "\n",
    "plt.figure(figsize=(15, 8))\n",
    "plt.hist(labels, bins=np.arange(11) - 0.5)\n",
    "plt.xticks(0.5 + np.arange(len(labels_dist.keys())), labels_dist.keys())\n",
    "plt.title('Distribution of labels', fontsize=24)\n",
    "plt.xlabel('label', fontsize=16)\n",
    "plt.ylabel('count', fontsize=16)\n",
    "plt.show()"
   ]
  },
  {
   "cell_type": "markdown",
   "metadata": {},
   "source": [
    "---\n",
    "Как видим, большая часть лейблов не относится ни к одному из классов.\n",
    "\n",
    "Посмотрим на распределение лейблов, относящихся к какому-то из классов."
   ]
  },
  {
   "cell_type": "code",
   "execution_count": 10,
   "metadata": {},
   "outputs": [
    {
     "data": {
      "image/png": "[encoded data removed]",
      "text/plain": [
       "<Figure size 1080x576 with 1 Axes>"
      ]
     },
     "metadata": {
      "needs_background": "light"
     },
     "output_type": "display_data"
    }
   ],
   "source": [
    "labels_wo_O = list(filter(lambda x: x != 'O', labels))\n",
    "\n",
    "labels_dist = Counter(labels_wo_O)\n",
    "\n",
    "plt.figure(figsize=(15, 8))\n",
    "plt.hist(labels_wo_O, bins=np.arange(11) - 0.5)\n",
    "plt.xticks(np.arange(len(labels_dist.keys()) + 1), labels_dist.keys())\n",
    "plt.title('Distribution of labels', fontsize=24)\n",
    "plt.xlabel('label', fontsize=16)\n",
    "plt.ylabel('count', fontsize=16)\n",
    "plt.show()"
   ]
  },
  {
   "cell_type": "markdown",
   "metadata": {},
   "source": [
    "---\n",
    "###### 1.2. Remove unexcepted labels from data (if need) and describe how (if need).\n",
    "\n",
    "В задаче нас просят классифицировать слова на 6 классов, в то время как в датасете встречаются 11 классов.\n",
    "\n",
    "Удалим предложения, в которых встречаются неуместные лейблы (~250 предложений). Это самый простой подход, который уменьшит нам объём данных для обучения, но для начала сойдет. (можно еще заменить все unexpected labels на \"O\" и сравнить результаты).\n",
    "\n",
    "Также удалим плохие предложения, после токенизации которых количество меток не совпадает с количеством токенов (~70 предложений)."
   ]
  },
  {
   "cell_type": "code",
   "execution_count": 11,
   "metadata": {},
   "outputs": [
    {
     "name": "stdout",
     "output_type": "stream",
     "text": [
      "deleted sentences are 8.41 percents of train set\n"
     ]
    }
   ],
   "source": [
    "labels_remain = set(['B_ORG', 'I_PER', 'I_LOC', 'I_ORG', 'B_LOC', 'B_PER', 'O'])\n",
    "labels = list(train['tags'])\n",
    "\n",
    "is_remained = [set(l.split(' ')).issubset(labels_remain) for l in labels]\n",
    "\n",
    "percentage = 100. * (len(train) - sum(is_remained)) / len(train)\n",
    "train = train[is_remained]\n",
    "\n",
    "print('deleted sentences are %.2f percents of train set' % percentage)"
   ]
  },
  {
   "cell_type": "markdown",
   "metadata": {},
   "source": [
    "---\n",
    "# Part 2 Your own baseline.\n",
    "###### 2.1 Make your own baseline with this tutorial https://sklearn-crfsuite.readthedocs.io/en/latest/tutorial.html."
   ]
  },
  {
   "cell_type": "code",
   "execution_count": 12,
   "metadata": {},
   "outputs": [],
   "source": [
    "def word2features(sent, i):\n",
    "    word = sent[i][0]\n",
    "    postag = sent[i][1]\n",
    "\n",
    "    features = {\n",
    "        'word.lower()': word.lower(),\n",
    "        'word[-3:]': word[-3:],\n",
    "        'word[-2:]': word[-2:],\n",
    "        'word.isupper()': word.isupper(),\n",
    "        'word.istitle()': word.istitle(),\n",
    "        'word.isdigit()': word.isdigit(),\n",
    "        'postag': postag,\n",
    "        'postag[:2]': postag[:2],\n",
    "    }\n",
    "    if i > 0:\n",
    "        word1 = sent[i-1][0]\n",
    "        postag1 = sent[i-1][1]\n",
    "        features.update({\n",
    "            '-1:word.lower()': word1.lower(),\n",
    "            '-1:word.istitle()': word1.istitle(),\n",
    "            '-1:word.isupper()': word1.isupper(),\n",
    "            '-1:postag': postag1,\n",
    "            '-1:postag[:2]': postag1[:2],\n",
    "        })\n",
    "    else:\n",
    "        features['BOS'] = True\n",
    "\n",
    "    if i < len(sent)-1:\n",
    "        word1 = sent[i+1][0]\n",
    "        postag1 = sent[i+1][1]\n",
    "        features.update({\n",
    "            '+1:word.lower()': word1.lower(),\n",
    "            '+1:word.istitle()': word1.istitle(),\n",
    "            '+1:word.isupper()': word1.isupper(),\n",
    "            '+1:postag': postag1,\n",
    "            '+1:postag[:2]': postag1[:2],\n",
    "        })\n",
    "    else:\n",
    "        features['EOS'] = True\n",
    "\n",
    "    return features\n",
    "\n",
    "\n",
    "def sent2features(sent):\n",
    "    return [word2features(sent, i) for i in range(len(sent))]\n",
    "\n",
    "def sent2labels(sent):\n",
    "    return [label for token, postag, label in sent]\n",
    "\n",
    "def sent2tokens(sent):\n",
    "    return [token for token, postag, label in sent]"
   ]
  },
  {
   "cell_type": "code",
   "execution_count": 13,
   "metadata": {},
   "outputs": [
    {
     "data": {
      "application/vnd.jupyter.widget-view+json": {
       "model_id": "ed21cda8231a4450ac2d07ed5dc4baee",
       "version_major": 2,
       "version_minor": 0
      },
      "text/plain": [
       "HBox(children=(IntProgress(value=1, bar_style='info', max=1), HTML(value='')))"
      ]
     },
     "metadata": {},
     "output_type": "display_data"
    },
    {
     "name": "stdout",
     "output_type": "stream",
     "text": [
      "\n"
     ]
    },
    {
     "data": {
      "application/vnd.jupyter.widget-view+json": {
       "model_id": "539bc8406056442483c27eab8d960b40",
       "version_major": 2,
       "version_minor": 0
      },
      "text/plain": [
       "HBox(children=(IntProgress(value=1, bar_style='info', max=1), HTML(value='')))"
      ]
     },
     "metadata": {},
     "output_type": "display_data"
    },
    {
     "name": "stdout",
     "output_type": "stream",
     "text": [
      "\n"
     ]
    }
   ],
   "source": [
    "X_train = []\n",
    "y_train = []\n",
    "X_test = []\n",
    "\n",
    "for i, row in tqdm_notebook(train.iterrows()):\n",
    "    tokens = row[1].split(' ')\n",
    "    pos = nltk.pos_tag(tokens)\n",
    "    X_train.append(sent2features(pos))\n",
    "    y_train.append(row[2].split(' '))\n",
    "    \n",
    "for i, row in tqdm_notebook(test.iterrows()):\n",
    "    tokens = row[1].split(' ')\n",
    "    pos = nltk.pos_tag(tokens)\n",
    "    X_test.append(sent2features(pos))"
   ]
  },
  {
   "cell_type": "code",
   "execution_count": 14,
   "metadata": {},
   "outputs": [
    {
     "name": "stdout",
     "output_type": "stream",
     "text": [
      "CPU times: user 5.93 s, sys: 35.3 ms, total: 5.97 s\n",
      "Wall time: 6.01 s\n"
     ]
    },
    {
     "data": {
      "text/plain": [
       "CRF(algorithm='lbfgs', all_possible_states=None, all_possible_transitions=True,\n",
       "    averaging=None, c=None, c1=0.1, c2=0.1, calibration_candidates=None,\n",
       "    calibration_eta=None, calibration_max_trials=None, calibration_rate=None,\n",
       "    calibration_samples=None, delta=None, epsilon=None, error_sensitive=None,\n",
       "    gamma=None, keep_tempfiles=None, linesearch=None, max_iterations=100,\n",
       "    max_linesearch=None, min_freq=None, model_filename=None, num_memories=None,\n",
       "    pa_type=None, period=None, trainer_cls=None, variance=None, verbose=False)"
      ]
     },
     "execution_count": 14,
     "metadata": {},
     "output_type": "execute_result"
    }
   ],
   "source": [
    "%%time\n",
    "crf = sklearn_crfsuite.CRF(\n",
    "    algorithm='lbfgs',\n",
    "    c1=0.1,\n",
    "    c2=0.1,\n",
    "    max_iterations=100,\n",
    "    all_possible_transitions=True\n",
    ")\n",
    "crf.fit(X_train, y_train)"
   ]
  },
  {
   "cell_type": "code",
   "execution_count": 15,
   "metadata": {},
   "outputs": [
    {
     "data": {
      "text/plain": [
       "0.9927993427213615"
      ]
     },
     "execution_count": 15,
     "metadata": {},
     "output_type": "execute_result"
    }
   ],
   "source": [
    "y_pred = crf.predict(X_train)\n",
    "\n",
    "metrics.flat_f1_score(y_train, y_pred,\n",
    "                     average='macro', labels=list(crf.classes_))"
   ]
  },
  {
   "cell_type": "markdown",
   "metadata": {},
   "source": [
    "---\n",
    "Все обучается, перейдём к кросс-валидации."
   ]
  },
  {
   "cell_type": "markdown",
   "metadata": {},
   "source": [
    "---\n",
    "###### 2.2 Make crossvalidation."
   ]
  },
  {
   "cell_type": "code",
   "execution_count": 258,
   "metadata": {},
   "outputs": [],
   "source": [
    "# define fixed parameters and parameters to search\n",
    "crf = sklearn_crfsuite.CRF(\n",
    "    algorithm='lbfgs',\n",
    "    max_iterations=100,\n",
    "    all_possible_transitions=True\n",
    ")\n",
    "params_space = {\n",
    "    'c1': sps.expon(scale=0.5),\n",
    "    'c2': sps.expon(scale=0.05),\n",
    "}\n",
    "\n",
    "# use the same metric for evaluation\n",
    "f1_scorer = make_scorer(metrics.flat_f1_score,\n",
    "                        average='macro')\n",
    "\n",
    "# search\n",
    "rs = RandomizedSearchCV(crf, params_space,\n",
    "                        cv=5,\n",
    "                        verbose=1,\n",
    "                        n_jobs=-1,\n",
    "                        n_iter=50,\n",
    "                        scoring=f1_scorer)"
   ]
  },
  {
   "cell_type": "code",
   "execution_count": 261,
   "metadata": {},
   "outputs": [
    {
     "name": "stdout",
     "output_type": "stream",
     "text": [
      "Fitting 5 folds for each of 50 candidates, totalling 250 fits\n"
     ]
    },
    {
     "name": "stderr",
     "output_type": "stream",
     "text": [
      "[Parallel(n_jobs=-1)]: Using backend LokyBackend with 4 concurrent workers.\n",
      "[Parallel(n_jobs=-1)]: Done  42 tasks      | elapsed:  3.1min\n",
      "[Parallel(n_jobs=-1)]: Done 192 tasks      | elapsed: 14.0min\n",
      "[Parallel(n_jobs=-1)]: Done 250 out of 250 | elapsed: 18.1min finished\n"
     ]
    },
    {
     "name": "stdout",
     "output_type": "stream",
     "text": [
      "CPU times: user 16min 29s, sys: 5 s, total: 16min 34s\n",
      "Wall time: 18min 15s\n"
     ]
    },
    {
     "data": {
      "text/plain": [
       "RandomizedSearchCV(cv=5, error_score='raise-deprecating',\n",
       "                   estimator=CRF(algorithm='lbfgs', all_possible_states=None,\n",
       "                                 all_possible_transitions=True, averaging=None,\n",
       "                                 c=None, c1=None, c2=None,\n",
       "                                 calibration_candidates=None,\n",
       "                                 calibration_eta=None,\n",
       "                                 calibration_max_trials=None,\n",
       "                                 calibration_rate=None,\n",
       "                                 calibration_samples=None, delta=None,\n",
       "                                 epsilon=None, error_sensitive=None,...\n",
       "                                 verbose=False),\n",
       "                   iid='warn', n_iter=50, n_jobs=-1,\n",
       "                   param_distributions={'c1': <scipy.stats._distn_infrastructure.rv_frozen object at 0x7f824d545550>,\n",
       "                                        'c2': <scipy.stats._distn_infrastructure.rv_frozen object at 0x7f824d50afd0>},\n",
       "                   pre_dispatch='2*n_jobs', random_state=None, refit=True,\n",
       "                   return_train_score=False,\n",
       "                   scoring=make_scorer(flat_f1_score, average=macro),\n",
       "                   verbose=1)"
      ]
     },
     "execution_count": 261,
     "metadata": {},
     "output_type": "execute_result"
    }
   ],
   "source": [
    "%%time\n",
    "rs.fit(X_train, y_train)"
   ]
  },
  {
   "cell_type": "code",
   "execution_count": 297,
   "metadata": {},
   "outputs": [
    {
     "name": "stdout",
     "output_type": "stream",
     "text": [
      "best params: {'c1': 0.0036354063261784474, 'c2': 0.06156758465482312}\n",
      "best CV score: 0.7289647227932926\n",
      "model size: 1.75M\n"
     ]
    }
   ],
   "source": [
    "print('best params:', rs.best_params_)\n",
    "print('best CV score:', rs.best_score_)\n",
    "print('model size: {:0.2f}M'.format(rs.best_estimator_.size_ / 1000000))"
   ]
  },
  {
   "cell_type": "code",
   "execution_count": 300,
   "metadata": {},
   "outputs": [
    {
     "data": {
      "text/plain": [
       "CRF(algorithm='lbfgs', all_possible_states=None, all_possible_transitions=True,\n",
       "    averaging=None, c=None, c1=0.0036354063261784474, c2=0.06156758465482312,\n",
       "    calibration_candidates=None, calibration_eta=None,\n",
       "    calibration_max_trials=None, calibration_rate=None,\n",
       "    calibration_samples=None, delta=None, epsilon=None, error_sensitive=None,\n",
       "    gamma=None, keep_tempfiles=None, linesearch=None, max_iterations=100,\n",
       "    max_linesearch=None, min_freq=None, model_filename=None, num_memories=None,\n",
       "    pa_type=None, period=None, trainer_cls=None, variance=None, verbose=False)"
      ]
     },
     "execution_count": 300,
     "metadata": {},
     "output_type": "execute_result"
    }
   ],
   "source": [
    "crf = sklearn_crfsuite.CRF(\n",
    "    algorithm='lbfgs',\n",
    "    c1=rs.best_params_['c1'],\n",
    "    c2=rs.best_params_['c2'],\n",
    "    max_iterations=100,\n",
    "    all_possible_transitions=True\n",
    ")\n",
    "\n",
    "crf.fit(X_train, y_train)"
   ]
  },
  {
   "cell_type": "code",
   "execution_count": 301,
   "metadata": {},
   "outputs": [],
   "source": [
    "y_pred = crf.predict(X_test)"
   ]
  },
  {
   "cell_type": "code",
   "execution_count": 302,
   "metadata": {},
   "outputs": [],
   "source": [
    "lbl_dict = {'B_ORG': 0, 'I_PER': 1, 'I_LOC': 2, 'I_ORG': 3, 'B_LOC': 4, 'B_PER': 5, 'O': 6}\n",
    "\n",
    "submission_list = []\n",
    "\n",
    "for row in y_pred:\n",
    "    for lbl in row:\n",
    "        submission_list.append(lbl_dict[lbl])"
   ]
  },
  {
   "cell_type": "code",
   "execution_count": 309,
   "metadata": {},
   "outputs": [],
   "source": [
    "submission = pd.DataFrame({'Id': np.arange(len(submission_list)), 'Predicted': submission_list})"
   ]
  },
  {
   "cell_type": "code",
   "execution_count": 304,
   "metadata": {},
   "outputs": [],
   "source": [
    "submission.to_csv('submission_baseline.csv', index=False)"
   ]
  },
  {
   "cell_type": "markdown",
   "metadata": {},
   "source": [
    "---\n",
    "Данный submission набрал 0.615 f1-score на тестовых данных на kaggle с гиперпараметрами $\\text{c1}=0.0036$, $\\text{c2}=0.061$.\n",
    "\n",
    "Использовавшиеся фичи:\n",
    "\n",
    "1. word.lower() - токен в нижнем регистре\n",
    "2. word.isupper() - флаг, записан ли токен в верхнем регистре\n",
    "3. word.istitle() - флаг, начинается ли токен с заглавной буквы\n",
    "4. postag - тэг токена\n",
    "5. postag[:2] - первые 2 символа тэга\n",
    "6. фичи 1-5 для соселних токенов\n",
    "7. word.isdigit() - флаг, является ли токен числом\n",
    "8. word[-3:] - суффикс токена длины 3\n",
    "9. word[-2:] - суффикс токена длины 2\n",
    "10. BOS - флаг, является ли токен первым в предложении\n",
    "11. EOS - флаг, является ли токен последним в предложении\n",
    "\n",
    "Все эти фичи взяты из туториала https://sklearn-crfsuite.readthedocs.io/en/latest/tutorial.html"
   ]
  },
  {
   "cell_type": "markdown",
   "metadata": {},
   "source": [
    "---\n",
    "# Part 3. Your favorite ml algorithm."
   ]
  },
  {
   "cell_type": "markdown",
   "metadata": {},
   "source": [
    "---\n",
    "###### 3.1 Make submission to leaderboard and beat a baseline with your favorite ML algorithm (0.55 macro f1).\n",
    "\n",
    "подход №1: rusVectores embedding + BiLSTM + CRF"
   ]
  },
  {
   "cell_type": "markdown",
   "metadata": {},
   "source": [
    "---\n",
    "разобъем данные на обучение и валидацию"
   ]
  },
  {
   "cell_type": "code",
   "execution_count": 14,
   "metadata": {},
   "outputs": [],
   "source": [
    "train_data, val_data = train_test_split(train, test_size=0.1, random_state=42)\n",
    "test_data = test.copy()\n",
    "\n",
    "labels = []\n",
    "for i, row in test_data.iterrows():\n",
    "    labels.append(' '.join(['O'] * len(row[1].split(' '))))\n",
    "\n",
    "test_data['labels'] = labels\n",
    "\n",
    "train_data.columns = ['id', 'text', 'labels']\n",
    "val_data.columns = ['id', 'text', 'labels']\n",
    "test_data.columns = ['id', 'text', 'labels']"
   ]
  },
  {
   "cell_type": "code",
   "execution_count": 15,
   "metadata": {},
   "outputs": [],
   "source": [
    "train_data.to_csv('train_data.csv', sep='\\t')\n",
    "val_data.to_csv('val_data.csv', sep='\\t')\n",
    "test_data.to_csv('test_data.csv', sep='\\t')"
   ]
  },
  {
   "cell_type": "markdown",
   "metadata": {},
   "source": [
    "---\n",
    "загрузим модель эмбеддингов с rusVectores"
   ]
  },
  {
   "cell_type": "code",
   "execution_count": 16,
   "metadata": {},
   "outputs": [
    {
     "name": "stderr",
     "output_type": "stream",
     "text": [
      "INFO:gensim.utils:loading Word2VecKeyedVectors object from model.model\n",
      "INFO:gensim.utils:loading vectors from model.model.vectors.npy with mmap=None\n",
      "INFO:gensim.utils:loading vectors_vocab from model.model.vectors_vocab.npy with mmap=None\n",
      "INFO:gensim.utils:loading vectors_ngrams from model.model.vectors_ngrams.npy with mmap=None\n",
      "INFO:gensim.utils:setting ignored attribute vectors_norm to None\n",
      "INFO:gensim.utils:setting ignored attribute vectors_vocab_norm to None\n",
      "INFO:gensim.utils:setting ignored attribute vectors_ngrams_norm to None\n",
      "INFO:gensim.utils:setting ignored attribute buckets_word to None\n",
      "INFO:gensim.utils:loaded model.model\n"
     ]
    }
   ],
   "source": [
    "model = gensim.models.KeyedVectors.load('model.model')"
   ]
  },
  {
   "cell_type": "code",
   "execution_count": 17,
   "metadata": {},
   "outputs": [],
   "source": [
    "learn = NerLearner(\n",
    "    train_df_path=\"~/study/5course/NLP-mipt/hw2/train_data.csv\",\n",
    "    valid_df_path=\"~/study/5course/NLP-mipt/hw2/val_data.csv\",\n",
    "    test_df_path=\"~/study/5course/NLP-mipt/hw2/test_data.csv\",\n",
    "    embedder=model,\n",
    "    tensorboard_dir=\"logs\",\n",
    "    hidden_dim=1024,\n",
    "    lr=0.0004,\n",
    "    use_embeds=False\n",
    ")"
   ]
  },
  {
   "cell_type": "code",
   "execution_count": 18,
   "metadata": {
    "scrolled": false
   },
   "outputs": [
    {
     "name": "stderr",
     "output_type": "stream",
     "text": [
      "INFO:root:Start training. Total epochs 10.\n",
      "INFO:root:                                                                       \n",
      "epoch 1, average train epoch loss=17.938\n",
      "\n",
      "  0%|          | 0/195 [00:00<?, ?it/s]        "
     ]
    },
    {
     "name": "stdout",
     "output_type": "stream",
     "text": [
      "              precision    recall  f1-score   support\n",
      "\n",
      "       B_LOC      0.659     0.513     0.577       158\n",
      "       B_ORG      0.619     0.106     0.181       123\n",
      "       B_PER      0.555     0.426     0.482       190\n",
      "       I_LOC      0.000     0.000     0.000        14\n",
      "       I_ORG      0.667     0.042     0.078        96\n",
      "       I_PER      0.818     0.094     0.168        96\n",
      "           O      0.922     0.992     0.956      4841\n",
      "\n",
      "    accuracy                          0.904      5518\n",
      "   macro avg      0.606     0.310     0.349      5518\n",
      "weighted avg      0.886     0.904     0.880      5518\n",
      "\n"
     ]
    },
    {
     "name": "stderr",
     "output_type": "stream",
     "text": [
      "INFO:root:                                                                       \n",
      "epoch 2, average train epoch loss=4.5087\n",
      "\n",
      "train loss: 3.6290786266326904:   0%|          | 0/195 [00:00<?, ?it/s]"
     ]
    },
    {
     "name": "stdout",
     "output_type": "stream",
     "text": [
      "              precision    recall  f1-score   support\n",
      "\n",
      "       B_LOC      0.818     0.709     0.759       158\n",
      "       B_ORG      0.732     0.423     0.536       123\n",
      "       B_PER      0.789     0.747     0.768       190\n",
      "       I_LOC      1.000     0.143     0.250        14\n",
      "       I_ORG      0.535     0.396     0.455        96\n",
      "       I_PER      0.882     0.698     0.779        96\n",
      "           O      0.957     0.985     0.971      4841\n",
      "\n",
      "    accuracy                          0.939      5518\n",
      "   macro avg      0.816     0.586     0.645      5518\n",
      "weighted avg      0.934     0.939     0.934      5518\n",
      "\n"
     ]
    },
    {
     "name": "stderr",
     "output_type": "stream",
     "text": [
      "INFO:root:                                                                       \n",
      "epoch 3, average train epoch loss=3.294\n",
      "\n",
      "train loss: 3.167675733566284:   1%|          | 2/195 [00:00<00:13, 14.32it/s]"
     ]
    },
    {
     "name": "stdout",
     "output_type": "stream",
     "text": [
      "              precision    recall  f1-score   support\n",
      "\n",
      "       B_LOC      0.870     0.722     0.789       158\n",
      "       B_ORG      0.680     0.537     0.600       123\n",
      "       B_PER      0.813     0.779     0.796       190\n",
      "       I_LOC      1.000     0.143     0.250        14\n",
      "       I_ORG      0.604     0.635     0.619        96\n",
      "       I_PER      0.922     0.740     0.821        96\n",
      "           O      0.965     0.982     0.973      4841\n",
      "\n",
      "    accuracy                          0.945      5518\n",
      "   macro avg      0.836     0.648     0.693      5518\n",
      "weighted avg      0.944     0.945     0.943      5518\n",
      "\n"
     ]
    },
    {
     "name": "stderr",
     "output_type": "stream",
     "text": [
      "INFO:root:                                                                       \n",
      "epoch 4, average train epoch loss=2.779\n",
      "\n",
      "train loss: 2.7176783084869385:   1%|          | 2/195 [00:00<00:13, 14.40it/s]"
     ]
    },
    {
     "name": "stdout",
     "output_type": "stream",
     "text": [
      "              precision    recall  f1-score   support\n",
      "\n",
      "       B_LOC      0.867     0.741     0.799       158\n",
      "       B_ORG      0.650     0.618     0.633       123\n",
      "       B_PER      0.853     0.795     0.823       190\n",
      "       I_LOC      0.500     0.143     0.222        14\n",
      "       I_ORG      0.638     0.625     0.632        96\n",
      "       I_PER      0.906     0.802     0.851        96\n",
      "           O      0.969     0.982     0.975      4841\n",
      "\n",
      "    accuracy                          0.949      5518\n",
      "   macro avg      0.769     0.672     0.705      5518\n",
      "weighted avg      0.947     0.949     0.947      5518\n",
      "\n"
     ]
    },
    {
     "name": "stderr",
     "output_type": "stream",
     "text": [
      "INFO:root:                                                                       \n",
      "epoch 5, average train epoch loss=2.3862\n",
      "\n",
      "train loss: 2.39485502243042:   1%|          | 2/195 [00:00<00:13, 14.15it/s]"
     ]
    },
    {
     "name": "stdout",
     "output_type": "stream",
     "text": [
      "              precision    recall  f1-score   support\n",
      "\n",
      "       B_LOC      0.873     0.741     0.801       158\n",
      "       B_ORG      0.644     0.618     0.631       123\n",
      "       B_PER      0.847     0.789     0.817       190\n",
      "       I_LOC      0.600     0.214     0.316        14\n",
      "       I_ORG      0.588     0.625     0.606        96\n",
      "       I_PER      0.886     0.812     0.848        96\n",
      "           O      0.971     0.981     0.976      4841\n",
      "\n",
      "    accuracy                          0.949      5518\n",
      "   macro avg      0.773     0.683     0.714      5518\n",
      "weighted avg      0.947     0.949     0.947      5518\n",
      "\n"
     ]
    },
    {
     "name": "stderr",
     "output_type": "stream",
     "text": [
      "INFO:root:                                                                       \n",
      "epoch 6, average train epoch loss=2.1559\n",
      "\n",
      "train loss: 2.167495846748352:   1%|          | 2/195 [00:00<00:13, 14.17it/s]"
     ]
    },
    {
     "name": "stdout",
     "output_type": "stream",
     "text": [
      "              precision    recall  f1-score   support\n",
      "\n",
      "       B_LOC      0.873     0.741     0.801       158\n",
      "       B_ORG      0.646     0.593     0.619       123\n",
      "       B_PER      0.847     0.789     0.817       190\n",
      "       I_LOC      0.667     0.286     0.400        14\n",
      "       I_ORG      0.619     0.625     0.622        96\n",
      "       I_PER      0.892     0.865     0.878        96\n",
      "           O      0.970     0.981     0.976      4841\n",
      "\n",
      "    accuracy                          0.949      5518\n",
      "   macro avg      0.788     0.697     0.730      5518\n",
      "weighted avg      0.948     0.949     0.948      5518\n",
      "\n"
     ]
    },
    {
     "name": "stderr",
     "output_type": "stream",
     "text": [
      "INFO:root:                                                                       \n",
      "epoch 7, average train epoch loss=2.0002\n",
      "\n",
      "train loss: 2.1292781829833984:   1%|          | 2/195 [00:00<00:14, 13.70it/s]"
     ]
    },
    {
     "name": "stdout",
     "output_type": "stream",
     "text": [
      "              precision    recall  f1-score   support\n",
      "\n",
      "       B_LOC      0.881     0.753     0.812       158\n",
      "       B_ORG      0.667     0.585     0.623       123\n",
      "       B_PER      0.859     0.800     0.828       190\n",
      "       I_LOC      0.667     0.286     0.400        14\n",
      "       I_ORG      0.630     0.604     0.617        96\n",
      "       I_PER      0.882     0.854     0.868        96\n",
      "           O      0.970     0.983     0.976      4841\n",
      "\n",
      "    accuracy                          0.951      5518\n",
      "   macro avg      0.794     0.695     0.732      5518\n",
      "weighted avg      0.948     0.951     0.949      5518\n",
      "\n"
     ]
    },
    {
     "name": "stderr",
     "output_type": "stream",
     "text": [
      "INFO:root:                                                                       \n",
      "epoch 8, average train epoch loss=1.8894\n",
      "\n",
      "train loss: 1.9832584857940674:   1%|          | 2/195 [00:00<00:13, 14.27it/s]"
     ]
    },
    {
     "name": "stdout",
     "output_type": "stream",
     "text": [
      "              precision    recall  f1-score   support\n",
      "\n",
      "       B_LOC      0.868     0.747     0.803       158\n",
      "       B_ORG      0.710     0.577     0.637       123\n",
      "       B_PER      0.852     0.789     0.820       190\n",
      "       I_LOC      0.444     0.286     0.348        14\n",
      "       I_ORG      0.644     0.604     0.624        96\n",
      "       I_PER      0.901     0.854     0.877        96\n",
      "           O      0.968     0.983     0.976      4841\n",
      "\n",
      "    accuracy                          0.950      5518\n",
      "   macro avg      0.770     0.692     0.726      5518\n",
      "weighted avg      0.948     0.950     0.949      5518\n",
      "\n"
     ]
    },
    {
     "name": "stderr",
     "output_type": "stream",
     "text": [
      "INFO:root:                                                                       \n",
      "epoch 9, average train epoch loss=1.8264\n",
      "\n",
      "train loss: 1.7917031049728394:   1%|          | 2/195 [00:00<00:13, 13.84it/s]"
     ]
    },
    {
     "name": "stdout",
     "output_type": "stream",
     "text": [
      "              precision    recall  f1-score   support\n",
      "\n",
      "       B_LOC      0.874     0.747     0.805       158\n",
      "       B_ORG      0.689     0.577     0.628       123\n",
      "       B_PER      0.853     0.795     0.823       190\n",
      "       I_LOC      0.500     0.286     0.364        14\n",
      "       I_ORG      0.624     0.604     0.614        96\n",
      "       I_PER      0.882     0.854     0.868        96\n",
      "           O      0.969     0.982     0.976      4841\n",
      "\n",
      "    accuracy                          0.950      5518\n",
      "   macro avg      0.770     0.692     0.725      5518\n",
      "weighted avg      0.947     0.950     0.948      5518\n",
      "\n"
     ]
    },
    {
     "name": "stderr",
     "output_type": "stream",
     "text": [
      "INFO:root:                                                                       \n",
      "epoch 10, average train epoch loss=1.8056\n",
      "\n",
      "                                               \r"
     ]
    },
    {
     "name": "stdout",
     "output_type": "stream",
     "text": [
      "              precision    recall  f1-score   support\n",
      "\n",
      "       B_LOC      0.874     0.747     0.805       158\n",
      "       B_ORG      0.689     0.577     0.628       123\n",
      "       B_PER      0.848     0.795     0.821       190\n",
      "       I_LOC      0.500     0.286     0.364        14\n",
      "       I_ORG      0.628     0.615     0.621        96\n",
      "       I_PER      0.874     0.865     0.869        96\n",
      "           O      0.969     0.982     0.976      4841\n",
      "\n",
      "    accuracy                          0.950      5518\n",
      "   macro avg      0.769     0.695     0.726      5518\n",
      "weighted avg      0.947     0.950     0.948      5518\n",
      "\n"
     ]
    }
   ],
   "source": [
    "learn.fit(10)"
   ]
  },
  {
   "cell_type": "code",
   "execution_count": 19,
   "metadata": {},
   "outputs": [
    {
     "data": {
      "image/png": "[encoded data removed]",
      "text/plain": [
       "<Figure size 1080x576 with 1 Axes>"
      ]
     },
     "metadata": {
      "needs_background": "light"
     },
     "output_type": "display_data"
    }
   ],
   "source": [
    "learn.plot_learning_curve()"
   ]
  },
  {
   "cell_type": "markdown",
   "metadata": {},
   "source": [
    "Сформируем submission"
   ]
  },
  {
   "cell_type": "code",
   "execution_count": null,
   "metadata": {},
   "outputs": [],
   "source": [
    "pred = predict(learn.data.test_dl, learn.model, learn.data.train_ds.idx2label)"
   ]
  },
  {
   "cell_type": "code",
   "execution_count": 35,
   "metadata": {},
   "outputs": [],
   "source": [
    "lbl_dict = {'B_ORG': 0, 'I_PER': 1, 'I_LOC': 2, 'I_ORG': 3, 'B_LOC': 4, 'B_PER': 5, 'O': 6, '<pad>': 6}\n",
    "\n",
    "submission_list = []\n",
    "\n",
    "for row in pred:\n",
    "    for lbl in row:\n",
    "        submission_list.append(lbl_dict[lbl])"
   ]
  },
  {
   "cell_type": "code",
   "execution_count": 36,
   "metadata": {},
   "outputs": [],
   "source": [
    "submission = pd.DataFrame({'Id': np.arange(len(submission_list)), 'Predicted': submission_list})\n",
    "submission.to_csv('submission_BiLSTM_CRF_10_epochs.csv', index=False)"
   ]
  },
  {
   "cell_type": "markdown",
   "metadata": {},
   "source": [
    "---\n",
    "Подход №2: попробуем использовать предобученный BERT в качестве эмбеддера.\n",
    "\n",
    "Для этого сначала подготовим словарь слов:"
   ]
  },
  {
   "cell_type": "code",
   "execution_count": 20,
   "metadata": {},
   "outputs": [],
   "source": [
    "words = list(map(str.split, list(train.tokens))) + list(map(str.split, list(test.tokens)))\n",
    "words = [item for w in words for item in w]\n",
    "words.append('<pad>')\n",
    "\n",
    "words = list(set(words))"
   ]
  },
  {
   "cell_type": "markdown",
   "metadata": {},
   "source": [
    "---\n",
    "Загрузим модель:"
   ]
  },
  {
   "cell_type": "code",
   "execution_count": 21,
   "metadata": {},
   "outputs": [],
   "source": [
    "tokenizer = BertTokenizer.from_pretrained('./rubert_cased_L-12_H-768_A-12_pt')\n",
    "model = BertModel.from_pretrained('./rubert_cased_L-12_H-768_A-12_pt')"
   ]
  },
  {
   "cell_type": "markdown",
   "metadata": {},
   "source": [
    "---\n",
    "Запишем все векторные представления слов из словаря в файл:"
   ]
  },
  {
   "cell_type": "code",
   "execution_count": 22,
   "metadata": {},
   "outputs": [],
   "source": [
    "with open('bert.wv', 'a') as f:\n",
    "    for w in tqdm_notebook(words):\n",
    "        wv = model(**tokenizer(w, return_tensors='pt')).last_hidden_state[:, 0, :].reshape(-1).tolist()\n",
    "        f.write(w + '\\t' + str(wv) + '\\n')"
   ]
  },
  {
   "cell_type": "code",
   "execution_count": 23,
   "metadata": {},
   "outputs": [
    {
     "data": {
      "application/vnd.jupyter.widget-view+json": {
       "model_id": "db254d9a287945dab37dc04df09871dd",
       "version_major": 2,
       "version_minor": 0
      },
      "text/plain": [
       "HBox(children=(IntProgress(value=1, bar_style='info', max=1), HTML(value='')))"
      ]
     },
     "metadata": {},
     "output_type": "display_data"
    },
    {
     "name": "stdout",
     "output_type": "stream",
     "text": [
      "\n"
     ]
    }
   ],
   "source": [
    "bert_wv = {}\n",
    "\n",
    "with open('bert.wv', 'r') as f:\n",
    "    for line in tqdm_notebook(f):\n",
    "        text = line.split('\\t')\n",
    "        word = text[0]\n",
    "        text = text[1].rstrip()\n",
    "        bert_wv[word] = np.array(list(map(float, text[1:-1].split(', '))), dtype=np.float32)"
   ]
  },
  {
   "cell_type": "code",
   "execution_count": 24,
   "metadata": {},
   "outputs": [],
   "source": [
    "class Bert():\n",
    "    def __init__(self, wv):\n",
    "        self.wv = wv\n",
    "        \n",
    "    def __getitem__(self, text):\n",
    "        output = [self.wv[word] for word in text]\n",
    "        return np.stack(output, axis=0)"
   ]
  },
  {
   "cell_type": "code",
   "execution_count": 25,
   "metadata": {},
   "outputs": [],
   "source": [
    "model = Bert(wv=bert_wv)"
   ]
  },
  {
   "cell_type": "code",
   "execution_count": 26,
   "metadata": {},
   "outputs": [],
   "source": [
    "learn = NerLearner(\n",
    "    train_df_path=\"~/study/5course/NLP-mipt/hw2/train_data.csv\",\n",
    "    valid_df_path=\"~/study/5course/NLP-mipt/hw2/val_data.csv\",\n",
    "    test_df_path=\"~/study/5course/NLP-mipt/hw2/test_data.csv\",\n",
    "    embedder=model,\n",
    "    tensorboard_dir=\"logs\",\n",
    "    embedding_size=768,\n",
    "    hidden_dim=1024,\n",
    "    lr=0.0004,\n",
    "    use_embeds=False\n",
    ")"
   ]
  },
  {
   "cell_type": "code",
   "execution_count": 27,
   "metadata": {
    "scrolled": false
   },
   "outputs": [
    {
     "name": "stderr",
     "output_type": "stream",
     "text": [
      "INFO:root:Start training. Total epochs 10.\n",
      "INFO:root:                                                                       \n",
      "epoch 1, average train epoch loss=13.986\n",
      "\n",
      "train loss: 4.972865104675293:   0%|          | 0/195 [00:00<?, ?it/s]"
     ]
    },
    {
     "name": "stdout",
     "output_type": "stream",
     "text": [
      "              precision    recall  f1-score   support\n",
      "\n",
      "       B_LOC      0.810     0.323     0.462       158\n",
      "       B_ORG      0.750     0.122     0.210       123\n",
      "       B_PER      0.782     0.774     0.778       190\n",
      "       I_LOC      0.000     0.000     0.000        14\n",
      "       I_ORG      0.571     0.083     0.145        96\n",
      "       I_PER      0.769     0.625     0.690        96\n",
      "           O      0.936     0.996     0.965      4841\n",
      "\n",
      "    accuracy                          0.925      5518\n",
      "   macro avg      0.660     0.418     0.464      5518\n",
      "weighted avg      0.911     0.925     0.906      5518\n",
      "\n"
     ]
    },
    {
     "name": "stderr",
     "output_type": "stream",
     "text": [
      "INFO:root:                                                                       \n",
      "epoch 2, average train epoch loss=4.0856\n",
      "\n",
      "train loss: 2.67067289352417:   0%|          | 0/195 [00:00<?, ?it/s]"
     ]
    },
    {
     "name": "stdout",
     "output_type": "stream",
     "text": [
      "              precision    recall  f1-score   support\n",
      "\n",
      "       B_LOC      0.782     0.728     0.754       158\n",
      "       B_ORG      0.723     0.488     0.583       123\n",
      "       B_PER      0.884     0.805     0.843       190\n",
      "       I_LOC      1.000     0.071     0.133        14\n",
      "       I_ORG      0.595     0.490     0.537        96\n",
      "       I_PER      0.929     0.677     0.783        96\n",
      "           O      0.964     0.988     0.976      4841\n",
      "\n",
      "    accuracy                          0.947      5518\n",
      "   macro avg      0.840     0.607     0.658      5518\n",
      "weighted avg      0.944     0.947     0.943      5518\n",
      "\n"
     ]
    },
    {
     "name": "stderr",
     "output_type": "stream",
     "text": [
      "INFO:root:                                                                       \n",
      "epoch 3, average train epoch loss=3.1159\n",
      "\n",
      "train loss: 1.691235065460205:   0%|          | 0/195 [00:00<?, ?it/s]"
     ]
    },
    {
     "name": "stdout",
     "output_type": "stream",
     "text": [
      "              precision    recall  f1-score   support\n",
      "\n",
      "       B_LOC      0.817     0.734     0.773       158\n",
      "       B_ORG      0.750     0.610     0.673       123\n",
      "       B_PER      0.912     0.816     0.861       190\n",
      "       I_LOC      1.000     0.286     0.444        14\n",
      "       I_ORG      0.719     0.427     0.536        96\n",
      "       I_PER      0.890     0.760     0.820        96\n",
      "           O      0.968     0.992     0.980      4841\n",
      "\n",
      "    accuracy                          0.954      5518\n",
      "   macro avg      0.865     0.661     0.727      5518\n",
      "weighted avg      0.951     0.954     0.951      5518\n",
      "\n"
     ]
    },
    {
     "name": "stderr",
     "output_type": "stream",
     "text": [
      "INFO:root:                                                                       \n",
      "epoch 4, average train epoch loss=2.5777\n",
      "\n",
      "train loss: 1.501739501953125:   0%|          | 0/195 [00:00<?, ?it/s]"
     ]
    },
    {
     "name": "stdout",
     "output_type": "stream",
     "text": [
      "              precision    recall  f1-score   support\n",
      "\n",
      "       B_LOC      0.847     0.703     0.768       158\n",
      "       B_ORG      0.747     0.602     0.667       123\n",
      "       B_PER      0.905     0.853     0.878       190\n",
      "       I_LOC      0.800     0.286     0.421        14\n",
      "       I_ORG      0.759     0.458     0.571        96\n",
      "       I_PER      0.883     0.865     0.874        96\n",
      "           O      0.970     0.992     0.981      4841\n",
      "\n",
      "    accuracy                          0.957      5518\n",
      "   macro avg      0.845     0.680     0.737      5518\n",
      "weighted avg      0.954     0.957     0.954      5518\n",
      "\n"
     ]
    },
    {
     "name": "stderr",
     "output_type": "stream",
     "text": [
      "INFO:root:                                                                       \n",
      "epoch 5, average train epoch loss=2.2482\n",
      "\n",
      "train loss: 1.2653007507324219:   0%|          | 0/195 [00:00<?, ?it/s]"
     ]
    },
    {
     "name": "stdout",
     "output_type": "stream",
     "text": [
      "              precision    recall  f1-score   support\n",
      "\n",
      "       B_LOC      0.823     0.766     0.793       158\n",
      "       B_ORG      0.784     0.707     0.744       123\n",
      "       B_PER      0.930     0.842     0.884       190\n",
      "       I_LOC      0.571     0.286     0.381        14\n",
      "       I_ORG      0.770     0.594     0.671        96\n",
      "       I_PER      0.884     0.875     0.880        96\n",
      "           O      0.976     0.991     0.983      4841\n",
      "\n",
      "    accuracy                          0.962      5518\n",
      "   macro avg      0.820     0.723     0.762      5518\n",
      "weighted avg      0.960     0.962     0.960      5518\n",
      "\n"
     ]
    },
    {
     "name": "stderr",
     "output_type": "stream",
     "text": [
      "INFO:root:                                                                       \n",
      "epoch 6, average train epoch loss=2.0413\n",
      "\n",
      "train loss: 1.154857873916626:   0%|          | 0/195 [00:00<?, ?it/s]"
     ]
    },
    {
     "name": "stdout",
     "output_type": "stream",
     "text": [
      "              precision    recall  f1-score   support\n",
      "\n",
      "       B_LOC      0.851     0.759     0.803       158\n",
      "       B_ORG      0.756     0.732     0.744       123\n",
      "       B_PER      0.911     0.863     0.886       190\n",
      "       I_LOC      0.667     0.429     0.522        14\n",
      "       I_ORG      0.784     0.604     0.682        96\n",
      "       I_PER      0.840     0.927     0.881        96\n",
      "           O      0.979     0.988     0.984      4841\n",
      "\n",
      "    accuracy                          0.963      5518\n",
      "   macro avg      0.827     0.758     0.786      5518\n",
      "weighted avg      0.961     0.963     0.961      5518\n",
      "\n"
     ]
    },
    {
     "name": "stderr",
     "output_type": "stream",
     "text": [
      "INFO:root:                                                                       \n",
      "epoch 7, average train epoch loss=1.863\n",
      "\n",
      "train loss: 1.0706713199615479:   0%|          | 0/195 [00:00<?, ?it/s]"
     ]
    },
    {
     "name": "stdout",
     "output_type": "stream",
     "text": [
      "              precision    recall  f1-score   support\n",
      "\n",
      "       B_LOC      0.846     0.766     0.804       158\n",
      "       B_ORG      0.780     0.748     0.763       123\n",
      "       B_PER      0.907     0.874     0.890       190\n",
      "       I_LOC      0.667     0.429     0.522        14\n",
      "       I_ORG      0.768     0.656     0.708        96\n",
      "       I_PER      0.840     0.927     0.881        96\n",
      "           O      0.981     0.988     0.984      4841\n",
      "\n",
      "    accuracy                          0.964      5518\n",
      "   macro avg      0.827     0.770     0.793      5518\n",
      "weighted avg      0.963     0.964     0.963      5518\n",
      "\n"
     ]
    },
    {
     "name": "stderr",
     "output_type": "stream",
     "text": [
      "INFO:root:                                                                       \n",
      "epoch 8, average train epoch loss=1.7892\n",
      "\n",
      "train loss: 1.1426951885223389:   0%|          | 0/195 [00:00<?, ?it/s]"
     ]
    },
    {
     "name": "stdout",
     "output_type": "stream",
     "text": [
      "              precision    recall  f1-score   support\n",
      "\n",
      "       B_LOC      0.854     0.778     0.815       158\n",
      "       B_ORG      0.791     0.740     0.765       123\n",
      "       B_PER      0.897     0.868     0.882       190\n",
      "       I_LOC      0.600     0.429     0.500        14\n",
      "       I_ORG      0.756     0.646     0.697        96\n",
      "       I_PER      0.827     0.948     0.883        96\n",
      "           O      0.981     0.987     0.984      4841\n",
      "\n",
      "    accuracy                          0.963      5518\n",
      "   macro avg      0.815     0.771     0.789      5518\n",
      "weighted avg      0.962     0.963     0.963      5518\n",
      "\n"
     ]
    },
    {
     "name": "stderr",
     "output_type": "stream",
     "text": [
      "INFO:root:                                                                       \n",
      "epoch 9, average train epoch loss=1.7269\n",
      "\n",
      "train loss: 0.9938123226165771:   0%|          | 0/195 [00:00<?, ?it/s]"
     ]
    },
    {
     "name": "stdout",
     "output_type": "stream",
     "text": [
      "              precision    recall  f1-score   support\n",
      "\n",
      "       B_LOC      0.854     0.778     0.815       158\n",
      "       B_ORG      0.800     0.683     0.737       123\n",
      "       B_PER      0.921     0.863     0.891       190\n",
      "       I_LOC      0.600     0.429     0.500        14\n",
      "       I_ORG      0.700     0.656     0.677        96\n",
      "       I_PER      0.840     0.927     0.881        96\n",
      "           O      0.978     0.987     0.983      4841\n",
      "\n",
      "    accuracy                          0.962      5518\n",
      "   macro avg      0.813     0.761     0.783      5518\n",
      "weighted avg      0.961     0.962     0.961      5518\n",
      "\n"
     ]
    },
    {
     "name": "stderr",
     "output_type": "stream",
     "text": [
      "INFO:root:                                                                       \n",
      "epoch 10, average train epoch loss=1.704\n",
      "\n",
      "                                               \r"
     ]
    },
    {
     "name": "stdout",
     "output_type": "stream",
     "text": [
      "              precision    recall  f1-score   support\n",
      "\n",
      "       B_LOC      0.855     0.785     0.818       158\n",
      "       B_ORG      0.802     0.724     0.761       123\n",
      "       B_PER      0.921     0.863     0.891       190\n",
      "       I_LOC      0.600     0.429     0.500        14\n",
      "       I_ORG      0.677     0.656     0.667        96\n",
      "       I_PER      0.840     0.927     0.881        96\n",
      "           O      0.979     0.986     0.983      4841\n",
      "\n",
      "    accuracy                          0.962      5518\n",
      "   macro avg      0.811     0.767     0.786      5518\n",
      "weighted avg      0.961     0.962     0.962      5518\n",
      "\n"
     ]
    }
   ],
   "source": [
    "learn.fit(10)"
   ]
  },
  {
   "cell_type": "code",
   "execution_count": 28,
   "metadata": {},
   "outputs": [
    {
     "data": {
      "image/png": "[encoded data removed]",
      "text/plain": [
       "<Figure size 1080x576 with 1 Axes>"
      ]
     },
     "metadata": {
      "needs_background": "light"
     },
     "output_type": "display_data"
    }
   ],
   "source": [
    "learn.plot_learning_curve()"
   ]
  },
  {
   "cell_type": "markdown",
   "metadata": {},
   "source": [
    "Сформируем submission:"
   ]
  },
  {
   "cell_type": "code",
   "execution_count": null,
   "metadata": {},
   "outputs": [],
   "source": [
    "pred = predict(learn.data.test_dl, learn.model, learn.data.train_ds.idx2label)"
   ]
  },
  {
   "cell_type": "code",
   "execution_count": null,
   "metadata": {},
   "outputs": [],
   "source": [
    "lbl_dict = {'B_ORG': 0, 'I_PER': 1, 'I_LOC': 2, 'I_ORG': 3, 'B_LOC': 4, 'B_PER': 5, 'O': 6, '<pad>': 6}\n",
    "\n",
    "submission_list = []\n",
    "\n",
    "for row in pred:\n",
    "    for lbl in row:\n",
    "        submission_list.append(lbl_dict[lbl])"
   ]
  },
  {
   "cell_type": "code",
   "execution_count": null,
   "metadata": {},
   "outputs": [],
   "source": [
    "submission = pd.DataFrame({'Id': np.arange(len(submission_list)), 'Predicted': submission_list})\n",
    "submission.to_csv('submission_BERT_BiLSTM_CRF_10_epochs.csv', index=False)"
   ]
  },
  {
   "cell_type": "markdown",
   "metadata": {},
   "source": [
    "---\n",
    "# Part 4. Results.\n",
    "\n",
    "Получившиеся результаты:\n",
    "\n",
    "| метод         | f1-score      |\n",
    "| ------------- |:-------------:|\n",
    "| sclearn-CRF | 0.61 |\n",
    "| Rusvectores embedder BiLSTM + CRF | 0.55 |\n",
    "| Embedder + BiLSTM + CRF      | 0.36      |\n",
    "| BERT embedder + BiLSTM + CRF | **0.65**      |\n",
    "\n",
    "Наихудшее качество получается для лейблов I_LOC, I_ORG -- лейблов, указывающих на продолжение сущностей организации и локации."
   ]
  },
  {
   "cell_type": "code",
   "execution_count": null,
   "metadata": {},
   "outputs": [],
   "source": []
  }
 ],
 "metadata": {
  "kernelspec": {
   "display_name": "Python 3",
   "language": "python",
   "name": "python3"
  },
  "language_info": {
   "codemirror_mode": {
    "name": "ipython",
    "version": 3
   },
   "file_extension": ".py",
   "mimetype": "text/x-python",
   "name": "python",
   "nbconvert_exporter": "python",
   "pygments_lexer": "ipython3",
   "version": "3.7.4"
  }
 },
 "nbformat": 4,
 "nbformat_minor": 2
}
