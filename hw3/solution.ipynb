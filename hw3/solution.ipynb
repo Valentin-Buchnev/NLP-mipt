{
 "cells": [
  {
   "cell_type": "code",
   "execution_count": 1,
   "metadata": {},
   "outputs": [],
   "source": [
    "import numpy as np\n",
    "import scipy.stats as sps\n",
    "import pandas as pd\n",
    "import jsonlines\n",
    "import nltk\n",
    "import torch\n",
    "import torch.nn as nn\n",
    "import torch.nn.functional as F\n",
    "\n",
    "from matplotlib import pyplot\n",
    "from tqdm.notebook import tqdm\n",
    "from transformers import AutoModel, AutoTokenizer, AutoModelForSequenceClassification\n",
    "from sklearn.model_selection import RandomizedSearchCV\n",
    "from sklearn.metrics import accuracy_score, make_scorer\n",
    "from sklearn.manifold import TSNE\n",
    "from sklearn.svm import SVC"
   ]
  },
  {
   "cell_type": "markdown",
   "metadata": {},
   "source": [
    "---\n",
    "Загружаем данные"
   ]
  },
  {
   "cell_type": "code",
   "execution_count": 2,
   "metadata": {},
   "outputs": [],
   "source": [
    "train_data = pd.read_json(\"train.jsonl\", lines=True, orient=\"records\")\n",
    "val_data = pd.read_json(\"val.jsonl\", lines=True, orient=\"records\")\n",
    "test_data = pd.read_json(\"test.jsonl\", lines=True, orient=\"records\")\n",
    "\n",
    "train_data['label'] = train_data['label'].apply(lambda x: 1 if x == 'entailment' else 0)\n",
    "val_data['label'] = val_data['label'].apply(lambda x: 1 if x == 'entailment' else 0)"
   ]
  },
  {
   "cell_type": "code",
   "execution_count": 3,
   "metadata": {},
   "outputs": [
    {
     "data": {
      "text/html": [
       "<div>\n",
       "<style scoped>\n",
       "    .dataframe tbody tr th:only-of-type {\n",
       "        vertical-align: middle;\n",
       "    }\n",
       "\n",
       "    .dataframe tbody tr th {\n",
       "        vertical-align: top;\n",
       "    }\n",
       "\n",
       "    .dataframe thead th {\n",
       "        text-align: right;\n",
       "    }\n",
       "</style>\n",
       "<table border=\"1\" class=\"dataframe\">\n",
       "  <thead>\n",
       "    <tr style=\"text-align: right;\">\n",
       "      <th></th>\n",
       "      <th>premise</th>\n",
       "      <th>hypothesis</th>\n",
       "      <th>label</th>\n",
       "      <th>idx</th>\n",
       "    </tr>\n",
       "  </thead>\n",
       "  <tbody>\n",
       "    <tr>\n",
       "      <th>0</th>\n",
       "      <td>Женщину доставили в больницу, за ее жизнь сейч...</td>\n",
       "      <td>Женщину спасают врачи.</td>\n",
       "      <td>1</td>\n",
       "      <td>0</td>\n",
       "    </tr>\n",
       "    <tr>\n",
       "      <th>1</th>\n",
       "      <td>Он проводит невидимую грань между настоящим и ...</td>\n",
       "      <td>В эти минуты все мы подводим друг друга.</td>\n",
       "      <td>0</td>\n",
       "      <td>1</td>\n",
       "    </tr>\n",
       "    <tr>\n",
       "      <th>2</th>\n",
       "      <td>Мужчина рассказал: детская коляска, принадлежа...</td>\n",
       "      <td>Сосед часто крадет детские коляски ради денег.</td>\n",
       "      <td>0</td>\n",
       "      <td>2</td>\n",
       "    </tr>\n",
       "    <tr>\n",
       "      <th>3</th>\n",
       "      <td>Я просто об этом даже не думаю, потому что есл...</td>\n",
       "      <td>Спрятаться не удастся.</td>\n",
       "      <td>1</td>\n",
       "      <td>3</td>\n",
       "    </tr>\n",
       "    <tr>\n",
       "      <th>4</th>\n",
       "      <td>В ходе проверки нашли дома с наледью и сосульк...</td>\n",
       "      <td>Все сосульки с крыш были сбиты.</td>\n",
       "      <td>0</td>\n",
       "      <td>4</td>\n",
       "    </tr>\n",
       "  </tbody>\n",
       "</table>\n",
       "</div>"
      ],
      "text/plain": [
       "                                             premise  \\\n",
       "0  Женщину доставили в больницу, за ее жизнь сейч...   \n",
       "1  Он проводит невидимую грань между настоящим и ...   \n",
       "2  Мужчина рассказал: детская коляска, принадлежа...   \n",
       "3  Я просто об этом даже не думаю, потому что есл...   \n",
       "4  В ходе проверки нашли дома с наледью и сосульк...   \n",
       "\n",
       "                                       hypothesis  label  idx  \n",
       "0                          Женщину спасают врачи.      1    0  \n",
       "1        В эти минуты все мы подводим друг друга.      0    1  \n",
       "2  Сосед часто крадет детские коляски ради денег.      0    2  \n",
       "3                          Спрятаться не удастся.      1    3  \n",
       "4                 Все сосульки с крыш были сбиты.      0    4  "
      ]
     },
     "execution_count": 3,
     "metadata": {},
     "output_type": "execute_result"
    }
   ],
   "source": [
    "train_data.head()"
   ]
  },
  {
   "cell_type": "code",
   "execution_count": 4,
   "metadata": {},
   "outputs": [
    {
     "name": "stdout",
     "output_type": "stream",
     "text": [
      "max length of train premise is: 945\n",
      "max length of val premise is: 717\n",
      "max length of test premise is: 945\n",
      "max length of train hypothesis is: 179\n",
      "max length of val hypothesis is: 129\n",
      "max length of test hypothesis is: 144\n"
     ]
    }
   ],
   "source": [
    "print('max length of train premise is: %d' % np.max([len(s) for s in train_data.premise]))\n",
    "print('max length of val premise is: %d' % np.max([len(s) for s in val_data.premise]))\n",
    "print('max length of test premise is: %d' % np.max([len(s) for s in test_data.premise]))\n",
    "\n",
    "print('max length of train hypothesis is: %d' % np.max([len(s) for s in train_data.hypothesis]))\n",
    "print('max length of val hypothesis is: %d' % np.max([len(s) for s in val_data.hypothesis]))\n",
    "print('max length of test hypothesis is: %d' % np.max([len(s) for s in test_data.hypothesis]))"
   ]
  },
  {
   "cell_type": "code",
   "execution_count": 5,
   "metadata": {},
   "outputs": [],
   "source": [
    "max_len_premise = 161\n",
    "max_len_hypothesis = 30"
   ]
  },
  {
   "cell_type": "markdown",
   "metadata": {},
   "source": [
    "---\n",
    "##### Part 0. Get embeddings"
   ]
  },
  {
   "cell_type": "code",
   "execution_count": 6,
   "metadata": {},
   "outputs": [],
   "source": [
    "tokenizer = AutoTokenizer.from_pretrained(\"DeepPavlov/rubert-base-cased-sentence\")\n",
    "bmodel = AutoModel.from_pretrained(\"DeepPavlov/rubert-base-cased-sentence\", return_dict=True)\n",
    "bmodel.eval()\n",
    "_ = bmodel.to('cuda')"
   ]
  },
  {
   "cell_type": "code",
   "execution_count": 54,
   "metadata": {},
   "outputs": [],
   "source": [
    "def get_embeds(data):\n",
    "    result = []\n",
    "    for tokens in tqdm(data):\n",
    "        cnt_tokens = len(tokens)\n",
    "        embeds = bmodel(**tokenizer(tokens, return_tensors='pt', padding=True).to('cuda'))\n",
    "        embeds = embeds.last_hidden_state[0][0].cpu().detach().numpy().reshape(-1)\n",
    "        result.append(embeds)\n",
    "    result = np.asarray(result)\n",
    "    return result"
   ]
  },
  {
   "cell_type": "code",
   "execution_count": 55,
   "metadata": {},
   "outputs": [
    {
     "data": {
      "application/vnd.jupyter.widget-view+json": {
       "model_id": "b234b2a825054b81b1a77433beaf4fc3",
       "version_major": 2,
       "version_minor": 0
      },
      "text/plain": [
       "HBox(children=(FloatProgress(value=0.0, max=2616.0), HTML(value='')))"
      ]
     },
     "metadata": {},
     "output_type": "display_data"
    },
    {
     "name": "stdout",
     "output_type": "stream",
     "text": [
      "\n"
     ]
    },
    {
     "data": {
      "application/vnd.jupyter.widget-view+json": {
       "model_id": "0ed138d37dbc484d88e895b48db87faf",
       "version_major": 2,
       "version_minor": 0
      },
      "text/plain": [
       "HBox(children=(FloatProgress(value=0.0, max=2616.0), HTML(value='')))"
      ]
     },
     "metadata": {},
     "output_type": "display_data"
    },
    {
     "name": "stdout",
     "output_type": "stream",
     "text": [
      "\n"
     ]
    }
   ],
   "source": [
    "train_premise = get_embeds(train_data.premise)\n",
    "train_hypothesis = get_embeds(train_data.hypothesis)\n",
    "train_X = np.concatenate((train_premise, train_hypothesis), axis=1)\n",
    "train_y = np.array(train_data['label'])"
   ]
  },
  {
   "cell_type": "code",
   "execution_count": 56,
   "metadata": {},
   "outputs": [
    {
     "data": {
      "application/vnd.jupyter.widget-view+json": {
       "model_id": "b1ddf49114dd4194bc7dae85fe582173",
       "version_major": 2,
       "version_minor": 0
      },
      "text/plain": [
       "HBox(children=(FloatProgress(value=0.0, max=307.0), HTML(value='')))"
      ]
     },
     "metadata": {},
     "output_type": "display_data"
    },
    {
     "name": "stdout",
     "output_type": "stream",
     "text": [
      "\n"
     ]
    },
    {
     "data": {
      "application/vnd.jupyter.widget-view+json": {
       "model_id": "b5776500764542228bd9ea6b16cb3b63",
       "version_major": 2,
       "version_minor": 0
      },
      "text/plain": [
       "HBox(children=(FloatProgress(value=0.0, max=307.0), HTML(value='')))"
      ]
     },
     "metadata": {},
     "output_type": "display_data"
    },
    {
     "name": "stdout",
     "output_type": "stream",
     "text": [
      "\n"
     ]
    }
   ],
   "source": [
    "val_premise = get_embeds(val_data.premise)\n",
    "val_hypothesis = get_embeds(val_data.hypothesis)\n",
    "val_X = np.concatenate((val_premise, val_hypothesis), axis=1)\n",
    "val_y = np.array(val_data['label'])"
   ]
  },
  {
   "cell_type": "code",
   "execution_count": 57,
   "metadata": {},
   "outputs": [
    {
     "data": {
      "application/vnd.jupyter.widget-view+json": {
       "model_id": "5b297cced89549b393dc05dcd186c797",
       "version_major": 2,
       "version_minor": 0
      },
      "text/plain": [
       "HBox(children=(FloatProgress(value=0.0, max=3198.0), HTML(value='')))"
      ]
     },
     "metadata": {},
     "output_type": "display_data"
    },
    {
     "name": "stdout",
     "output_type": "stream",
     "text": [
      "\n"
     ]
    },
    {
     "data": {
      "application/vnd.jupyter.widget-view+json": {
       "model_id": "f17bead991724cbfafcf821e7a05bb83",
       "version_major": 2,
       "version_minor": 0
      },
      "text/plain": [
       "HBox(children=(FloatProgress(value=0.0, max=3198.0), HTML(value='')))"
      ]
     },
     "metadata": {},
     "output_type": "display_data"
    },
    {
     "name": "stdout",
     "output_type": "stream",
     "text": [
      "\n"
     ]
    }
   ],
   "source": [
    "test_premise = get_embeds(test_data.premise)\n",
    "test_hypothesis = get_embeds(test_data.hypothesis)\n",
    "test_X = np.hstack((test_premise, test_hypothesis))"
   ]
  },
  {
   "cell_type": "markdown",
   "metadata": {},
   "source": [
    "---\n",
    "##### Part 1. Explore your data"
   ]
  },
  {
   "cell_type": "code",
   "execution_count": 18,
   "metadata": {},
   "outputs": [
    {
     "data": {
      "text/plain": [
       "(5232, 768)"
      ]
     },
     "execution_count": 18,
     "metadata": {},
     "output_type": "execute_result"
    }
   ],
   "source": [
    "np.vstack((train_X[:, :768], train_X[:, 768:])).shape"
   ]
  },
  {
   "cell_type": "code",
   "execution_count": 19,
   "metadata": {},
   "outputs": [
    {
     "name": "stdout",
     "output_type": "stream",
     "text": [
      "CPU times: user 3 µs, sys: 0 ns, total: 3 µs\n",
      "Wall time: 5.25 µs\n"
     ]
    }
   ],
   "source": [
    "%time\n",
    "tsne = TSNE(n_components=1, random_state=0)\n",
    "vec_rep = tsne.fit_transform(np.vstack((train_X[:, :768], train_X[:, 768:])))"
   ]
  },
  {
   "cell_type": "code",
   "execution_count": 20,
   "metadata": {},
   "outputs": [
    {
     "data": {
      "text/html": [
       "\n",
       "    <div class=\"bk-root\">\n",
       "        <a href=\"https://bokeh.pydata.org\" target=\"_blank\" class=\"bk-logo bk-logo-small bk-logo-notebook\"></a>\n",
       "        <span id=\"1089\">Loading BokehJS ...</span>\n",
       "    </div>"
      ]
     },
     "metadata": {},
     "output_type": "display_data"
    },
    {
     "data": {
      "application/javascript": [
       "\n",
       "(function(root) {\n",
       "  function now() {\n",
       "    return new Date();\n",
       "  }\n",
       "\n",
       "  var force = true;\n",
       "\n",
       "  if (typeof root._bokeh_onload_callbacks === \"undefined\" || force === true) {\n",
       "    root._bokeh_onload_callbacks = [];\n",
       "    root._bokeh_is_loading = undefined;\n",
       "  }\n",
       "\n",
       "  var JS_MIME_TYPE = 'application/javascript';\n",
       "  var HTML_MIME_TYPE = 'text/html';\n",
       "  var EXEC_MIME_TYPE = 'application/vnd.bokehjs_exec.v0+json';\n",
       "  var CLASS_NAME = 'output_bokeh rendered_html';\n",
       "\n",
       "  /**\n",
       "   * Render data to the DOM node\n",
       "   */\n",
       "  function render(props, node) {\n",
       "    var script = document.createElement(\"script\");\n",
       "    node.appendChild(script);\n",
       "  }\n",
       "\n",
       "  /**\n",
       "   * Handle when an output is cleared or removed\n",
       "   */\n",
       "  function handleClearOutput(event, handle) {\n",
       "    var cell = handle.cell;\n",
       "\n",
       "    var id = cell.output_area._bokeh_element_id;\n",
       "    var server_id = cell.output_area._bokeh_server_id;\n",
       "    // Clean up Bokeh references\n",
       "    if (id != null && id in Bokeh.index) {\n",
       "      Bokeh.index[id].model.document.clear();\n",
       "      delete Bokeh.index[id];\n",
       "    }\n",
       "\n",
       "    if (server_id !== undefined) {\n",
       "      // Clean up Bokeh references\n",
       "      var cmd = \"from bokeh.io.state import curstate; print(curstate().uuid_to_server['\" + server_id + \"'].get_sessions()[0].document.roots[0]._id)\";\n",
       "      cell.notebook.kernel.execute(cmd, {\n",
       "        iopub: {\n",
       "          output: function(msg) {\n",
       "            var id = msg.content.text.trim();\n",
       "            if (id in Bokeh.index) {\n",
       "              Bokeh.index[id].model.document.clear();\n",
       "              delete Bokeh.index[id];\n",
       "            }\n",
       "          }\n",
       "        }\n",
       "      });\n",
       "      // Destroy server and session\n",
       "      var cmd = \"import bokeh.io.notebook as ion; ion.destroy_server('\" + server_id + \"')\";\n",
       "      cell.notebook.kernel.execute(cmd);\n",
       "    }\n",
       "  }\n",
       "\n",
       "  /**\n",
       "   * Handle when a new output is added\n",
       "   */\n",
       "  function handleAddOutput(event, handle) {\n",
       "    var output_area = handle.output_area;\n",
       "    var output = handle.output;\n",
       "\n",
       "    // limit handleAddOutput to display_data with EXEC_MIME_TYPE content only\n",
       "    if ((output.output_type != \"display_data\") || (!output.data.hasOwnProperty(EXEC_MIME_TYPE))) {\n",
       "      return\n",
       "    }\n",
       "\n",
       "    var toinsert = output_area.element.find(\".\" + CLASS_NAME.split(' ')[0]);\n",
       "\n",
       "    if (output.metadata[EXEC_MIME_TYPE][\"id\"] !== undefined) {\n",
       "      toinsert[toinsert.length - 1].firstChild.textContent = output.data[JS_MIME_TYPE];\n",
       "      // store reference to embed id on output_area\n",
       "      output_area._bokeh_element_id = output.metadata[EXEC_MIME_TYPE][\"id\"];\n",
       "    }\n",
       "    if (output.metadata[EXEC_MIME_TYPE][\"server_id\"] !== undefined) {\n",
       "      var bk_div = document.createElement(\"div\");\n",
       "      bk_div.innerHTML = output.data[HTML_MIME_TYPE];\n",
       "      var script_attrs = bk_div.children[0].attributes;\n",
       "      for (var i = 0; i < script_attrs.length; i++) {\n",
       "        toinsert[toinsert.length - 1].firstChild.setAttribute(script_attrs[i].name, script_attrs[i].value);\n",
       "      }\n",
       "      // store reference to server id on output_area\n",
       "      output_area._bokeh_server_id = output.metadata[EXEC_MIME_TYPE][\"server_id\"];\n",
       "    }\n",
       "  }\n",
       "\n",
       "  function register_renderer(events, OutputArea) {\n",
       "\n",
       "    function append_mime(data, metadata, element) {\n",
       "      // create a DOM node to render to\n",
       "      var toinsert = this.create_output_subarea(\n",
       "        metadata,\n",
       "        CLASS_NAME,\n",
       "        EXEC_MIME_TYPE\n",
       "      );\n",
       "      this.keyboard_manager.register_events(toinsert);\n",
       "      // Render to node\n",
       "      var props = {data: data, metadata: metadata[EXEC_MIME_TYPE]};\n",
       "      render(props, toinsert[toinsert.length - 1]);\n",
       "      element.append(toinsert);\n",
       "      return toinsert\n",
       "    }\n",
       "\n",
       "    /* Handle when an output is cleared or removed */\n",
       "    events.on('clear_output.CodeCell', handleClearOutput);\n",
       "    events.on('delete.Cell', handleClearOutput);\n",
       "\n",
       "    /* Handle when a new output is added */\n",
       "    events.on('output_added.OutputArea', handleAddOutput);\n",
       "\n",
       "    /**\n",
       "     * Register the mime type and append_mime function with output_area\n",
       "     */\n",
       "    OutputArea.prototype.register_mime_type(EXEC_MIME_TYPE, append_mime, {\n",
       "      /* Is output safe? */\n",
       "      safe: true,\n",
       "      /* Index of renderer in `output_area.display_order` */\n",
       "      index: 0\n",
       "    });\n",
       "  }\n",
       "\n",
       "  // register the mime type if in Jupyter Notebook environment and previously unregistered\n",
       "  if (root.Jupyter !== undefined) {\n",
       "    var events = require('base/js/events');\n",
       "    var OutputArea = require('notebook/js/outputarea').OutputArea;\n",
       "\n",
       "    if (OutputArea.prototype.mime_types().indexOf(EXEC_MIME_TYPE) == -1) {\n",
       "      register_renderer(events, OutputArea);\n",
       "    }\n",
       "  }\n",
       "\n",
       "  \n",
       "  if (typeof (root._bokeh_timeout) === \"undefined\" || force === true) {\n",
       "    root._bokeh_timeout = Date.now() + 5000;\n",
       "    root._bokeh_failed_load = false;\n",
       "  }\n",
       "\n",
       "  var NB_LOAD_WARNING = {'data': {'text/html':\n",
       "     \"<div style='background-color: #fdd'>\\n\"+\n",
       "     \"<p>\\n\"+\n",
       "     \"BokehJS does not appear to have successfully loaded. If loading BokehJS from CDN, this \\n\"+\n",
       "     \"may be due to a slow or bad network connection. Possible fixes:\\n\"+\n",
       "     \"</p>\\n\"+\n",
       "     \"<ul>\\n\"+\n",
       "     \"<li>re-rerun `output_notebook()` to attempt to load from CDN again, or</li>\\n\"+\n",
       "     \"<li>use INLINE resources instead, as so:</li>\\n\"+\n",
       "     \"</ul>\\n\"+\n",
       "     \"<code>\\n\"+\n",
       "     \"from bokeh.resources import INLINE\\n\"+\n",
       "     \"output_notebook(resources=INLINE)\\n\"+\n",
       "     \"</code>\\n\"+\n",
       "     \"</div>\"}};\n",
       "\n",
       "  function display_loaded() {\n",
       "    var el = document.getElementById(\"1089\");\n",
       "    if (el != null) {\n",
       "      el.textContent = \"BokehJS is loading...\";\n",
       "    }\n",
       "    if (root.Bokeh !== undefined) {\n",
       "      if (el != null) {\n",
       "        el.textContent = \"BokehJS \" + root.Bokeh.version + \" successfully loaded.\";\n",
       "      }\n",
       "    } else if (Date.now() < root._bokeh_timeout) {\n",
       "      setTimeout(display_loaded, 100)\n",
       "    }\n",
       "  }\n",
       "\n",
       "\n",
       "  function run_callbacks() {\n",
       "    try {\n",
       "      root._bokeh_onload_callbacks.forEach(function(callback) {\n",
       "        if (callback != null)\n",
       "          callback();\n",
       "      });\n",
       "    } finally {\n",
       "      delete root._bokeh_onload_callbacks\n",
       "    }\n",
       "    console.debug(\"Bokeh: all callbacks have finished\");\n",
       "  }\n",
       "\n",
       "  function load_libs(css_urls, js_urls, callback) {\n",
       "    if (css_urls == null) css_urls = [];\n",
       "    if (js_urls == null) js_urls = [];\n",
       "\n",
       "    root._bokeh_onload_callbacks.push(callback);\n",
       "    if (root._bokeh_is_loading > 0) {\n",
       "      console.debug(\"Bokeh: BokehJS is being loaded, scheduling callback at\", now());\n",
       "      return null;\n",
       "    }\n",
       "    if (js_urls == null || js_urls.length === 0) {\n",
       "      run_callbacks();\n",
       "      return null;\n",
       "    }\n",
       "    console.debug(\"Bokeh: BokehJS not loaded, scheduling load and callback at\", now());\n",
       "    root._bokeh_is_loading = css_urls.length + js_urls.length;\n",
       "\n",
       "    function on_load() {\n",
       "      root._bokeh_is_loading--;\n",
       "      if (root._bokeh_is_loading === 0) {\n",
       "        console.debug(\"Bokeh: all BokehJS libraries/stylesheets loaded\");\n",
       "        run_callbacks()\n",
       "      }\n",
       "    }\n",
       "\n",
       "    function on_error() {\n",
       "      console.error(\"failed to load \" + url);\n",
       "    }\n",
       "\n",
       "    for (var i = 0; i < css_urls.length; i++) {\n",
       "      var url = css_urls[i];\n",
       "      const element = document.createElement(\"link\");\n",
       "      element.onload = on_load;\n",
       "      element.onerror = on_error;\n",
       "      element.rel = \"stylesheet\";\n",
       "      element.type = \"text/css\";\n",
       "      element.href = url;\n",
       "      console.debug(\"Bokeh: injecting link tag for BokehJS stylesheet: \", url);\n",
       "      document.body.appendChild(element);\n",
       "    }\n",
       "\n",
       "    for (var i = 0; i < js_urls.length; i++) {\n",
       "      var url = js_urls[i];\n",
       "      var element = document.createElement('script');\n",
       "      element.onload = on_load;\n",
       "      element.onerror = on_error;\n",
       "      element.async = false;\n",
       "      element.src = url;\n",
       "      console.debug(\"Bokeh: injecting script tag for BokehJS library: \", url);\n",
       "      document.head.appendChild(element);\n",
       "    }\n",
       "  };var element = document.getElementById(\"1089\");\n",
       "  if (element == null) {\n",
       "    console.error(\"Bokeh: ERROR: autoload.js configured with elementid '1089' but no matching script tag was found. \")\n",
       "    return false;\n",
       "  }\n",
       "\n",
       "  function inject_raw_css(css) {\n",
       "    const element = document.createElement(\"style\");\n",
       "    element.appendChild(document.createTextNode(css));\n",
       "    document.body.appendChild(element);\n",
       "  }\n",
       "\n",
       "  var js_urls = [\"https://cdn.pydata.org/bokeh/release/bokeh-1.3.4.min.js\", \"https://cdn.pydata.org/bokeh/release/bokeh-widgets-1.3.4.min.js\", \"https://cdn.pydata.org/bokeh/release/bokeh-tables-1.3.4.min.js\", \"https://cdn.pydata.org/bokeh/release/bokeh-gl-1.3.4.min.js\"];\n",
       "  var css_urls = [];\n",
       "\n",
       "  var inline_js = [\n",
       "    function(Bokeh) {\n",
       "      Bokeh.set_log_level(\"info\");\n",
       "    },\n",
       "    \n",
       "    function(Bokeh) {\n",
       "      \n",
       "    },\n",
       "    function(Bokeh) {} // ensure no trailing comma for IE\n",
       "  ];\n",
       "\n",
       "  function run_inline_js() {\n",
       "    \n",
       "    if ((root.Bokeh !== undefined) || (force === true)) {\n",
       "      for (var i = 0; i < inline_js.length; i++) {\n",
       "        inline_js[i].call(root, root.Bokeh);\n",
       "      }if (force === true) {\n",
       "        display_loaded();\n",
       "      }} else if (Date.now() < root._bokeh_timeout) {\n",
       "      setTimeout(run_inline_js, 100);\n",
       "    } else if (!root._bokeh_failed_load) {\n",
       "      console.log(\"Bokeh: BokehJS failed to load within specified timeout.\");\n",
       "      root._bokeh_failed_load = true;\n",
       "    } else if (force !== true) {\n",
       "      var cell = $(document.getElementById(\"1089\")).parents('.cell').data().cell;\n",
       "      cell.output_area.append_execute_result(NB_LOAD_WARNING)\n",
       "    }\n",
       "\n",
       "  }\n",
       "\n",
       "  if (root._bokeh_is_loading === 0) {\n",
       "    console.debug(\"Bokeh: BokehJS loaded, going straight to plotting\");\n",
       "    run_inline_js();\n",
       "  } else {\n",
       "    load_libs(css_urls, js_urls, function() {\n",
       "      console.debug(\"Bokeh: BokehJS plotting callback run at\", now());\n",
       "      run_inline_js();\n",
       "    });\n",
       "  }\n",
       "}(window));"
      ],
      "application/vnd.bokehjs_load.v0+json": "\n(function(root) {\n  function now() {\n    return new Date();\n  }\n\n  var force = true;\n\n  if (typeof root._bokeh_onload_callbacks === \"undefined\" || force === true) {\n    root._bokeh_onload_callbacks = [];\n    root._bokeh_is_loading = undefined;\n  }\n\n  \n\n  \n  if (typeof (root._bokeh_timeout) === \"undefined\" || force === true) {\n    root._bokeh_timeout = Date.now() + 5000;\n    root._bokeh_failed_load = false;\n  }\n\n  var NB_LOAD_WARNING = {'data': {'text/html':\n     \"<div style='background-color: #fdd'>\\n\"+\n     \"<p>\\n\"+\n     \"BokehJS does not appear to have successfully loaded. If loading BokehJS from CDN, this \\n\"+\n     \"may be due to a slow or bad network connection. Possible fixes:\\n\"+\n     \"</p>\\n\"+\n     \"<ul>\\n\"+\n     \"<li>re-rerun `output_notebook()` to attempt to load from CDN again, or</li>\\n\"+\n     \"<li>use INLINE resources instead, as so:</li>\\n\"+\n     \"</ul>\\n\"+\n     \"<code>\\n\"+\n     \"from bokeh.resources import INLINE\\n\"+\n     \"output_notebook(resources=INLINE)\\n\"+\n     \"</code>\\n\"+\n     \"</div>\"}};\n\n  function display_loaded() {\n    var el = document.getElementById(\"1089\");\n    if (el != null) {\n      el.textContent = \"BokehJS is loading...\";\n    }\n    if (root.Bokeh !== undefined) {\n      if (el != null) {\n        el.textContent = \"BokehJS \" + root.Bokeh.version + \" successfully loaded.\";\n      }\n    } else if (Date.now() < root._bokeh_timeout) {\n      setTimeout(display_loaded, 100)\n    }\n  }\n\n\n  function run_callbacks() {\n    try {\n      root._bokeh_onload_callbacks.forEach(function(callback) {\n        if (callback != null)\n          callback();\n      });\n    } finally {\n      delete root._bokeh_onload_callbacks\n    }\n    console.debug(\"Bokeh: all callbacks have finished\");\n  }\n\n  function load_libs(css_urls, js_urls, callback) {\n    if (css_urls == null) css_urls = [];\n    if (js_urls == null) js_urls = [];\n\n    root._bokeh_onload_callbacks.push(callback);\n    if (root._bokeh_is_loading > 0) {\n      console.debug(\"Bokeh: BokehJS is being loaded, scheduling callback at\", now());\n      return null;\n    }\n    if (js_urls == null || js_urls.length === 0) {\n      run_callbacks();\n      return null;\n    }\n    console.debug(\"Bokeh: BokehJS not loaded, scheduling load and callback at\", now());\n    root._bokeh_is_loading = css_urls.length + js_urls.length;\n\n    function on_load() {\n      root._bokeh_is_loading--;\n      if (root._bokeh_is_loading === 0) {\n        console.debug(\"Bokeh: all BokehJS libraries/stylesheets loaded\");\n        run_callbacks()\n      }\n    }\n\n    function on_error() {\n      console.error(\"failed to load \" + url);\n    }\n\n    for (var i = 0; i < css_urls.length; i++) {\n      var url = css_urls[i];\n      const element = document.createElement(\"link\");\n      element.onload = on_load;\n      element.onerror = on_error;\n      element.rel = \"stylesheet\";\n      element.type = \"text/css\";\n      element.href = url;\n      console.debug(\"Bokeh: injecting link tag for BokehJS stylesheet: \", url);\n      document.body.appendChild(element);\n    }\n\n    for (var i = 0; i < js_urls.length; i++) {\n      var url = js_urls[i];\n      var element = document.createElement('script');\n      element.onload = on_load;\n      element.onerror = on_error;\n      element.async = false;\n      element.src = url;\n      console.debug(\"Bokeh: injecting script tag for BokehJS library: \", url);\n      document.head.appendChild(element);\n    }\n  };var element = document.getElementById(\"1089\");\n  if (element == null) {\n    console.error(\"Bokeh: ERROR: autoload.js configured with elementid '1089' but no matching script tag was found. \")\n    return false;\n  }\n\n  function inject_raw_css(css) {\n    const element = document.createElement(\"style\");\n    element.appendChild(document.createTextNode(css));\n    document.body.appendChild(element);\n  }\n\n  var js_urls = [\"https://cdn.pydata.org/bokeh/release/bokeh-1.3.4.min.js\", \"https://cdn.pydata.org/bokeh/release/bokeh-widgets-1.3.4.min.js\", \"https://cdn.pydata.org/bokeh/release/bokeh-tables-1.3.4.min.js\", \"https://cdn.pydata.org/bokeh/release/bokeh-gl-1.3.4.min.js\"];\n  var css_urls = [];\n\n  var inline_js = [\n    function(Bokeh) {\n      Bokeh.set_log_level(\"info\");\n    },\n    \n    function(Bokeh) {\n      \n    },\n    function(Bokeh) {} // ensure no trailing comma for IE\n  ];\n\n  function run_inline_js() {\n    \n    if ((root.Bokeh !== undefined) || (force === true)) {\n      for (var i = 0; i < inline_js.length; i++) {\n        inline_js[i].call(root, root.Bokeh);\n      }if (force === true) {\n        display_loaded();\n      }} else if (Date.now() < root._bokeh_timeout) {\n      setTimeout(run_inline_js, 100);\n    } else if (!root._bokeh_failed_load) {\n      console.log(\"Bokeh: BokehJS failed to load within specified timeout.\");\n      root._bokeh_failed_load = true;\n    } else if (force !== true) {\n      var cell = $(document.getElementById(\"1089\")).parents('.cell').data().cell;\n      cell.output_area.append_execute_result(NB_LOAD_WARNING)\n    }\n\n  }\n\n  if (root._bokeh_is_loading === 0) {\n    console.debug(\"Bokeh: BokehJS loaded, going straight to plotting\");\n    run_inline_js();\n  } else {\n    load_libs(css_urls, js_urls, function() {\n      console.debug(\"Bokeh: BokehJS plotting callback run at\", now());\n      run_inline_js();\n    });\n  }\n}(window));"
     },
     "metadata": {},
     "output_type": "display_data"
    },
    {
     "data": {
      "text/html": [
       "\n",
       "\n",
       "\n",
       "\n",
       "\n",
       "\n",
       "  <div class=\"bk-root\" id=\"4a9019c2-ae1b-4641-a72f-7a46a4a36021\" data-root-id=\"1090\"></div>\n"
      ]
     },
     "metadata": {},
     "output_type": "display_data"
    },
    {
     "data": {
      "application/javascript": [
       "(function(root) {\n",
       "  function embed_document(root) {\n",
       "    \n",
       "  var docs_json = {\"9ad206ed-e365-4335-83cf-2a0755b0805d\":{\"roots\":{\"references\":[{\"attributes\":{\"below\":[{\"id\":\"1101\",\"type\":\"LinearAxis\"}],\"center\":[{\"id\":\"1105\",\"type\":\"Grid\"},{\"id\":\"1110\",\"type\":\"Grid\"},{\"id\":\"1126\",\"type\":\"LabelSet\"}],\"left\":[{\"id\":\"1106\",\"type\":\"LinearAxis\"}],\"renderers\":[{\"id\":\"1124\",\"type\":\"GlyphRenderer\"}],\"title\":{\"id\":\"1091\",\"type\":\"Title\"},\"toolbar\":{\"id\":\"1115\",\"type\":\"Toolbar\"},\"toolbar_location\":\"above\",\"x_range\":{\"id\":\"1093\",\"type\":\"DataRange1d\"},\"x_scale\":{\"id\":\"1097\",\"type\":\"LinearScale\"},\"y_range\":{\"id\":\"1095\",\"type\":\"DataRange1d\"},\"y_scale\":{\"id\":\"1099\",\"type\":\"LinearScale\"}},\"id\":\"1090\",\"subtype\":\"Figure\",\"type\":\"Plot\"},{\"attributes\":{\"source\":{\"id\":\"1120\",\"type\":\"ColumnDataSource\"},\"text\":{\"field\":\"names\"},\"text_align\":\"center\",\"text_color\":{\"value\":\"#555555\"},\"text_font_size\":{\"value\":\"8pt\"},\"x\":{\"field\":\"x1\"},\"y\":{\"field\":\"x2\"},\"y_offset\":{\"value\":6}},\"id\":\"1126\",\"type\":\"LabelSet\"},{\"attributes\":{\"fill_alpha\":{\"value\":0.1},\"fill_color\":{\"value\":\"#1f77b4\"},\"line_alpha\":{\"value\":0.1},\"line_color\":{\"value\":\"#1f77b4\"},\"size\":{\"units\":\"screen\",\"value\":8},\"x\":{\"field\":\"x1\"},\"y\":{\"field\":\"x2\"}},\"id\":\"1123\",\"type\":\"Scatter\"},{\"attributes\":{},\"id\":\"1111\",\"type\":\"PanTool\"},{\"attributes\":{},\"id\":\"1112\",\"type\":\"WheelZoomTool\"},{\"attributes\":{},\"id\":\"1113\",\"type\":\"ResetTool\"},{\"attributes\":{\"fill_color\":{\"value\":\"#1f77b4\"},\"line_color\":{\"value\":\"#1f77b4\"},\"size\":{\"units\":\"screen\",\"value\":8},\"x\":{\"field\":\"x1\"},\"y\":{\"field\":\"x2\"}},\"id\":\"1122\",\"type\":\"Scatter\"},{\"attributes\":{},\"id\":\"1114\",\"type\":\"SaveTool\"},{\"attributes\":{\"active_drag\":\"auto\",\"active_inspect\":\"auto\",\"active_multi\":null,\"active_scroll\":\"auto\",\"active_tap\":\"auto\",\"tools\":[{\"id\":\"1111\",\"type\":\"PanTool\"},{\"id\":\"1112\",\"type\":\"WheelZoomTool\"},{\"id\":\"1113\",\"type\":\"ResetTool\"},{\"id\":\"1114\",\"type\":\"SaveTool\"}]},\"id\":\"1115\",\"type\":\"Toolbar\"},{\"attributes\":{\"formatter\":{\"id\":\"1138\",\"type\":\"BasicTickFormatter\"},\"ticker\":{\"id\":\"1102\",\"type\":\"BasicTicker\"}},\"id\":\"1101\",\"type\":\"LinearAxis\"},{\"attributes\":{\"callback\":null},\"id\":\"1095\",\"type\":\"DataRange1d\"},{\"attributes\":{\"ticker\":{\"id\":\"1102\",\"type\":\"BasicTicker\"}},\"id\":\"1105\",\"type\":\"Grid\"},{\"attributes\":{\"data_source\":{\"id\":\"1120\",\"type\":\"ColumnDataSource\"},\"glyph\":{\"id\":\"1122\",\"type\":\"Scatter\"},\"hover_glyph\":null,\"muted_glyph\":null,\"nonselection_glyph\":{\"id\":\"1123\",\"type\":\"Scatter\"},\"selection_glyph\":null,\"view\":{\"id\":\"1125\",\"type\":\"CDSView\"}},\"id\":\"1124\",\"type\":\"GlyphRenderer\"},{\"attributes\":{\"dimension\":1,\"ticker\":{\"id\":\"1107\",\"type\":\"BasicTicker\"}},\"id\":\"1110\",\"type\":\"Grid\"},{\"attributes\":{},\"id\":\"1099\",\"type\":\"LinearScale\"},{\"attributes\":{},\"id\":\"1107\",\"type\":\"BasicTicker\"},{\"attributes\":{},\"id\":\"1097\",\"type\":\"LinearScale\"},{\"attributes\":{\"source\":{\"id\":\"1120\",\"type\":\"ColumnDataSource\"}},\"id\":\"1125\",\"type\":\"CDSView\"},{\"attributes\":{},\"id\":\"1136\",\"type\":\"BasicTickFormatter\"},{\"attributes\":{},\"id\":\"1102\",\"type\":\"BasicTicker\"},{\"attributes\":{},\"id\":\"1138\",\"type\":\"BasicTickFormatter\"},{\"attributes\":{\"text\":\"ru-bert T-SNE\"},\"id\":\"1091\",\"type\":\"Title\"},{\"attributes\":{\"callback\":null},\"id\":\"1093\",\"type\":\"DataRange1d\"},{\"attributes\":{\"formatter\":{\"id\":\"1136\",\"type\":\"BasicTickFormatter\"},\"ticker\":{\"id\":\"1107\",\"type\":\"BasicTicker\"}},\"id\":\"1106\",\"type\":\"LinearAxis\"},{\"attributes\":{\"callback\":null,\"data\":{\"names\":[1,0,0,1,0,1,1,0,1,1,0,0,1,0,1,1,0,1,1,0,1,1,1,1,0,0,0,1,1,0,0,0,0,1,1,1,1,0,1,0,1,0,0,1,1,0,0,0,1,1,1,0,0,1,1,0,0,0,0,0,1,1,0,1,1,1,1,0,1,1,0,0,0,0,1,1,1,1,0,0,1,0,1,0,1,0,0,0,0,0,1,1,0,0,0,0,0,1,0,1,0,1,1,1,0,1,1,0,1,1,0,0,0,1,0,1,0,0,1,1,1,1,0,1,1,1,0,1,1,0,1,0,0,0,1,0,0,0,1,0,0,1,1,1,1,0,0,1,0,0,0,0,0,0,1,0,1,1,0,0,1,1,0,0,1,0,0,1,1,1,1,0,1,1,1,1,1,0,0,1,0,1,1,0,1,1,1,1,0,1,0,1,0,1,1,1,0,1,0,1,1,0,0,1,1,0,1,0,1,1,1,1,1,1,0,0,1,1,0,1,1,1,0,1,1,1,1,1,0,0,0,1,1,1,0,1,1,0,0,0,1,0,0,0,1,0,0,1,0,0,0,0,0,1,0,0,0,1,1,0,1,0,1,1,0,1,0,1,1,0,0,1,0,1,0,0,0,0,1,1,1,1,0,1,0,1,1,1,1,0,1,0,1,0,1,1,0,0,0,0,0,0,0,1,1,1,0,1,0,0,0,1,0,1,1,1,1,0,0,1,1,1,1,1,0,0,1,1,1,1,0,1,1,0,0,0,0,0,0,1,0,0,1,0,0,0,1,1,0,0,1,0,0,1,1,1,0,1,0,0,1,1,0,1,0,1,1,1,1,1,0,1,0,0,1,1,0,1,1,1,0,0,1,0,1,1,0,1,0,1,0,1,1,0,0,0,0,0,0,0,1,1,1,0,1,0,0,0,1,0,1,1,1,1,0,0,1,0,1,0,0,1,1,1,1,0,1,0,1,0,1,1,0,1,0,1,1,1,1,0,0,1,0,1,1,1,1,1,1,0,0,1,0,1,0,0,1,1,1,0,0,0,1,0,0,0,0,0,1,1,1,0,1,0,0,1,1,0,1,1,0,1,1,0,1,1,1,0,1,1,0,1,0,0,0,1,1,0,1,0,1,0,1,1,0,1,0,1,1,0,0,0,1,1,1,1,1,1,1,1,1,1,1,0,0,1,1,1,1,1,0,1,1,1,1,0,1,0,0,1,0,0,1,1,0,1,1,0,0,0,0,1,1,0,0,1,1,1,0,1,1,0,1,1,1,1,1,0,1,1,1,0,1,0,1,0,1,1,1,0,0,0,0,1,0,0,0,1,1,1,1,1,1,1,0,1,0,1,1,0,1,0,1,0,1,1,1,1,0,1,1,0,0,1,0,0,0,1,0,0,0,1,0,1,0,1,0,0,1,0,0,1,0,0,1,1,1,1,0,1,1,1,0,1,0,1,0,0,0,0,0,0,0,1,0,0,1,0,1,1,1,1,1,0,0,0,1,0,1,1,0,0,1,1,1,1,1,0,1,1,1,1,0,0,0,0,1,1,1,1,1,0,1,1,1,1,0,1,0,0,1,1,1,1,0,1,1,1,1,0,1,1,1,0,0,1,0,0,0,1,0,1,0,1,1,1,0,0,0,0,1,0,1,0,1,1,1,1,0,0,0,0,1,1,1,1,0,1,0,0,1,1,0,0,0,1,1,1,1,0,0,1,1,0,0,1,1,0,0,0,1,0,1,0,0,1,0,0,0,1,1,1,0,1,1,1,0,1,0,0,1,1,0,0,1,1,0,0,0,0,0,0,0,1,0,1,0,1,1,0,0,0,0,0,0,0,1,0,0,1,1,0,0,1,0,0,1,1,1,1,1,0,1,1,0,0,0,0,1,1,0,0,1,0,0,0,1,1,0,1,0,0,0,1,1,1,0,1,1,0,0,1,0,0,1,0,1,1,1,1,1,1,0,1,0,0,0,1,0,1,0,0,1,1,0,0,1,0,0,0,1,0,0,1,1,0,0,0,0,1,0,1,0,0,0,1,0,0,0,1,0,1,0,0,1,1,0,0,1,0,0,0,1,1,0,0,0,0,0,0,1,0,0,0,1,1,0,1,1,0,0,0,0,0,1,1,0,0,0,1,1,0,0,0,1,0,1,0,0,0,1,1,1,0,0,1,1,0,1,0,1,1,1,1,0,1,0,1,1,1,0,0,0,1,1,1,1,1,0,0,0,1,0,1,0,0,1,1,0,1,0,1,0,0,0,0,0,1,0,0,1,1,0,1,0,0,1,1,1,0,1,1,0,1,0,0,0,1,0,1,1,1,0,0,0,1,1,0,0,0,0,0,1,0,1,0,1,1,1,0,0,1,0,1,1,1,0,0,1,0,1,0,0,1,0,0,1,0,1,1,1,0,0,0,0,1,1,0,0,1,1,1,1,0,1,1,1,1,1,1,1,1,1,0,0,0,1,0,1,0,0,0,0,1,0,1,0,0,0,1,0,1,0,0,0,0,1,1,0,1,0,1,1,1,0,1,0,1,0,1,0,1,1,1,0,1,1,0,1,1,1,0,0,1,1,0,0,1,1,1,0,1,1,0,0,1,0,0,0,0,1,0,1,0,1,0,1,0,1,1,1,1,1,1,1,0,0,1,1,0,1,1,1,0,1,0,1,0,0,0,1,0,0,1,1,1,0,1,0,1,0,0,0,1,1,1,1,1,1,0,0,1,1,0,0,0,1,0,1,1,0,1,0,1,0,1,0,1,0,0,1,0,0,1,0,0,0,0,0,1,0,0,0,1,0,0,1,0,1,1,1,1,1,0,0,0,1,0,1,0,0,0,1,1,0,1,1,0,1,0,1,0,0,1,1,0,1,1,0,1,0,0,0,1,0,1,1,0,0,0,1,0,1,1,0,1,1,1,1,1,0,1,1,1,0,1,1,1,0,1,1,0,1,1,1,1,1,0,0,1,0,0,1,0,0,1,0,0,0,1,0,1,0,0,0,1,1,1,1,1,1,1,0,1,1,1,0,0,1,0,1,0,1,1,0,0,1,1,0,1,0,1,0,0,1,1,1,1,1,1,1,1,1,0,1,0,0,1,1,1,0,1,0,1,0,1,0,0,0,1,1,0,0,0,1,1,0,0,1,0,0,0,0,1,0,1,0,1,1,0,1,0,1,1,1,0,0,1,1,1,1,0,1,0,0,0,0,1,1,1,0,0,1,1,1,1,1,0,0,0,0,0,0,1,0,0,0,0,1,1,1,0,0,1,1,1,0,1,1,0,0,0,1,1,0,1,1,1,0,0,0,1,0,0,0,0,0,0,1,1,1,0,1,1,1,0,0,0,0,0,0,1,0,1,0,1,1,1,1,1,0,0,1,0,0,1,0,1,0,0,0,1,0,1,0,0,1,0,1,1,1,1,0,1,1,0,0,0,0,1,0,1,0,0,0,1,0,0,1,1,1,0,1,1,1,0,1,1,0,0,0,1,1,0,1,0,1,1,1,0,0,1,1,1,1,0,1,1,1,1,0,0,1,0,0,1,1,1,0,1,1,0,0,0,1,0,0,1,0,1,0,0,1,1,1,1,1,1,0,0,1,1,0,0,0,1,1,1,0,0,1,0,0,1,1,0,1,1,0,0,0,0,1,0,1,0,1,1,0,1,1,1,1,0,1,1,1,1,1,0,0,0,1,1,0,0,1,1,1,1,0,0,1,1,0,1,1,0,1,0,1,0,0,0,1,1,0,0,1,0,0,0,0,1,1,1,1,0,1,1,1,0,0,1,0,1,0,1,1,1,0,0,0,1,1,1,1,1,0,1,0,1,1,0,0,1,0,1,1,0,1,0,1,1,0,0,1,0,0,1,1,0,1,1,1,0,1,1,0,1,0,0,1,0,1,1,0,1,1,0,1,0,0,1,1,1,1,0,0,0,1,0,1,1,0,0,1,1,1,0,1,1,1,0,1,0,0,0,1,1,0,0,1,1,0,0,0,1,1,1,0,1,1,0,0,0,1,0,0,0,0,0,0,0,0,0,0,0,1,1,1,0,0,0,1,1,0,1,1,1,0,1,1,0,1,0,1,0,1,0,0,1,1,1,0,0,0,1,1,1,1,1,0,0,0,0,0,1,0,0,0,1,1,1,0,1,0,1,0,0,0,0,1,1,0,0,1,0,1,1,1,0,1,1,0,0,0,0,1,0,0,0,1,1,0,0,1,1,1,0,0,1,0,1,1,1,1,0,1,0,1,0,1,1,0,1,1,1,0,0,0,1,1,1,1,1,0,0,0,1,1,0,1,0,0,1,1,0,1,1,1,1,1,1,1,0,0,1,1,0,0,1,1,1,0,0,0,0,1,0,1,1,1,0,0,1,1,1,0,1,1,1,0,0,0,0,0,0,1,0,1,1,0,0,1,0,0,1,1,1,0,1,1,0,1,1,0,0,1,0,1,1,1,0,1,0,1,0,0,1,0,1,1,0,1,0,1,0,0,0,0,1,0,1,1,0,1,1,0,1,1,0,1,1,0,1,1,0,1,1,0,1,1,1,0,0,0,1,0,1,1,1,1,0,1,0,0,1,0,1,1,1,1,0,1,0,0,0,1,1,1,1,1,1,0,1,1,1,0,1,1,0,1,1,0,0,0,1,1,0,1,1,1,0,0,1,1,1,0,0,1,0,1,0,1,1,1,1,1,0,0,0,0,0,0,0,1,0,0,1,1,1,0,1,1,1,0,1,0,1,1,0,1,1,0,1,0,1,0,0,1,0,0,1,1,1,1,1,0,0,1,1,0,1,0,1,1,0,1,1,1,0,1,0,1,1,0,1,0,0,0,0,0,0,1,1,1,0,1,1,0,1,0,0,1,0,0,0,1,0,0,0,1,0,0,1,0,1,1,1,1,0,1,1,1,1,0,1,0,1,1,1,1,0,1,0,0,0,1,1,0,0,0,0,1,0,0,1,0,1,0,0,1,0,0,0,0,0,0,0,0,1,0,0,0,0,0,0,0,1,1,1,0,1,1,0,0,1,0,0,1,0,1,1,0,1,1,0,0,1,0,1,0,1,1,0,1,0,0,1,0,1,0,0,1,1,0,0,0,0,1,1,0,1,0,1,0,1,0,1,1,0,0,0,1,1,1,0,0,1,0,1,1,1,1,0,1,0,1,1,1,0,0,1,0,0,0,0,1,1,1,0,0,0,1,1,1,0,0,1,1,1,1,1,0,1,1,0,1,1,0,0,0,1,0,1,0,0,1,0,0,0,0,0,1,1,0,1,0,0,0,0,1,0,1,0,1,0,0,0,1,1,0,0,0,0,1,1,0,0,0,1,0,0,0,0,1,1,1,1,1,0,1,1,1,1,1,1,0,0,0,0,1,0,0,0,1,1,0,1,1,1,0,0,0,0,0,0,1,1,1,1,1,0,0,0,0,1,1,0,0,1,0,0,0,1,1,0,1,1,0,0,0,1,1,0,1,0,1,1,1,0,1,1,0,0,0,0,0,0,0,0,0,0,0,1,1,1,1,0,0,1,1,0,1,1,1,0,0,0,0,1,0,0,1,0,1,0,0,1,1,0,1,1,0,0,1,1,1,0,0,0,0,1,1,1,1,0,0,1,1,0,1,1,1,1,1,0,0,0,0,1,1,1,0,1,1,1,1,1,1,0,0,1,1,0,1,0,0,1,1,0,1,0,0,1,0,1,0,1,0,0,0,1,1,1,1,1,1,0,0,1,1,1,0,0,0,0,1,1,0,1,1,0,0,0,1,0,0,1,0,0,0,1,1,1,1,1,1,1,1,1,1,1,1,1,1,1,0,0,1,1,0,1,1,1,1,0,1,1,1,0,1,1,1,1,0,1,1,1,0,0,0,1,1,0],\"x1\":{\"__ndarray__\":\"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\",\"dtype\":\"float32\",\"shape\":[2616,1]},\"x2\":{\"__ndarray__\":\"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\",\"dtype\":\"float32\",\"shape\":[2616,1]}},\"selected\":{\"id\":\"1141\",\"type\":\"Selection\"},\"selection_policy\":{\"id\":\"1140\",\"type\":\"UnionRenderers\"}},\"id\":\"1120\",\"type\":\"ColumnDataSource\"},{\"attributes\":{},\"id\":\"1140\",\"type\":\"UnionRenderers\"},{\"attributes\":{},\"id\":\"1141\",\"type\":\"Selection\"}],\"root_ids\":[\"1090\"]},\"title\":\"Bokeh Application\",\"version\":\"1.3.4\"}};\n",
       "  var render_items = [{\"docid\":\"9ad206ed-e365-4335-83cf-2a0755b0805d\",\"roots\":{\"1090\":\"4a9019c2-ae1b-4641-a72f-7a46a4a36021\"}}];\n",
       "  root.Bokeh.embed.embed_items_notebook(docs_json, render_items);\n",
       "\n",
       "  }\n",
       "  if (root.Bokeh !== undefined) {\n",
       "    embed_document(root);\n",
       "  } else {\n",
       "    var attempts = 0;\n",
       "    var timer = setInterval(function(root) {\n",
       "      if (root.Bokeh !== undefined) {\n",
       "        embed_document(root);\n",
       "        clearInterval(timer);\n",
       "      }\n",
       "      attempts++;\n",
       "      if (attempts > 100) {\n",
       "        console.log(\"Bokeh: ERROR: Unable to run BokehJS code because BokehJS library is missing\");\n",
       "        clearInterval(timer);\n",
       "      }\n",
       "    }, 10, root)\n",
       "  }\n",
       "})(window);"
      ],
      "application/vnd.bokehjs_exec.v0+json": ""
     },
     "metadata": {
      "application/vnd.bokehjs_exec.v0+json": {
       "id": "1090"
      }
     },
     "output_type": "display_data"
    }
   ],
   "source": [
    "from bokeh.models import ColumnDataSource, LabelSet\n",
    "from bokeh.plotting import figure, show, output_file\n",
    "from bokeh.io import output_notebook\n",
    "\n",
    "output_notebook()\n",
    "\n",
    "p = figure(tools=\"pan,wheel_zoom,reset,save\",\n",
    "           toolbar_location=\"above\",\n",
    "           title=\"ru-bert T-SNE\")\n",
    "\n",
    "source = ColumnDataSource(data=dict(x1=vec_rep[:train_X.shape[0]],\n",
    "                                    x2=vec_rep[train_X.shape[0]:],\n",
    "                                    names=train_y))\n",
    "\n",
    "p.scatter(x=\"x1\", y=\"x2\", size=8, source=source)\n",
    "\n",
    "labels = LabelSet(x=\"x1\", y=\"x2\", text=\"names\", y_offset=6,\n",
    "                  text_font_size=\"8pt\", text_color=\"#555555\",\n",
    "                  source=source, text_align='center')\n",
    "p.add_layout(labels)\n",
    "\n",
    "show(p)"
   ]
  },
  {
   "cell_type": "markdown",
   "metadata": {},
   "source": [
    "Большое количество точек расопложились по диагонали. Было бы ожидаемо, если бы метки у них были \"entailment\", но это не так."
   ]
  },
  {
   "cell_type": "markdown",
   "metadata": {},
   "source": [
    "##### Part 3. Make first classifier\n",
    "---\n",
    "LogisticRegression"
   ]
  },
  {
   "cell_type": "code",
   "execution_count": 46,
   "metadata": {},
   "outputs": [
    {
     "name": "stderr",
     "output_type": "stream",
     "text": [
      "/home/coder/anaconda3/lib/python3.7/site-packages/sklearn/linear_model/logistic.py:432: FutureWarning: Default solver will be changed to 'lbfgs' in 0.22. Specify a solver to silence this warning.\n",
      "  FutureWarning)\n"
     ]
    },
    {
     "data": {
      "text/plain": [
       "LogisticRegression(C=1.0, class_weight=None, dual=False, fit_intercept=True,\n",
       "                   intercept_scaling=1, l1_ratio=None, max_iter=100,\n",
       "                   multi_class='warn', n_jobs=None, penalty='l2',\n",
       "                   random_state=None, solver='warn', tol=0.0001, verbose=0,\n",
       "                   warm_start=False)"
      ]
     },
     "execution_count": 46,
     "metadata": {},
     "output_type": "execute_result"
    }
   ],
   "source": [
    "from sklearn.linear_model import LogisticRegression\n",
    "clf = LogisticRegression()\n",
    "clf.fit(train_X, train_y)"
   ]
  },
  {
   "cell_type": "code",
   "execution_count": 53,
   "metadata": {},
   "outputs": [],
   "source": [
    "pred = clf.predict(val_X)"
   ]
  },
  {
   "cell_type": "code",
   "execution_count": 54,
   "metadata": {},
   "outputs": [
    {
     "data": {
      "text/plain": [
       "0.46905537459283386"
      ]
     },
     "execution_count": 54,
     "metadata": {},
     "output_type": "execute_result"
    }
   ],
   "source": [
    "accuracy_score(val_y, pred)"
   ]
  },
  {
   "cell_type": "markdown",
   "metadata": {},
   "source": [
    "---\n",
    "SVM"
   ]
  },
  {
   "cell_type": "code",
   "execution_count": 46,
   "metadata": {},
   "outputs": [],
   "source": [
    "clf = SVC(gamma='auto')\n",
    "\n",
    "params_space = {\n",
    "    'kernel': ['linear', 'poly', 'rbf', 'sigmoid']\n",
    "}\n",
    "\n",
    "scorer = make_scorer(accuracy_score)\n",
    "\n",
    "rs = RandomizedSearchCV(clf, params_space,\n",
    "                        cv=3,\n",
    "                        verbose=1,\n",
    "                        n_jobs=-1,\n",
    "                        n_iter=50,\n",
    "                        scoring=scorer)"
   ]
  },
  {
   "cell_type": "code",
   "execution_count": 33,
   "metadata": {},
   "outputs": [
    {
     "name": "stdout",
     "output_type": "stream",
     "text": [
      "Fitting 3 folds for each of 4 candidates, totalling 12 fits\n"
     ]
    },
    {
     "name": "stderr",
     "output_type": "stream",
     "text": [
      "/home/coder/anaconda3/lib/python3.7/site-packages/sklearn/model_selection/_search.py:266: UserWarning: The total space of parameters 4 is smaller than n_iter=50. Running 4 iterations. For exhaustive searches, use GridSearchCV.\n",
      "  % (grid_size, self.n_iter, grid_size), UserWarning)\n",
      "[Parallel(n_jobs=-1)]: Using backend LokyBackend with 4 concurrent workers.\n",
      "[Parallel(n_jobs=-1)]: Done  12 out of  12 | elapsed:   43.1s finished\n"
     ]
    },
    {
     "data": {
      "text/plain": [
       "RandomizedSearchCV(cv=3, error_score='raise-deprecating',\n",
       "                   estimator=SVC(C=1.0, cache_size=200, class_weight=None,\n",
       "                                 coef0=0.0, decision_function_shape='ovr',\n",
       "                                 degree=3, gamma='auto', kernel='rbf',\n",
       "                                 max_iter=-1, probability=False,\n",
       "                                 random_state=None, shrinking=True, tol=0.001,\n",
       "                                 verbose=False),\n",
       "                   iid='warn', n_iter=50, n_jobs=-1,\n",
       "                   param_distributions={'kernel': ['linear', 'poly', 'rbf',\n",
       "                                                   'sigmoid']},\n",
       "                   pre_dispatch='2*n_jobs', random_state=None, refit=True,\n",
       "                   return_train_score=False,\n",
       "                   scoring=make_scorer(accuracy_score), verbose=1)"
      ]
     },
     "execution_count": 33,
     "metadata": {},
     "output_type": "execute_result"
    }
   ],
   "source": [
    "rs.fit(train_X, train_y)"
   ]
  },
  {
   "cell_type": "code",
   "execution_count": 34,
   "metadata": {},
   "outputs": [
    {
     "name": "stdout",
     "output_type": "stream",
     "text": [
      "best params: {'kernel': 'sigmoid'}\n",
      "best CV score: 0.5948012232415902\n"
     ]
    }
   ],
   "source": [
    "print('best params:', rs.best_params_)\n",
    "print('best CV score:', rs.best_score_)"
   ]
  },
  {
   "cell_type": "code",
   "execution_count": 58,
   "metadata": {},
   "outputs": [
    {
     "data": {
      "text/plain": [
       "SVC(C=1.0, cache_size=200, class_weight=None, coef0=0.0,\n",
       "    decision_function_shape='ovr', degree=3, gamma='auto', kernel='sigmoid',\n",
       "    max_iter=-1, probability=False, random_state=None, shrinking=True,\n",
       "    tol=0.001, verbose=False)"
      ]
     },
     "execution_count": 58,
     "metadata": {},
     "output_type": "execute_result"
    }
   ],
   "source": [
    "clf = SVC(gamma='auto', kernel='sigmoid')\n",
    "clf.fit(train_X, train_y)"
   ]
  },
  {
   "cell_type": "code",
   "execution_count": 59,
   "metadata": {},
   "outputs": [],
   "source": [
    "pred = clf.predict(val_X)"
   ]
  },
  {
   "cell_type": "code",
   "execution_count": 60,
   "metadata": {},
   "outputs": [
    {
     "data": {
      "text/plain": [
       "0.5798045602605864"
      ]
     },
     "execution_count": 60,
     "metadata": {},
     "output_type": "execute_result"
    }
   ],
   "source": [
    "accuracy_score(val_y, pred)"
   ]
  },
  {
   "cell_type": "markdown",
   "metadata": {},
   "source": [
    "---\n",
    "make submit"
   ]
  },
  {
   "cell_type": "code",
   "execution_count": 24,
   "metadata": {},
   "outputs": [],
   "source": [
    "def make_submit(pred, path):\n",
    "    pred_names = ['not_entailment' if p == 0 else 'entailment' for p in pred]\n",
    "    submission = pd.DataFrame({'Id': np.arange(len(pred)), 'Category': pred_names})\n",
    "    submission.to_csv(path + '.csv', index=False)"
   ]
  },
  {
   "cell_type": "code",
   "execution_count": 40,
   "metadata": {},
   "outputs": [],
   "source": [
    "pred = clf.predict(test_X)\n",
    "make_submit(pred, 'dp_rubert_freezed_svm')"
   ]
  },
  {
   "cell_type": "markdown",
   "metadata": {},
   "source": [
    "---"
   ]
  },
  {
   "cell_type": "code",
   "execution_count": 66,
   "metadata": {},
   "outputs": [],
   "source": [
    "from sklearn.metrics.pairwise import cosine_similarity"
   ]
  },
  {
   "cell_type": "code",
   "execution_count": 85,
   "metadata": {},
   "outputs": [],
   "source": [
    "pred = cosine_similarity(val_X[:, :768], val_X[:, 768:]).diagonal() > 0.6"
   ]
  },
  {
   "cell_type": "code",
   "execution_count": 86,
   "metadata": {},
   "outputs": [],
   "source": [
    "pred = np.array(pred, dtype=np.int32)"
   ]
  },
  {
   "cell_type": "code",
   "execution_count": 87,
   "metadata": {},
   "outputs": [
    {
     "data": {
      "text/plain": [
       "0.5602605863192183"
      ]
     },
     "execution_count": 87,
     "metadata": {},
     "output_type": "execute_result"
    }
   ],
   "source": [
    "accuracy_score(pred, val_y)"
   ]
  },
  {
   "cell_type": "code",
   "execution_count": 88,
   "metadata": {},
   "outputs": [],
   "source": [
    "pred = cosine_similarity(test_X[:, :768], test_X[:, 768:]).diagonal() > 0.6\n",
    "make_submit(pred, 'dp_rubert_freezed_cosine_sim')"
   ]
  },
  {
   "cell_type": "markdown",
   "metadata": {},
   "source": [
    "---\n",
    "##### Part 4. Finetune on Classification task"
   ]
  },
  {
   "cell_type": "code",
   "execution_count": 6,
   "metadata": {},
   "outputs": [],
   "source": [
    "train_X = np.array(list(zip(list(train_data.premise), list(train_data.hypothesis))))\n",
    "train_y = np.array(train_data['label'])\n",
    "\n",
    "val_X = np.array(list(zip(list(val_data.premise), list(val_data.hypothesis))))\n",
    "val_y = np.array(val_data['label'])\n",
    "\n",
    "test_X = np.array(list(zip(list(test_data.premise), list(test_data.hypothesis))))"
   ]
  },
  {
   "cell_type": "code",
   "execution_count": 7,
   "metadata": {},
   "outputs": [],
   "source": [
    "BATCH_SIZE = 8\n",
    "EPOCHS = 100\n",
    "DEVICE = torch.device('cuda')"
   ]
  },
  {
   "cell_type": "code",
   "execution_count": 8,
   "metadata": {},
   "outputs": [],
   "source": [
    "def iterate_minibatches(data, batch_size=256, shuffle=True):\n",
    "    \"\"\" iterates minibatches of data in random order \"\"\"\n",
    "    indices = np.arange(len(data[0]))\n",
    "    if shuffle:\n",
    "        indices = np.random.permutation(indices)\n",
    "\n",
    "    for start in range(0, len(indices), batch_size):\n",
    "        batch = [data[0][indices[start : start + batch_size]], data[1][indices[start : start + batch_size]]]\n",
    "        yield batch"
   ]
  },
  {
   "cell_type": "code",
   "execution_count": 9,
   "metadata": {},
   "outputs": [],
   "source": [
    "def print_metrics(model, data, batch_size=BATCH_SIZE, name=\"\", device=torch.device('cuda')):\n",
    "    loss = accuracy = num_samples = 0.0\n",
    "    model.bmodel.eval()\n",
    "    with torch.no_grad():\n",
    "        for batch in iterate_minibatches(data, batch_size=batch_size, shuffle=False):\n",
    "            pred = model(batch)\n",
    "#             print(pred)\n",
    "            y = torch.tensor(batch[1], dtype=torch.long, device=DEVICE)\n",
    "            loss += criterion(pred.float(), y)\n",
    "            accuracy += torch.mean((torch.argmax(pred, axis=-1).float() == y.float()).float())\n",
    "            num_samples += 1\n",
    "            \n",
    "    loss = loss.detach().cpu().numpy() / num_samples\n",
    "    accuracy = accuracy / num_samples\n",
    "    print(\"%s val results:\" % (name or \"\"))\n",
    "    print(\"loss: %.5f\" % loss)\n",
    "    print(\"accuracy: %.5f\" % accuracy.detach().cpu().numpy())\n",
    "    return loss, accuracy"
   ]
  },
  {
   "cell_type": "code",
   "execution_count": 10,
   "metadata": {},
   "outputs": [],
   "source": [
    "class NNclf(nn.Module):\n",
    "    def __init__(self, emb_dim=768, device=torch.device('cuda')):\n",
    "        super().__init__()\n",
    "        \n",
    "        self.device = device\n",
    "        \n",
    "        self.tokenizer = AutoTokenizer.from_pretrained(\"DeepPavlov/rubert-base-cased-sentence\")\n",
    "        self.bmodel = AutoModel.from_pretrained(\"DeepPavlov/rubert-base-cased-sentence\", return_dict=True)\n",
    "        self.bmodel.eval()\n",
    "        _ = self.bmodel.to('cuda')\n",
    "        \n",
    "        for param in self.bmodel.parameters():\n",
    "            param.requires_grad = False\n",
    "        \n",
    "        self.linear = nn.Linear(emb_dim, emb_dim)\n",
    "        self.transformation = nn.Sequential(\n",
    "            nn.Linear(emb_dim, emb_dim),\n",
    "            nn.Tanh()\n",
    "        )\n",
    "        \n",
    "        self.dropout = torch.nn.Dropout(0.3)\n",
    "        \n",
    "        self.final_predictor = nn.Sequential(\n",
    "            nn.Linear(emb_dim, 128),\n",
    "            nn.Tanh(),\n",
    "            nn.Linear(128, 2)\n",
    "        )\n",
    "        \n",
    "    def forward(self, batch):\n",
    "        premise = list(batch[0][:, 0])\n",
    "        hypothesis = list(batch[0][:, 1])\n",
    "        \n",
    "        embeds_premise = self.bmodel(**self.tokenizer(premise, return_tensors='pt', padding=True).to('cuda'))\n",
    "        embeds_premise = embeds_premise.last_hidden_state[:, 0, :]\n",
    "        \n",
    "        embeds_hypothesis = self.bmodel(**self.tokenizer(hypothesis, return_tensors='pt', padding=True).to('cuda'))\n",
    "        embeds_hypothesis = embeds_hypothesis.last_hidden_state[:, 0, :]\n",
    "        \n",
    "        embeds = self.dropout(self.transformation(embeds_premise) * self.transformation(embeds_hypothesis))\n",
    "        \n",
    "        return self.final_predictor(embeds)\n",
    "    \n",
    "    def predict(self, data):\n",
    "        answer = []\n",
    "        for item in data:\n",
    "            pred = torch.argmax(self.forward(np.array([[item]])))\n",
    "            answer.append(pred.detach().cpu().numpy())\n",
    "        return answer"
   ]
  },
  {
   "cell_type": "code",
   "execution_count": 15,
   "metadata": {},
   "outputs": [
    {
     "data": {
      "text/plain": [
       "179133314"
      ]
     },
     "execution_count": 15,
     "metadata": {},
     "output_type": "execute_result"
    }
   ],
   "source": [
    "sum(p.numel() for p in model.parameters())"
   ]
  },
  {
   "cell_type": "code",
   "execution_count": 11,
   "metadata": {
    "scrolled": false
   },
   "outputs": [
    {
     "data": {
      "application/vnd.jupyter.widget-view+json": {
       "model_id": "bfc3c774b8af483594bb7b9836abfcb0",
       "version_major": 2,
       "version_minor": 0
      },
      "text/plain": [
       "HBox(children=(FloatProgress(value=0.0), HTML(value='')))"
      ]
     },
     "metadata": {},
     "output_type": "display_data"
    },
    {
     "data": {
      "application/vnd.jupyter.widget-view+json": {
       "model_id": "16d68b6937324d559f23c1fc009d6024",
       "version_major": 2,
       "version_minor": 0
      },
      "text/plain": [
       "HBox(children=(FloatProgress(value=1.0, bar_style='info', max=1.0), HTML(value='')))"
      ]
     },
     "metadata": {},
     "output_type": "display_data"
    },
    {
     "name": "stdout",
     "output_type": "stream",
     "text": [
      "\n",
      "epoch: 0\n",
      "train results:\n",
      "loss:  0.6911035006928516\n",
      "accuracy: 0.5271406727828746\n",
      " val results:\n",
      "loss: 0.68592\n",
      "accuracy: 0.55556\n"
     ]
    },
    {
     "data": {
      "application/vnd.jupyter.widget-view+json": {
       "model_id": "ebf3db8b0460456197b2b71e8cb1461d",
       "version_major": 2,
       "version_minor": 0
      },
      "text/plain": [
       "HBox(children=(FloatProgress(value=1.0, bar_style='info', max=1.0), HTML(value='')))"
      ]
     },
     "metadata": {},
     "output_type": "display_data"
    },
    {
     "name": "stdout",
     "output_type": "stream",
     "text": [
      "\n",
      "epoch: 1\n",
      "train results:\n",
      "loss:  0.6796828337036506\n",
      "accuracy: 0.5833333333333334\n",
      " val results:\n",
      "loss: 0.67363\n",
      "accuracy: 0.59402\n"
     ]
    },
    {
     "data": {
      "application/vnd.jupyter.widget-view+json": {
       "model_id": "28056dbb3f314493abdb15a76a176bdd",
       "version_major": 2,
       "version_minor": 0
      },
      "text/plain": [
       "HBox(children=(FloatProgress(value=1.0, bar_style='info', max=1.0), HTML(value='')))"
      ]
     },
     "metadata": {},
     "output_type": "display_data"
    },
    {
     "name": "stdout",
     "output_type": "stream",
     "text": [
      "\n",
      "epoch: 2\n",
      "train results:\n",
      "loss:  0.6718139181807865\n",
      "accuracy: 0.6035932721712538\n",
      " val results:\n",
      "loss: 0.66693\n",
      "accuracy: 0.58654\n"
     ]
    },
    {
     "data": {
      "application/vnd.jupyter.widget-view+json": {
       "model_id": "c517dbf7722949a09d837027420efa43",
       "version_major": 2,
       "version_minor": 0
      },
      "text/plain": [
       "HBox(children=(FloatProgress(value=1.0, bar_style='info', max=1.0), HTML(value='')))"
      ]
     },
     "metadata": {},
     "output_type": "display_data"
    },
    {
     "name": "stdout",
     "output_type": "stream",
     "text": [
      "\n",
      "epoch: 3\n",
      "train results:\n",
      "loss:  0.6657058762483276\n",
      "accuracy: 0.6127675840978594\n",
      " val results:\n",
      "loss: 0.66581\n",
      "accuracy: 0.61325\n"
     ]
    },
    {
     "data": {
      "application/vnd.jupyter.widget-view+json": {
       "model_id": "cd16d157edd84331b62a3d3ece440c69",
       "version_major": 2,
       "version_minor": 0
      },
      "text/plain": [
       "HBox(children=(FloatProgress(value=1.0, bar_style='info', max=1.0), HTML(value='')))"
      ]
     },
     "metadata": {},
     "output_type": "display_data"
    },
    {
     "name": "stdout",
     "output_type": "stream",
     "text": [
      "\n",
      "epoch: 4\n",
      "train results:\n",
      "loss:  0.6589651311938551\n",
      "accuracy: 0.6131498470948012\n",
      " val results:\n",
      "loss: 0.66161\n",
      "accuracy: 0.60577\n"
     ]
    },
    {
     "data": {
      "application/vnd.jupyter.widget-view+json": {
       "model_id": "ebe2da87382e4ba78aa9d0f20919dddc",
       "version_major": 2,
       "version_minor": 0
      },
      "text/plain": [
       "HBox(children=(FloatProgress(value=1.0, bar_style='info', max=1.0), HTML(value='')))"
      ]
     },
     "metadata": {},
     "output_type": "display_data"
    },
    {
     "name": "stdout",
     "output_type": "stream",
     "text": [
      "\n",
      "epoch: 5\n",
      "train results:\n",
      "loss:  0.6534167181825784\n",
      "accuracy: 0.6123853211009175\n",
      " val results:\n",
      "loss: 0.65678\n",
      "accuracy: 0.59081\n"
     ]
    },
    {
     "data": {
      "application/vnd.jupyter.widget-view+json": {
       "model_id": "7f3be477485e462ca4682a2e8636efeb",
       "version_major": 2,
       "version_minor": 0
      },
      "text/plain": [
       "HBox(children=(FloatProgress(value=1.0, bar_style='info', max=1.0), HTML(value='')))"
      ]
     },
     "metadata": {},
     "output_type": "display_data"
    },
    {
     "name": "stdout",
     "output_type": "stream",
     "text": [
      "\n",
      "epoch: 6\n",
      "train results:\n",
      "loss:  0.6485546707013331\n",
      "accuracy: 0.6238532110091743\n",
      " val results:\n",
      "loss: 0.65785\n",
      "accuracy: 0.59722\n"
     ]
    },
    {
     "data": {
      "application/vnd.jupyter.widget-view+json": {
       "model_id": "5e5eae8abe83490d9f58ec556c106c9c",
       "version_major": 2,
       "version_minor": 0
      },
      "text/plain": [
       "HBox(children=(FloatProgress(value=1.0, bar_style='info', max=1.0), HTML(value='')))"
      ]
     },
     "metadata": {},
     "output_type": "display_data"
    },
    {
     "name": "stdout",
     "output_type": "stream",
     "text": [
      "\n",
      "epoch: 7\n",
      "train results:\n",
      "loss:  0.6440097913829559\n",
      "accuracy: 0.6334097859327217\n",
      " val results:\n",
      "loss: 0.65805\n",
      "accuracy: 0.60043\n"
     ]
    },
    {
     "data": {
      "application/vnd.jupyter.widget-view+json": {
       "model_id": "a50f38f14fbe4e96bc2d4865582fdb9f",
       "version_major": 2,
       "version_minor": 0
      },
      "text/plain": [
       "HBox(children=(FloatProgress(value=1.0, bar_style='info', max=1.0), HTML(value='')))"
      ]
     },
     "metadata": {},
     "output_type": "display_data"
    },
    {
     "name": "stdout",
     "output_type": "stream",
     "text": [
      "\n",
      "epoch: 8\n",
      "train results:\n",
      "loss:  0.6384674912198968\n",
      "accuracy: 0.6452599388379205\n",
      " val results:\n",
      "loss: 0.65806\n",
      "accuracy: 0.57372\n"
     ]
    },
    {
     "data": {
      "application/vnd.jupyter.widget-view+json": {
       "model_id": "4edd71a18c1341fba38e160084a1eda5",
       "version_major": 2,
       "version_minor": 0
      },
      "text/plain": [
       "HBox(children=(FloatProgress(value=1.0, bar_style='info', max=1.0), HTML(value='')))"
      ]
     },
     "metadata": {},
     "output_type": "display_data"
    },
    {
     "name": "stdout",
     "output_type": "stream",
     "text": [
      "\n",
      "epoch: 9\n",
      "train results:\n",
      "loss:  0.6334357305404243\n",
      "accuracy: 0.6452599388379205\n",
      " val results:\n",
      "loss: 0.66354\n",
      "accuracy: 0.56731\n"
     ]
    },
    {
     "data": {
      "application/vnd.jupyter.widget-view+json": {
       "model_id": "af0438425b3443278db44523d39371f8",
       "version_major": 2,
       "version_minor": 0
      },
      "text/plain": [
       "HBox(children=(FloatProgress(value=1.0, bar_style='info', max=1.0), HTML(value='')))"
      ]
     },
     "metadata": {},
     "output_type": "display_data"
    },
    {
     "name": "stdout",
     "output_type": "stream",
     "text": [
      "\n",
      "epoch: 10\n",
      "train results:\n",
      "loss:  0.6302684352303135\n",
      "accuracy: 0.6487003058103975\n",
      " val results:\n",
      "loss: 0.65786\n",
      "accuracy: 0.58333\n"
     ]
    },
    {
     "data": {
      "application/vnd.jupyter.widget-view+json": {
       "model_id": "fbe03049660d468aa1a35f39235b4e10",
       "version_major": 2,
       "version_minor": 0
      },
      "text/plain": [
       "HBox(children=(FloatProgress(value=1.0, bar_style='info', max=1.0), HTML(value='')))"
      ]
     },
     "metadata": {},
     "output_type": "display_data"
    },
    {
     "name": "stdout",
     "output_type": "stream",
     "text": [
      "\n",
      "epoch: 11\n",
      "train results:\n",
      "loss:  0.6254577170089115\n",
      "accuracy: 0.658256880733945\n",
      " val results:\n",
      "loss: 0.66407\n",
      "accuracy: 0.56838\n"
     ]
    },
    {
     "data": {
      "application/vnd.jupyter.widget-view+json": {
       "model_id": "11ed5e005a8e42c286dba240038e1cf6",
       "version_major": 2,
       "version_minor": 0
      },
      "text/plain": [
       "HBox(children=(FloatProgress(value=1.0, bar_style='info', max=1.0), HTML(value='')))"
      ]
     },
     "metadata": {},
     "output_type": "display_data"
    },
    {
     "name": "stdout",
     "output_type": "stream",
     "text": [
      "\n",
      "epoch: 12\n",
      "train results:\n",
      "loss:  0.6239184458321387\n",
      "accuracy: 0.6574923547400612\n",
      " val results:\n",
      "loss: 0.66701\n",
      "accuracy: 0.54701\n"
     ]
    },
    {
     "data": {
      "application/vnd.jupyter.widget-view+json": {
       "model_id": "ffe1901c0f144a2f9ede84823840ce98",
       "version_major": 2,
       "version_minor": 0
      },
      "text/plain": [
       "HBox(children=(FloatProgress(value=1.0, bar_style='info', max=1.0), HTML(value='')))"
      ]
     },
     "metadata": {},
     "output_type": "display_data"
    },
    {
     "name": "stdout",
     "output_type": "stream",
     "text": [
      "\n",
      "epoch: 13\n",
      "train results:\n",
      "loss:  0.6178762453411697\n",
      "accuracy: 0.6594036697247706\n",
      " val results:\n",
      "loss: 0.67193\n",
      "accuracy: 0.55983\n"
     ]
    },
    {
     "data": {
      "application/vnd.jupyter.widget-view+json": {
       "model_id": "862fd1360a1c471ca6a3093ed459e030",
       "version_major": 2,
       "version_minor": 0
      },
      "text/plain": [
       "HBox(children=(FloatProgress(value=1.0, bar_style='info', max=1.0), HTML(value='')))"
      ]
     },
     "metadata": {},
     "output_type": "display_data"
    },
    {
     "name": "stdout",
     "output_type": "stream",
     "text": [
      "\n",
      "epoch: 14\n",
      "train results:\n",
      "loss:  0.6132860096222764\n",
      "accuracy: 0.6662844036697247\n",
      " val results:\n",
      "loss: 0.66888\n",
      "accuracy: 0.55556\n"
     ]
    },
    {
     "data": {
      "application/vnd.jupyter.widget-view+json": {
       "model_id": "4752ae83c1274c7e9581ece05380482e",
       "version_major": 2,
       "version_minor": 0
      },
      "text/plain": [
       "HBox(children=(FloatProgress(value=1.0, bar_style='info', max=1.0), HTML(value='')))"
      ]
     },
     "metadata": {},
     "output_type": "display_data"
    },
    {
     "name": "stdout",
     "output_type": "stream",
     "text": [
      "\n",
      "epoch: 15\n",
      "train results:\n",
      "loss:  0.6106463791033544\n",
      "accuracy: 0.6758409785932722\n",
      " val results:\n",
      "loss: 0.67098\n",
      "accuracy: 0.55876\n"
     ]
    },
    {
     "data": {
      "application/vnd.jupyter.widget-view+json": {
       "model_id": "6ea643fddc2d4b96a6a7d183553c6c6e",
       "version_major": 2,
       "version_minor": 0
      },
      "text/plain": [
       "HBox(children=(FloatProgress(value=1.0, bar_style='info', max=1.0), HTML(value='')))"
      ]
     },
     "metadata": {},
     "output_type": "display_data"
    },
    {
     "name": "stdout",
     "output_type": "stream",
     "text": [
      "\n",
      "epoch: 16\n",
      "train results:\n",
      "loss:  0.6063926766771789\n",
      "accuracy: 0.6788990825688074\n",
      " val results:\n",
      "loss: 0.66738\n",
      "accuracy: 0.57585\n"
     ]
    },
    {
     "data": {
      "application/vnd.jupyter.widget-view+json": {
       "model_id": "232203cfd38748a683d0d41e1b9283ea",
       "version_major": 2,
       "version_minor": 0
      },
      "text/plain": [
       "HBox(children=(FloatProgress(value=1.0, bar_style='info', max=1.0), HTML(value='')))"
      ]
     },
     "metadata": {},
     "output_type": "display_data"
    },
    {
     "name": "stdout",
     "output_type": "stream",
     "text": [
      "\n"
     ]
    },
    {
     "ename": "KeyboardInterrupt",
     "evalue": "",
     "output_type": "error",
     "traceback": [
      "\u001b[0;31m---------------------------------------------------------------------------\u001b[0m",
      "\u001b[0;31mKeyboardInterrupt\u001b[0m                         Traceback (most recent call last)",
      "\u001b[0;32m<ipython-input-11-9e82f8fe90bb>\u001b[0m in \u001b[0;36m<module>\u001b[0;34m\u001b[0m\n\u001b[1;32m     10\u001b[0m     \u001b[0miterations\u001b[0m \u001b[0;34m=\u001b[0m \u001b[0;36m0\u001b[0m\u001b[0;34m\u001b[0m\u001b[0;34m\u001b[0m\u001b[0m\n\u001b[1;32m     11\u001b[0m     \u001b[0;32mfor\u001b[0m \u001b[0mi\u001b[0m\u001b[0;34m,\u001b[0m \u001b[0mbatch\u001b[0m \u001b[0;32min\u001b[0m \u001b[0mtqdm\u001b[0m\u001b[0;34m(\u001b[0m\u001b[0menumerate\u001b[0m\u001b[0;34m(\u001b[0m\u001b[0miterate_minibatches\u001b[0m\u001b[0;34m(\u001b[0m\u001b[0;34m[\u001b[0m\u001b[0mtrain_X\u001b[0m\u001b[0;34m,\u001b[0m \u001b[0mtrain_y\u001b[0m\u001b[0;34m]\u001b[0m\u001b[0;34m,\u001b[0m \u001b[0mbatch_size\u001b[0m\u001b[0;34m=\u001b[0m\u001b[0mBATCH_SIZE\u001b[0m\u001b[0;34m)\u001b[0m\u001b[0;34m)\u001b[0m\u001b[0;34m)\u001b[0m\u001b[0;34m:\u001b[0m\u001b[0;34m\u001b[0m\u001b[0;34m\u001b[0m\u001b[0m\n\u001b[0;32m---> 12\u001b[0;31m         \u001b[0mpred\u001b[0m \u001b[0;34m=\u001b[0m \u001b[0mmodel\u001b[0m\u001b[0;34m(\u001b[0m\u001b[0mbatch\u001b[0m\u001b[0;34m)\u001b[0m\u001b[0;34m\u001b[0m\u001b[0;34m\u001b[0m\u001b[0m\n\u001b[0m\u001b[1;32m     13\u001b[0m         \u001b[0my\u001b[0m \u001b[0;34m=\u001b[0m \u001b[0mtorch\u001b[0m\u001b[0;34m.\u001b[0m\u001b[0mtensor\u001b[0m\u001b[0;34m(\u001b[0m\u001b[0mbatch\u001b[0m\u001b[0;34m[\u001b[0m\u001b[0;36m1\u001b[0m\u001b[0;34m]\u001b[0m\u001b[0;34m,\u001b[0m \u001b[0mdtype\u001b[0m\u001b[0;34m=\u001b[0m\u001b[0mtorch\u001b[0m\u001b[0;34m.\u001b[0m\u001b[0mlong\u001b[0m\u001b[0;34m,\u001b[0m \u001b[0mdevice\u001b[0m\u001b[0;34m=\u001b[0m\u001b[0mDEVICE\u001b[0m\u001b[0;34m)\u001b[0m\u001b[0;34m\u001b[0m\u001b[0;34m\u001b[0m\u001b[0m\n\u001b[1;32m     14\u001b[0m         \u001b[0mloss\u001b[0m \u001b[0;34m=\u001b[0m \u001b[0mcriterion\u001b[0m\u001b[0;34m(\u001b[0m\u001b[0mpred\u001b[0m\u001b[0;34m,\u001b[0m \u001b[0my\u001b[0m\u001b[0;34m)\u001b[0m\u001b[0;34m\u001b[0m\u001b[0;34m\u001b[0m\u001b[0m\n",
      "\u001b[0;32m~/anaconda3/lib/python3.7/site-packages/torch/nn/modules/module.py\u001b[0m in \u001b[0;36m_call_impl\u001b[0;34m(self, *input, **kwargs)\u001b[0m\n\u001b[1;32m    725\u001b[0m             \u001b[0mresult\u001b[0m \u001b[0;34m=\u001b[0m \u001b[0mself\u001b[0m\u001b[0;34m.\u001b[0m\u001b[0m_slow_forward\u001b[0m\u001b[0;34m(\u001b[0m\u001b[0;34m*\u001b[0m\u001b[0minput\u001b[0m\u001b[0;34m,\u001b[0m \u001b[0;34m**\u001b[0m\u001b[0mkwargs\u001b[0m\u001b[0;34m)\u001b[0m\u001b[0;34m\u001b[0m\u001b[0;34m\u001b[0m\u001b[0m\n\u001b[1;32m    726\u001b[0m         \u001b[0;32melse\u001b[0m\u001b[0;34m:\u001b[0m\u001b[0;34m\u001b[0m\u001b[0;34m\u001b[0m\u001b[0m\n\u001b[0;32m--> 727\u001b[0;31m             \u001b[0mresult\u001b[0m \u001b[0;34m=\u001b[0m \u001b[0mself\u001b[0m\u001b[0;34m.\u001b[0m\u001b[0mforward\u001b[0m\u001b[0;34m(\u001b[0m\u001b[0;34m*\u001b[0m\u001b[0minput\u001b[0m\u001b[0;34m,\u001b[0m \u001b[0;34m**\u001b[0m\u001b[0mkwargs\u001b[0m\u001b[0;34m)\u001b[0m\u001b[0;34m\u001b[0m\u001b[0;34m\u001b[0m\u001b[0m\n\u001b[0m\u001b[1;32m    728\u001b[0m         for hook in itertools.chain(\n\u001b[1;32m    729\u001b[0m                 \u001b[0m_global_forward_hooks\u001b[0m\u001b[0;34m.\u001b[0m\u001b[0mvalues\u001b[0m\u001b[0;34m(\u001b[0m\u001b[0;34m)\u001b[0m\u001b[0;34m,\u001b[0m\u001b[0;34m\u001b[0m\u001b[0;34m\u001b[0m\u001b[0m\n",
      "\u001b[0;32m<ipython-input-10-b63b14a5df65>\u001b[0m in \u001b[0;36mforward\u001b[0;34m(self, batch)\u001b[0m\n\u001b[1;32m     31\u001b[0m         \u001b[0mhypothesis\u001b[0m \u001b[0;34m=\u001b[0m \u001b[0mlist\u001b[0m\u001b[0;34m(\u001b[0m\u001b[0mbatch\u001b[0m\u001b[0;34m[\u001b[0m\u001b[0;36m0\u001b[0m\u001b[0;34m]\u001b[0m\u001b[0;34m[\u001b[0m\u001b[0;34m:\u001b[0m\u001b[0;34m,\u001b[0m \u001b[0;36m1\u001b[0m\u001b[0;34m]\u001b[0m\u001b[0;34m)\u001b[0m\u001b[0;34m\u001b[0m\u001b[0;34m\u001b[0m\u001b[0m\n\u001b[1;32m     32\u001b[0m \u001b[0;34m\u001b[0m\u001b[0m\n\u001b[0;32m---> 33\u001b[0;31m         \u001b[0membeds_premise\u001b[0m \u001b[0;34m=\u001b[0m \u001b[0mself\u001b[0m\u001b[0;34m.\u001b[0m\u001b[0mbmodel\u001b[0m\u001b[0;34m(\u001b[0m\u001b[0;34m**\u001b[0m\u001b[0mself\u001b[0m\u001b[0;34m.\u001b[0m\u001b[0mtokenizer\u001b[0m\u001b[0;34m(\u001b[0m\u001b[0mpremise\u001b[0m\u001b[0;34m,\u001b[0m \u001b[0mreturn_tensors\u001b[0m\u001b[0;34m=\u001b[0m\u001b[0;34m'pt'\u001b[0m\u001b[0;34m,\u001b[0m \u001b[0mpadding\u001b[0m\u001b[0;34m=\u001b[0m\u001b[0;32mTrue\u001b[0m\u001b[0;34m)\u001b[0m\u001b[0;34m.\u001b[0m\u001b[0mto\u001b[0m\u001b[0;34m(\u001b[0m\u001b[0;34m'cuda'\u001b[0m\u001b[0;34m)\u001b[0m\u001b[0;34m)\u001b[0m\u001b[0;34m\u001b[0m\u001b[0;34m\u001b[0m\u001b[0m\n\u001b[0m\u001b[1;32m     34\u001b[0m         \u001b[0membeds_premise\u001b[0m \u001b[0;34m=\u001b[0m \u001b[0membeds_premise\u001b[0m\u001b[0;34m.\u001b[0m\u001b[0mlast_hidden_state\u001b[0m\u001b[0;34m[\u001b[0m\u001b[0;34m:\u001b[0m\u001b[0;34m,\u001b[0m \u001b[0;36m0\u001b[0m\u001b[0;34m,\u001b[0m \u001b[0;34m:\u001b[0m\u001b[0;34m]\u001b[0m\u001b[0;34m\u001b[0m\u001b[0;34m\u001b[0m\u001b[0m\n\u001b[1;32m     35\u001b[0m \u001b[0;34m\u001b[0m\u001b[0m\n",
      "\u001b[0;32m~/anaconda3/lib/python3.7/site-packages/transformers/tokenization_utils_base.py\u001b[0m in \u001b[0;36m__call__\u001b[0;34m(self, text, text_pair, add_special_tokens, padding, truncation, max_length, stride, is_split_into_words, pad_to_multiple_of, return_tensors, return_token_type_ids, return_attention_mask, return_overflowing_tokens, return_special_tokens_mask, return_offsets_mapping, return_length, verbose, **kwargs)\u001b[0m\n\u001b[1;32m   2212\u001b[0m                 \u001b[0mreturn_length\u001b[0m\u001b[0;34m=\u001b[0m\u001b[0mreturn_length\u001b[0m\u001b[0;34m,\u001b[0m\u001b[0;34m\u001b[0m\u001b[0;34m\u001b[0m\u001b[0m\n\u001b[1;32m   2213\u001b[0m                 \u001b[0mverbose\u001b[0m\u001b[0;34m=\u001b[0m\u001b[0mverbose\u001b[0m\u001b[0;34m,\u001b[0m\u001b[0;34m\u001b[0m\u001b[0;34m\u001b[0m\u001b[0m\n\u001b[0;32m-> 2214\u001b[0;31m                 \u001b[0;34m**\u001b[0m\u001b[0mkwargs\u001b[0m\u001b[0;34m,\u001b[0m\u001b[0;34m\u001b[0m\u001b[0;34m\u001b[0m\u001b[0m\n\u001b[0m\u001b[1;32m   2215\u001b[0m             )\n\u001b[1;32m   2216\u001b[0m         \u001b[0;32melse\u001b[0m\u001b[0;34m:\u001b[0m\u001b[0;34m\u001b[0m\u001b[0;34m\u001b[0m\u001b[0m\n",
      "\u001b[0;32m~/anaconda3/lib/python3.7/site-packages/transformers/tokenization_utils_base.py\u001b[0m in \u001b[0;36mbatch_encode_plus\u001b[0;34m(self, batch_text_or_text_pairs, add_special_tokens, padding, truncation, max_length, stride, is_split_into_words, pad_to_multiple_of, return_tensors, return_token_type_ids, return_attention_mask, return_overflowing_tokens, return_special_tokens_mask, return_offsets_mapping, return_length, verbose, **kwargs)\u001b[0m\n\u001b[1;32m   2397\u001b[0m             \u001b[0mreturn_length\u001b[0m\u001b[0;34m=\u001b[0m\u001b[0mreturn_length\u001b[0m\u001b[0;34m,\u001b[0m\u001b[0;34m\u001b[0m\u001b[0;34m\u001b[0m\u001b[0m\n\u001b[1;32m   2398\u001b[0m             \u001b[0mverbose\u001b[0m\u001b[0;34m=\u001b[0m\u001b[0mverbose\u001b[0m\u001b[0;34m,\u001b[0m\u001b[0;34m\u001b[0m\u001b[0;34m\u001b[0m\u001b[0m\n\u001b[0;32m-> 2399\u001b[0;31m             \u001b[0;34m**\u001b[0m\u001b[0mkwargs\u001b[0m\u001b[0;34m,\u001b[0m\u001b[0;34m\u001b[0m\u001b[0;34m\u001b[0m\u001b[0m\n\u001b[0m\u001b[1;32m   2400\u001b[0m         )\n\u001b[1;32m   2401\u001b[0m \u001b[0;34m\u001b[0m\u001b[0m\n",
      "\u001b[0;32m~/anaconda3/lib/python3.7/site-packages/transformers/tokenization_utils.py\u001b[0m in \u001b[0;36m_batch_encode_plus\u001b[0;34m(self, batch_text_or_text_pairs, add_special_tokens, padding_strategy, truncation_strategy, max_length, stride, is_split_into_words, pad_to_multiple_of, return_tensors, return_token_type_ids, return_attention_mask, return_overflowing_tokens, return_special_tokens_mask, return_offsets_mapping, return_length, verbose, **kwargs)\u001b[0m\n\u001b[1;32m    547\u001b[0m                 \u001b[0mids\u001b[0m\u001b[0;34m,\u001b[0m \u001b[0mpair_ids\u001b[0m \u001b[0;34m=\u001b[0m \u001b[0mids_or_pair_ids\u001b[0m\u001b[0;34m\u001b[0m\u001b[0;34m\u001b[0m\u001b[0m\n\u001b[1;32m    548\u001b[0m \u001b[0;34m\u001b[0m\u001b[0m\n\u001b[0;32m--> 549\u001b[0;31m             \u001b[0mfirst_ids\u001b[0m \u001b[0;34m=\u001b[0m \u001b[0mget_input_ids\u001b[0m\u001b[0;34m(\u001b[0m\u001b[0mids\u001b[0m\u001b[0;34m)\u001b[0m\u001b[0;34m\u001b[0m\u001b[0;34m\u001b[0m\u001b[0m\n\u001b[0m\u001b[1;32m    550\u001b[0m             \u001b[0msecond_ids\u001b[0m \u001b[0;34m=\u001b[0m \u001b[0mget_input_ids\u001b[0m\u001b[0;34m(\u001b[0m\u001b[0mpair_ids\u001b[0m\u001b[0;34m)\u001b[0m \u001b[0;32mif\u001b[0m \u001b[0mpair_ids\u001b[0m \u001b[0;32mis\u001b[0m \u001b[0;32mnot\u001b[0m \u001b[0;32mNone\u001b[0m \u001b[0;32melse\u001b[0m \u001b[0;32mNone\u001b[0m\u001b[0;34m\u001b[0m\u001b[0;34m\u001b[0m\u001b[0m\n\u001b[1;32m    551\u001b[0m             \u001b[0minput_ids\u001b[0m\u001b[0;34m.\u001b[0m\u001b[0mappend\u001b[0m\u001b[0;34m(\u001b[0m\u001b[0;34m(\u001b[0m\u001b[0mfirst_ids\u001b[0m\u001b[0;34m,\u001b[0m \u001b[0msecond_ids\u001b[0m\u001b[0;34m)\u001b[0m\u001b[0;34m)\u001b[0m\u001b[0;34m\u001b[0m\u001b[0;34m\u001b[0m\u001b[0m\n",
      "\u001b[0;32m~/anaconda3/lib/python3.7/site-packages/transformers/tokenization_utils.py\u001b[0m in \u001b[0;36mget_input_ids\u001b[0;34m(text)\u001b[0m\n\u001b[1;32m    507\u001b[0m         \u001b[0;32mdef\u001b[0m \u001b[0mget_input_ids\u001b[0m\u001b[0;34m(\u001b[0m\u001b[0mtext\u001b[0m\u001b[0;34m)\u001b[0m\u001b[0;34m:\u001b[0m\u001b[0;34m\u001b[0m\u001b[0;34m\u001b[0m\u001b[0m\n\u001b[1;32m    508\u001b[0m             \u001b[0;32mif\u001b[0m \u001b[0misinstance\u001b[0m\u001b[0;34m(\u001b[0m\u001b[0mtext\u001b[0m\u001b[0;34m,\u001b[0m \u001b[0mstr\u001b[0m\u001b[0;34m)\u001b[0m\u001b[0;34m:\u001b[0m\u001b[0;34m\u001b[0m\u001b[0;34m\u001b[0m\u001b[0m\n\u001b[0;32m--> 509\u001b[0;31m                 \u001b[0mtokens\u001b[0m \u001b[0;34m=\u001b[0m \u001b[0mself\u001b[0m\u001b[0;34m.\u001b[0m\u001b[0mtokenize\u001b[0m\u001b[0;34m(\u001b[0m\u001b[0mtext\u001b[0m\u001b[0;34m,\u001b[0m \u001b[0;34m**\u001b[0m\u001b[0mkwargs\u001b[0m\u001b[0;34m)\u001b[0m\u001b[0;34m\u001b[0m\u001b[0;34m\u001b[0m\u001b[0m\n\u001b[0m\u001b[1;32m    510\u001b[0m                 \u001b[0;32mreturn\u001b[0m \u001b[0mself\u001b[0m\u001b[0;34m.\u001b[0m\u001b[0mconvert_tokens_to_ids\u001b[0m\u001b[0;34m(\u001b[0m\u001b[0mtokens\u001b[0m\u001b[0;34m)\u001b[0m\u001b[0;34m\u001b[0m\u001b[0;34m\u001b[0m\u001b[0m\n\u001b[1;32m    511\u001b[0m             \u001b[0;32melif\u001b[0m \u001b[0misinstance\u001b[0m\u001b[0;34m(\u001b[0m\u001b[0mtext\u001b[0m\u001b[0;34m,\u001b[0m \u001b[0;34m(\u001b[0m\u001b[0mlist\u001b[0m\u001b[0;34m,\u001b[0m \u001b[0mtuple\u001b[0m\u001b[0;34m)\u001b[0m\u001b[0;34m)\u001b[0m \u001b[0;32mand\u001b[0m \u001b[0mlen\u001b[0m\u001b[0;34m(\u001b[0m\u001b[0mtext\u001b[0m\u001b[0;34m)\u001b[0m \u001b[0;34m>\u001b[0m \u001b[0;36m0\u001b[0m \u001b[0;32mand\u001b[0m \u001b[0misinstance\u001b[0m\u001b[0;34m(\u001b[0m\u001b[0mtext\u001b[0m\u001b[0;34m[\u001b[0m\u001b[0;36m0\u001b[0m\u001b[0;34m]\u001b[0m\u001b[0;34m,\u001b[0m \u001b[0mstr\u001b[0m\u001b[0;34m)\u001b[0m\u001b[0;34m:\u001b[0m\u001b[0;34m\u001b[0m\u001b[0;34m\u001b[0m\u001b[0m\n",
      "\u001b[0;32m~/anaconda3/lib/python3.7/site-packages/transformers/tokenization_utils.py\u001b[0m in \u001b[0;36mtokenize\u001b[0;34m(self, text, **kwargs)\u001b[0m\n\u001b[1;32m    350\u001b[0m \u001b[0;34m\u001b[0m\u001b[0m\n\u001b[1;32m    351\u001b[0m         \u001b[0mno_split_token\u001b[0m \u001b[0;34m=\u001b[0m \u001b[0mself\u001b[0m\u001b[0;34m.\u001b[0m\u001b[0munique_no_split_tokens\u001b[0m\u001b[0;34m\u001b[0m\u001b[0;34m\u001b[0m\u001b[0m\n\u001b[0;32m--> 352\u001b[0;31m         \u001b[0mtokenized_text\u001b[0m \u001b[0;34m=\u001b[0m \u001b[0msplit_on_tokens\u001b[0m\u001b[0;34m(\u001b[0m\u001b[0mno_split_token\u001b[0m\u001b[0;34m,\u001b[0m \u001b[0mtext\u001b[0m\u001b[0;34m)\u001b[0m\u001b[0;34m\u001b[0m\u001b[0;34m\u001b[0m\u001b[0m\n\u001b[0m\u001b[1;32m    353\u001b[0m         \u001b[0;32mreturn\u001b[0m \u001b[0mtokenized_text\u001b[0m\u001b[0;34m\u001b[0m\u001b[0;34m\u001b[0m\u001b[0m\n\u001b[1;32m    354\u001b[0m \u001b[0;34m\u001b[0m\u001b[0m\n",
      "\u001b[0;32m~/anaconda3/lib/python3.7/site-packages/transformers/tokenization_utils.py\u001b[0m in \u001b[0;36msplit_on_tokens\u001b[0;34m(tok_list, text)\u001b[0m\n\u001b[1;32m    344\u001b[0m                     (\n\u001b[1;32m    345\u001b[0m                         \u001b[0mself\u001b[0m\u001b[0;34m.\u001b[0m\u001b[0m_tokenize\u001b[0m\u001b[0;34m(\u001b[0m\u001b[0mtoken\u001b[0m\u001b[0;34m)\u001b[0m \u001b[0;32mif\u001b[0m \u001b[0mtoken\u001b[0m \u001b[0;32mnot\u001b[0m \u001b[0;32min\u001b[0m \u001b[0mself\u001b[0m\u001b[0;34m.\u001b[0m\u001b[0munique_no_split_tokens\u001b[0m \u001b[0;32melse\u001b[0m \u001b[0;34m[\u001b[0m\u001b[0mtoken\u001b[0m\u001b[0;34m]\u001b[0m\u001b[0;34m\u001b[0m\u001b[0;34m\u001b[0m\u001b[0m\n\u001b[0;32m--> 346\u001b[0;31m                         \u001b[0;32mfor\u001b[0m \u001b[0mtoken\u001b[0m \u001b[0;32min\u001b[0m \u001b[0mtokenized_text\u001b[0m\u001b[0;34m\u001b[0m\u001b[0;34m\u001b[0m\u001b[0m\n\u001b[0m\u001b[1;32m    347\u001b[0m                     )\n\u001b[1;32m    348\u001b[0m                 )\n",
      "\u001b[0;32m~/anaconda3/lib/python3.7/site-packages/transformers/tokenization_utils.py\u001b[0m in \u001b[0;36m<genexpr>\u001b[0;34m(.0)\u001b[0m\n\u001b[1;32m    344\u001b[0m                     (\n\u001b[1;32m    345\u001b[0m                         \u001b[0mself\u001b[0m\u001b[0;34m.\u001b[0m\u001b[0m_tokenize\u001b[0m\u001b[0;34m(\u001b[0m\u001b[0mtoken\u001b[0m\u001b[0;34m)\u001b[0m \u001b[0;32mif\u001b[0m \u001b[0mtoken\u001b[0m \u001b[0;32mnot\u001b[0m \u001b[0;32min\u001b[0m \u001b[0mself\u001b[0m\u001b[0;34m.\u001b[0m\u001b[0munique_no_split_tokens\u001b[0m \u001b[0;32melse\u001b[0m \u001b[0;34m[\u001b[0m\u001b[0mtoken\u001b[0m\u001b[0;34m]\u001b[0m\u001b[0;34m\u001b[0m\u001b[0;34m\u001b[0m\u001b[0m\n\u001b[0;32m--> 346\u001b[0;31m                         \u001b[0;32mfor\u001b[0m \u001b[0mtoken\u001b[0m \u001b[0;32min\u001b[0m \u001b[0mtokenized_text\u001b[0m\u001b[0;34m\u001b[0m\u001b[0;34m\u001b[0m\u001b[0m\n\u001b[0m\u001b[1;32m    347\u001b[0m                     )\n\u001b[1;32m    348\u001b[0m                 )\n",
      "\u001b[0;32m~/anaconda3/lib/python3.7/site-packages/transformers/tokenization_bert.py\u001b[0m in \u001b[0;36m_tokenize\u001b[0;34m(self, text)\u001b[0m\n\u001b[1;32m    222\u001b[0m         \u001b[0msplit_tokens\u001b[0m \u001b[0;34m=\u001b[0m \u001b[0;34m[\u001b[0m\u001b[0;34m]\u001b[0m\u001b[0;34m\u001b[0m\u001b[0;34m\u001b[0m\u001b[0m\n\u001b[1;32m    223\u001b[0m         \u001b[0;32mif\u001b[0m \u001b[0mself\u001b[0m\u001b[0;34m.\u001b[0m\u001b[0mdo_basic_tokenize\u001b[0m\u001b[0;34m:\u001b[0m\u001b[0;34m\u001b[0m\u001b[0;34m\u001b[0m\u001b[0m\n\u001b[0;32m--> 224\u001b[0;31m             \u001b[0;32mfor\u001b[0m \u001b[0mtoken\u001b[0m \u001b[0;32min\u001b[0m \u001b[0mself\u001b[0m\u001b[0;34m.\u001b[0m\u001b[0mbasic_tokenizer\u001b[0m\u001b[0;34m.\u001b[0m\u001b[0mtokenize\u001b[0m\u001b[0;34m(\u001b[0m\u001b[0mtext\u001b[0m\u001b[0;34m,\u001b[0m \u001b[0mnever_split\u001b[0m\u001b[0;34m=\u001b[0m\u001b[0mself\u001b[0m\u001b[0;34m.\u001b[0m\u001b[0mall_special_tokens\u001b[0m\u001b[0;34m)\u001b[0m\u001b[0;34m:\u001b[0m\u001b[0;34m\u001b[0m\u001b[0;34m\u001b[0m\u001b[0m\n\u001b[0m\u001b[1;32m    225\u001b[0m \u001b[0;34m\u001b[0m\u001b[0m\n\u001b[1;32m    226\u001b[0m                 \u001b[0;31m# If the token is part of the never_split set\u001b[0m\u001b[0;34m\u001b[0m\u001b[0;34m\u001b[0m\u001b[0;34m\u001b[0m\u001b[0m\n",
      "\u001b[0;32m~/anaconda3/lib/python3.7/site-packages/transformers/tokenization_bert.py\u001b[0m in \u001b[0;36mtokenize\u001b[0;34m(self, text, never_split)\u001b[0m\n\u001b[1;32m    393\u001b[0m         \u001b[0;31m# union() returns a new set by concatenating the two sets.\u001b[0m\u001b[0;34m\u001b[0m\u001b[0;34m\u001b[0m\u001b[0;34m\u001b[0m\u001b[0m\n\u001b[1;32m    394\u001b[0m         \u001b[0mnever_split\u001b[0m \u001b[0;34m=\u001b[0m \u001b[0mself\u001b[0m\u001b[0;34m.\u001b[0m\u001b[0mnever_split\u001b[0m\u001b[0;34m.\u001b[0m\u001b[0munion\u001b[0m\u001b[0;34m(\u001b[0m\u001b[0mset\u001b[0m\u001b[0;34m(\u001b[0m\u001b[0mnever_split\u001b[0m\u001b[0;34m)\u001b[0m\u001b[0;34m)\u001b[0m \u001b[0;32mif\u001b[0m \u001b[0mnever_split\u001b[0m \u001b[0;32melse\u001b[0m \u001b[0mself\u001b[0m\u001b[0;34m.\u001b[0m\u001b[0mnever_split\u001b[0m\u001b[0;34m\u001b[0m\u001b[0;34m\u001b[0m\u001b[0m\n\u001b[0;32m--> 395\u001b[0;31m         \u001b[0mtext\u001b[0m \u001b[0;34m=\u001b[0m \u001b[0mself\u001b[0m\u001b[0;34m.\u001b[0m\u001b[0m_clean_text\u001b[0m\u001b[0;34m(\u001b[0m\u001b[0mtext\u001b[0m\u001b[0;34m)\u001b[0m\u001b[0;34m\u001b[0m\u001b[0;34m\u001b[0m\u001b[0m\n\u001b[0m\u001b[1;32m    396\u001b[0m \u001b[0;34m\u001b[0m\u001b[0m\n\u001b[1;32m    397\u001b[0m         \u001b[0;31m# This was added on November 1st, 2018 for the multilingual and Chinese\u001b[0m\u001b[0;34m\u001b[0m\u001b[0;34m\u001b[0m\u001b[0;34m\u001b[0m\u001b[0m\n",
      "\u001b[0;32m~/anaconda3/lib/python3.7/site-packages/transformers/tokenization_bert.py\u001b[0m in \u001b[0;36m_clean_text\u001b[0;34m(self, text)\u001b[0m\n\u001b[1;32m    491\u001b[0m         \u001b[0;34m\"\"\"Performs invalid character removal and whitespace cleanup on text.\"\"\"\u001b[0m\u001b[0;34m\u001b[0m\u001b[0;34m\u001b[0m\u001b[0m\n\u001b[1;32m    492\u001b[0m         \u001b[0moutput\u001b[0m \u001b[0;34m=\u001b[0m \u001b[0;34m[\u001b[0m\u001b[0;34m]\u001b[0m\u001b[0;34m\u001b[0m\u001b[0;34m\u001b[0m\u001b[0m\n\u001b[0;32m--> 493\u001b[0;31m         \u001b[0;32mfor\u001b[0m \u001b[0mchar\u001b[0m \u001b[0;32min\u001b[0m \u001b[0mtext\u001b[0m\u001b[0;34m:\u001b[0m\u001b[0;34m\u001b[0m\u001b[0;34m\u001b[0m\u001b[0m\n\u001b[0m\u001b[1;32m    494\u001b[0m             \u001b[0mcp\u001b[0m \u001b[0;34m=\u001b[0m \u001b[0mord\u001b[0m\u001b[0;34m(\u001b[0m\u001b[0mchar\u001b[0m\u001b[0;34m)\u001b[0m\u001b[0;34m\u001b[0m\u001b[0;34m\u001b[0m\u001b[0m\n\u001b[1;32m    495\u001b[0m             \u001b[0;32mif\u001b[0m \u001b[0mcp\u001b[0m \u001b[0;34m==\u001b[0m \u001b[0;36m0\u001b[0m \u001b[0;32mor\u001b[0m \u001b[0mcp\u001b[0m \u001b[0;34m==\u001b[0m \u001b[0;36m0xFFFD\u001b[0m \u001b[0;32mor\u001b[0m \u001b[0m_is_control\u001b[0m\u001b[0;34m(\u001b[0m\u001b[0mchar\u001b[0m\u001b[0;34m)\u001b[0m\u001b[0;34m:\u001b[0m\u001b[0;34m\u001b[0m\u001b[0;34m\u001b[0m\u001b[0m\n",
      "\u001b[0;31mKeyboardInterrupt\u001b[0m: "
     ]
    }
   ],
   "source": [
    "model = NNclf(device=DEVICE).to(DEVICE)\n",
    "criterion = nn.CrossEntropyLoss()\n",
    "optimizer = torch.optim.Adam(model.parameters(), lr=1e-5)\n",
    "\n",
    "for epoch in tqdm(range(EPOCHS)):\n",
    "    \n",
    "#     model.bmodel.train()\n",
    "    epoch_loss = 0\n",
    "    epoch_accuracy = 0\n",
    "    iterations = 0\n",
    "    for i, batch in tqdm(enumerate(iterate_minibatches([train_X, train_y], batch_size=BATCH_SIZE))):\n",
    "        pred = model(batch)\n",
    "        y = torch.tensor(batch[1], dtype=torch.long, device=DEVICE)\n",
    "        loss = criterion(pred, y)\n",
    "        accuracy = torch.mean((torch.argmax(pred, axis=-1).float() == y.float()).float())\n",
    "        optimizer.zero_grad()\n",
    "        loss.backward()\n",
    "        optimizer.step()\n",
    "        epoch_loss += loss\n",
    "        epoch_accuracy += accuracy\n",
    "        iterations += 1\n",
    "    \n",
    "#     if epoch % 10 == 0:\n",
    "    print(f\"epoch: {epoch}\")\n",
    "    print(\"train results:\")\n",
    "    print(\"loss: \", epoch_loss.detach().cpu().numpy() / iterations)\n",
    "    print(\"accuracy:\", epoch_accuracy.detach().cpu().numpy() / iterations)    \n",
    "    print_metrics(model, [val_X, val_y])"
   ]
  },
  {
   "cell_type": "code",
   "execution_count": 55,
   "metadata": {},
   "outputs": [],
   "source": [
    "predicted_classes = model.predict(test_X)\n",
    "\n",
    "make_submit(predicted_classes, 'dp_rubert_finetuned_nnclassifier')"
   ]
  },
  {
   "cell_type": "markdown",
   "metadata": {},
   "source": [
    "---"
   ]
  },
  {
   "cell_type": "code",
   "execution_count": 21,
   "metadata": {},
   "outputs": [],
   "source": [
    "class NNclf2(nn.Module):\n",
    "    def __init__(self, emb_dim=768, device=torch.device('cuda')):\n",
    "        super().__init__()\n",
    "        \n",
    "        self.device = device\n",
    "        \n",
    "        self.tokenizer = AutoTokenizer.from_pretrained(\"DeepPavlov/rubert-base-cased-sentence\")\n",
    "        self.bmodel = AutoModel.from_pretrained(\"DeepPavlov/rubert-base-cased-sentence\", return_dict=True)\n",
    "#         self.bmodel.eval()\n",
    "        _ = self.bmodel.to('cuda')\n",
    "        \n",
    "#         for param in self.bmodel.base_model.parameters():\n",
    "#             param.requires_grad = False\n",
    "        \n",
    "        self.final_predictor = nn.Sequential(\n",
    "            nn.Linear(2 * emb_dim, 128),\n",
    "            nn.Tanh(),\n",
    "            nn.Linear(128, 2)\n",
    "        )\n",
    "        \n",
    "    def forward(self, batch):\n",
    "        premise = list(batch[0][:, 0])\n",
    "        hypothesis = list(batch[0][:, 1])\n",
    "        \n",
    "        embeds_premise = self.bmodel(**self.tokenizer(premise, return_tensors='pt', padding=True).to('cuda'))\n",
    "        embeds_premise = embeds_premise.last_hidden_state[:, 0, :]\n",
    "        \n",
    "        embeds_hypothesis = self.bmodel(**self.tokenizer(hypothesis, return_tensors='pt', padding=True).to('cuda'))\n",
    "        embeds_hypothesis = embeds_hypothesis.last_hidden_state[:, 0, :]\n",
    "        \n",
    "        return self.final_predictor(torch.cat((embeds_premise, embeds_hypothesis), dim=-1))\n",
    "        \n",
    "    \n",
    "    def predict(self, data):\n",
    "        answer = []\n",
    "        for item in data:\n",
    "            pred = torch.argmax(self.forward(np.array([[item]])))\n",
    "            answer.append(pred.detach().cpu().numpy())\n",
    "        return answer"
   ]
  },
  {
   "cell_type": "code",
   "execution_count": 22,
   "metadata": {
    "scrolled": false
   },
   "outputs": [
    {
     "data": {
      "application/vnd.jupyter.widget-view+json": {
       "model_id": "ab4fe2035b99474d84f575a717da4e1e",
       "version_major": 2,
       "version_minor": 0
      },
      "text/plain": [
       "HBox(children=(FloatProgress(value=0.0), HTML(value='')))"
      ]
     },
     "metadata": {},
     "output_type": "display_data"
    },
    {
     "data": {
      "application/vnd.jupyter.widget-view+json": {
       "model_id": "6bec3be7486a44fb8f43c0d2f3fb8f5b",
       "version_major": 2,
       "version_minor": 0
      },
      "text/plain": [
       "HBox(children=(FloatProgress(value=1.0, bar_style='info', max=1.0), HTML(value='')))"
      ]
     },
     "metadata": {},
     "output_type": "display_data"
    },
    {
     "name": "stdout",
     "output_type": "stream",
     "text": [
      "\n",
      "epoch: 0\n",
      "train results:\n",
      "loss:  0.6788626854572821\n",
      "accuracy: 0.5814220183486238\n",
      " val results:\n",
      "loss: 0.65845\n",
      "accuracy: 0.57799\n"
     ]
    },
    {
     "data": {
      "application/vnd.jupyter.widget-view+json": {
       "model_id": "24e8ea495a704717b9025b6115a1ae7e",
       "version_major": 2,
       "version_minor": 0
      },
      "text/plain": [
       "HBox(children=(FloatProgress(value=1.0, bar_style='info', max=1.0), HTML(value='')))"
      ]
     },
     "metadata": {},
     "output_type": "display_data"
    },
    {
     "name": "stdout",
     "output_type": "stream",
     "text": [
      "\n",
      "epoch: 1\n",
      "train results:\n",
      "loss:  0.5740310715608276\n",
      "accuracy: 0.7033639143730887\n",
      " val results:\n",
      "loss: 0.73524\n",
      "accuracy: 0.58868\n"
     ]
    },
    {
     "data": {
      "application/vnd.jupyter.widget-view+json": {
       "model_id": "4432c1f7d61c4fa59e952678d4925caa",
       "version_major": 2,
       "version_minor": 0
      },
      "text/plain": [
       "HBox(children=(FloatProgress(value=1.0, bar_style='info', max=1.0), HTML(value='')))"
      ]
     },
     "metadata": {},
     "output_type": "display_data"
    },
    {
     "name": "stdout",
     "output_type": "stream",
     "text": [
      "\n",
      "epoch: 2\n",
      "train results:\n",
      "loss:  0.3681404510404721\n",
      "accuracy: 0.8436544342507645\n",
      " val results:\n",
      "loss: 1.01143\n",
      "accuracy: 0.55449\n"
     ]
    },
    {
     "data": {
      "application/vnd.jupyter.widget-view+json": {
       "model_id": "9e1a1eb5e7d84e1595c671a8af8fdd52",
       "version_major": 2,
       "version_minor": 0
      },
      "text/plain": [
       "HBox(children=(FloatProgress(value=1.0, bar_style='info', max=1.0), HTML(value='')))"
      ]
     },
     "metadata": {},
     "output_type": "display_data"
    },
    {
     "name": "stdout",
     "output_type": "stream",
     "text": [
      "\n"
     ]
    },
    {
     "ename": "KeyboardInterrupt",
     "evalue": "",
     "output_type": "error",
     "traceback": [
      "\u001b[0;31m---------------------------------------------------------------------------\u001b[0m",
      "\u001b[0;31mKeyboardInterrupt\u001b[0m                         Traceback (most recent call last)",
      "\u001b[0;32m<ipython-input-22-877bc4824515>\u001b[0m in \u001b[0;36m<module>\u001b[0;34m\u001b[0m\n\u001b[1;32m     16\u001b[0m         \u001b[0moptimizer\u001b[0m\u001b[0;34m.\u001b[0m\u001b[0mzero_grad\u001b[0m\u001b[0;34m(\u001b[0m\u001b[0;34m)\u001b[0m\u001b[0;34m\u001b[0m\u001b[0;34m\u001b[0m\u001b[0m\n\u001b[1;32m     17\u001b[0m         \u001b[0mloss\u001b[0m\u001b[0;34m.\u001b[0m\u001b[0mbackward\u001b[0m\u001b[0;34m(\u001b[0m\u001b[0;34m)\u001b[0m\u001b[0;34m\u001b[0m\u001b[0;34m\u001b[0m\u001b[0m\n\u001b[0;32m---> 18\u001b[0;31m         \u001b[0moptimizer\u001b[0m\u001b[0;34m.\u001b[0m\u001b[0mstep\u001b[0m\u001b[0;34m(\u001b[0m\u001b[0;34m)\u001b[0m\u001b[0;34m\u001b[0m\u001b[0;34m\u001b[0m\u001b[0m\n\u001b[0m\u001b[1;32m     19\u001b[0m         \u001b[0mepoch_loss\u001b[0m \u001b[0;34m+=\u001b[0m \u001b[0mloss\u001b[0m\u001b[0;34m\u001b[0m\u001b[0;34m\u001b[0m\u001b[0m\n\u001b[1;32m     20\u001b[0m         \u001b[0mepoch_accuracy\u001b[0m \u001b[0;34m+=\u001b[0m \u001b[0maccuracy\u001b[0m\u001b[0;34m\u001b[0m\u001b[0;34m\u001b[0m\u001b[0m\n",
      "\u001b[0;32m~/anaconda3/lib/python3.7/site-packages/torch/autograd/grad_mode.py\u001b[0m in \u001b[0;36mdecorate_context\u001b[0;34m(*args, **kwargs)\u001b[0m\n\u001b[1;32m     24\u001b[0m         \u001b[0;32mdef\u001b[0m \u001b[0mdecorate_context\u001b[0m\u001b[0;34m(\u001b[0m\u001b[0;34m*\u001b[0m\u001b[0margs\u001b[0m\u001b[0;34m,\u001b[0m \u001b[0;34m**\u001b[0m\u001b[0mkwargs\u001b[0m\u001b[0;34m)\u001b[0m\u001b[0;34m:\u001b[0m\u001b[0;34m\u001b[0m\u001b[0;34m\u001b[0m\u001b[0m\n\u001b[1;32m     25\u001b[0m             \u001b[0;32mwith\u001b[0m \u001b[0mself\u001b[0m\u001b[0;34m.\u001b[0m\u001b[0m__class__\u001b[0m\u001b[0;34m(\u001b[0m\u001b[0;34m)\u001b[0m\u001b[0;34m:\u001b[0m\u001b[0;34m\u001b[0m\u001b[0;34m\u001b[0m\u001b[0m\n\u001b[0;32m---> 26\u001b[0;31m                 \u001b[0;32mreturn\u001b[0m \u001b[0mfunc\u001b[0m\u001b[0;34m(\u001b[0m\u001b[0;34m*\u001b[0m\u001b[0margs\u001b[0m\u001b[0;34m,\u001b[0m \u001b[0;34m**\u001b[0m\u001b[0mkwargs\u001b[0m\u001b[0;34m)\u001b[0m\u001b[0;34m\u001b[0m\u001b[0;34m\u001b[0m\u001b[0m\n\u001b[0m\u001b[1;32m     27\u001b[0m         \u001b[0;32mreturn\u001b[0m \u001b[0mcast\u001b[0m\u001b[0;34m(\u001b[0m\u001b[0mF\u001b[0m\u001b[0;34m,\u001b[0m \u001b[0mdecorate_context\u001b[0m\u001b[0;34m)\u001b[0m\u001b[0;34m\u001b[0m\u001b[0;34m\u001b[0m\u001b[0m\n\u001b[1;32m     28\u001b[0m \u001b[0;34m\u001b[0m\u001b[0m\n",
      "\u001b[0;32m~/anaconda3/lib/python3.7/site-packages/torch/optim/adam.py\u001b[0m in \u001b[0;36mstep\u001b[0;34m(self, closure)\u001b[0m\n\u001b[1;32m    117\u001b[0m                    \u001b[0mgroup\u001b[0m\u001b[0;34m[\u001b[0m\u001b[0;34m'lr'\u001b[0m\u001b[0;34m]\u001b[0m\u001b[0;34m,\u001b[0m\u001b[0;34m\u001b[0m\u001b[0;34m\u001b[0m\u001b[0m\n\u001b[1;32m    118\u001b[0m                    \u001b[0mgroup\u001b[0m\u001b[0;34m[\u001b[0m\u001b[0;34m'weight_decay'\u001b[0m\u001b[0;34m]\u001b[0m\u001b[0;34m,\u001b[0m\u001b[0;34m\u001b[0m\u001b[0;34m\u001b[0m\u001b[0m\n\u001b[0;32m--> 119\u001b[0;31m                    \u001b[0mgroup\u001b[0m\u001b[0;34m[\u001b[0m\u001b[0;34m'eps'\u001b[0m\u001b[0;34m]\u001b[0m\u001b[0;34m\u001b[0m\u001b[0;34m\u001b[0m\u001b[0m\n\u001b[0m\u001b[1;32m    120\u001b[0m                    )\n\u001b[1;32m    121\u001b[0m         \u001b[0;32mreturn\u001b[0m \u001b[0mloss\u001b[0m\u001b[0;34m\u001b[0m\u001b[0;34m\u001b[0m\u001b[0m\n",
      "\u001b[0;32m~/anaconda3/lib/python3.7/site-packages/torch/optim/functional.py\u001b[0m in \u001b[0;36madam\u001b[0;34m(params, grads, exp_avgs, exp_avg_sqs, max_exp_avg_sqs, state_steps, amsgrad, beta1, beta2, lr, weight_decay, eps)\u001b[0m\n\u001b[1;32m     96\u001b[0m         \u001b[0mstep_size\u001b[0m \u001b[0;34m=\u001b[0m \u001b[0mlr\u001b[0m \u001b[0;34m/\u001b[0m \u001b[0mbias_correction1\u001b[0m\u001b[0;34m\u001b[0m\u001b[0;34m\u001b[0m\u001b[0m\n\u001b[1;32m     97\u001b[0m \u001b[0;34m\u001b[0m\u001b[0m\n\u001b[0;32m---> 98\u001b[0;31m         \u001b[0mparam\u001b[0m\u001b[0;34m.\u001b[0m\u001b[0maddcdiv_\u001b[0m\u001b[0;34m(\u001b[0m\u001b[0mexp_avg\u001b[0m\u001b[0;34m,\u001b[0m \u001b[0mdenom\u001b[0m\u001b[0;34m,\u001b[0m \u001b[0mvalue\u001b[0m\u001b[0;34m=\u001b[0m\u001b[0;34m-\u001b[0m\u001b[0mstep_size\u001b[0m\u001b[0;34m)\u001b[0m\u001b[0;34m\u001b[0m\u001b[0;34m\u001b[0m\u001b[0m\n\u001b[0m",
      "\u001b[0;31mKeyboardInterrupt\u001b[0m: "
     ]
    }
   ],
   "source": [
    "model = NNclf2(device=DEVICE).to(DEVICE)\n",
    "criterion = nn.CrossEntropyLoss()\n",
    "optimizer = torch.optim.Adam(model.parameters(), lr=1e-5)\n",
    "\n",
    "for epoch in tqdm(range(EPOCHS)):\n",
    "    \n",
    "    model.bmodel.train()\n",
    "    epoch_loss = 0\n",
    "    epoch_accuracy = 0\n",
    "    iterations = 0\n",
    "    for i, batch in tqdm(enumerate(iterate_minibatches([train_X, train_y], batch_size=BATCH_SIZE))):\n",
    "        pred = model(batch)\n",
    "        y = torch.tensor(batch[1], dtype=torch.long, device=DEVICE)\n",
    "        loss = criterion(pred, y)\n",
    "        accuracy = torch.mean((torch.argmax(pred, axis=-1).float() == y.float()).float())\n",
    "        optimizer.zero_grad()\n",
    "        loss.backward()\n",
    "        optimizer.step()\n",
    "        epoch_loss += loss\n",
    "        epoch_accuracy += accuracy\n",
    "        iterations += 1\n",
    "    \n",
    "#     if epoch % 10 == 0:\n",
    "    print(f\"epoch: {epoch}\")\n",
    "    print(\"train results:\")\n",
    "    print(\"loss: \", epoch_loss.detach().cpu().numpy() / iterations)\n",
    "    print(\"accuracy:\", epoch_accuracy.detach().cpu().numpy() / iterations)    \n",
    "    print_metrics(model, [val_X, val_y])"
   ]
  },
  {
   "cell_type": "code",
   "execution_count": null,
   "metadata": {},
   "outputs": [],
   "source": []
  }
 ],
 "metadata": {
  "kernelspec": {
   "display_name": "Python 3",
   "language": "python",
   "name": "python3"
  },
  "language_info": {
   "codemirror_mode": {
    "name": "ipython",
    "version": 3
   },
   "file_extension": ".py",
   "mimetype": "text/x-python",
   "name": "python",
   "nbconvert_exporter": "python",
   "pygments_lexer": "ipython3",
   "version": "3.7.4"
  }
 },
 "nbformat": 4,
 "nbformat_minor": 2
}
